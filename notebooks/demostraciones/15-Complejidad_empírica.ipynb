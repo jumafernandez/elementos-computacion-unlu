{
  "nbformat": 4,
  "nbformat_minor": 0,
  "metadata": {
    "colab": {
      "provenance": [],
      "include_colab_link": true
    },
    "kernelspec": {
      "name": "python3",
      "display_name": "Python 3"
    },
    "language_info": {
      "name": "python"
    }
  },
  "cells": [
    {
      "cell_type": "markdown",
      "metadata": {
        "id": "view-in-github",
        "colab_type": "text"
      },
      "source": [
        "<a href=\"https://colab.research.google.com/github/jumafernandez/elementos-computacion-unlu/blob/main/notebooks/demostraciones/15-Complejidad_emp%C3%ADrica.ipynb\" target=\"_parent\"><img src=\"https://colab.research.google.com/assets/colab-badge.svg\" alt=\"Open In Colab\"/></a>"
      ]
    },
    {
      "cell_type": "markdown",
      "source": [
        "# Complejidad computacional\n",
        "\n",
        "## Midiendo la complejidad temporal en forma empírica\n",
        "\n",
        "Si ponemos %time medimos cuánto tarda en ejecutar esa línea."
      ],
      "metadata": {
        "id": "IdNHEOX3kBf-"
      }
    },
    {
      "cell_type": "code",
      "source": [
        "%time sum(range(5))"
      ],
      "metadata": {
        "colab": {
          "base_uri": "https://localhost:8080/"
        },
        "id": "U7Mr65qxiA9b",
        "outputId": "94144ff6-664f-46ad-a2c7-27c5fee3a2c9"
      },
      "execution_count": 1,
      "outputs": [
        {
          "output_type": "stream",
          "name": "stdout",
          "text": [
            "CPU times: user 5 µs, sys: 0 ns, total: 5 µs\n",
            "Wall time: 8.11 µs\n"
          ]
        },
        {
          "output_type": "execute_result",
          "data": {
            "text/plain": [
              "10"
            ]
          },
          "metadata": {},
          "execution_count": 1
        }
      ]
    },
    {
      "cell_type": "code",
      "execution_count": 2,
      "metadata": {
        "colab": {
          "base_uri": "https://localhost:8080/"
        },
        "id": "zRDBzG5LdwP_",
        "outputId": "579a6c0d-b8ff-40a6-c9d8-df340af8e828"
      },
      "outputs": [
        {
          "output_type": "stream",
          "name": "stdout",
          "text": [
            "CPU times: user 6 µs, sys: 0 ns, total: 6 µs\n",
            "Wall time: 8.58 µs\n"
          ]
        },
        {
          "output_type": "execute_result",
          "data": {
            "text/plain": [
              "19900"
            ]
          },
          "metadata": {},
          "execution_count": 2
        }
      ],
      "source": [
        "%time sum(range(200))"
      ]
    },
    {
      "cell_type": "code",
      "source": [
        "%time sum(range(2000))"
      ],
      "metadata": {
        "colab": {
          "base_uri": "https://localhost:8080/"
        },
        "id": "VYhlBWTAhbbS",
        "outputId": "864e68ab-411c-4cf0-d519-08dfcbc7931d"
      },
      "execution_count": 3,
      "outputs": [
        {
          "output_type": "stream",
          "name": "stdout",
          "text": [
            "CPU times: user 34 µs, sys: 8 µs, total: 42 µs\n",
            "Wall time: 44.8 µs\n"
          ]
        },
        {
          "output_type": "execute_result",
          "data": {
            "text/plain": [
              "1999000"
            ]
          },
          "metadata": {},
          "execution_count": 3
        }
      ]
    },
    {
      "cell_type": "code",
      "source": [
        "%time sum(range(20000))"
      ],
      "metadata": {
        "colab": {
          "base_uri": "https://localhost:8080/"
        },
        "id": "1MW0P7dNhiJa",
        "outputId": "d69540d4-4603-4cc5-b4bd-b6787d3d78a8"
      },
      "execution_count": 4,
      "outputs": [
        {
          "output_type": "stream",
          "name": "stdout",
          "text": [
            "CPU times: user 337 µs, sys: 74 µs, total: 411 µs\n",
            "Wall time: 478 µs\n"
          ]
        },
        {
          "output_type": "execute_result",
          "data": {
            "text/plain": [
              "199990000"
            ]
          },
          "metadata": {},
          "execution_count": 4
        }
      ]
    },
    {
      "cell_type": "markdown",
      "source": [
        "Si ponemos %%time mide cuánto tarda en ejecutar todas las instrucciones que están en esa celda."
      ],
      "metadata": {
        "id": "v9tH9rcPkpJR"
      }
    },
    {
      "cell_type": "code",
      "source": [
        "%%time\n",
        "s = 0\n",
        "for i in range(200):\n",
        "    s += i"
      ],
      "metadata": {
        "colab": {
          "base_uri": "https://localhost:8080/"
        },
        "id": "KPMNQpvtuDob",
        "outputId": "c0375193-7960-41b7-8d2a-4092ed8a14ab"
      },
      "execution_count": 5,
      "outputs": [
        {
          "output_type": "stream",
          "name": "stdout",
          "text": [
            "CPU times: user 27 µs, sys: 0 ns, total: 27 µs\n",
            "Wall time: 30 µs\n"
          ]
        }
      ]
    },
    {
      "cell_type": "markdown",
      "source": [
        "%timeit ejecuta varias veces la instrucción, para hacer un promedio del tiempo de ejecución."
      ],
      "metadata": {
        "id": "zhKyzrzilFQF"
      }
    },
    {
      "cell_type": "code",
      "source": [
        "%timeit sum(range(200))"
      ],
      "metadata": {
        "colab": {
          "base_uri": "https://localhost:8080/"
        },
        "id": "A4S-AEzKiObD",
        "outputId": "f84e6a8d-bc46-4eef-cb36-ec36ab2af70b"
      },
      "execution_count": 6,
      "outputs": [
        {
          "output_type": "stream",
          "name": "stdout",
          "text": [
            "1.45 µs ± 466 ns per loop (mean ± std. dev. of 7 runs, 1000000 loops each)\n"
          ]
        }
      ]
    },
    {
      "cell_type": "code",
      "source": [
        "%%timeit\n",
        "s = 0\n",
        "for i in range(200):\n",
        "    s += i"
      ],
      "metadata": {
        "colab": {
          "base_uri": "https://localhost:8080/"
        },
        "id": "u11hvTrgw5xs",
        "outputId": "835a3d41-1538-4f6d-e82e-09dc39934632"
      },
      "execution_count": 7,
      "outputs": [
        {
          "output_type": "stream",
          "name": "stdout",
          "text": [
            "5.73 µs ± 62 ns per loop (mean ± std. dev. of 7 runs, 100000 loops each)\n"
          ]
        }
      ]
    },
    {
      "cell_type": "markdown",
      "source": [
        "## Usando el profiler de Python"
      ],
      "metadata": {
        "id": "5WpbNpTUm2eW"
      }
    },
    {
      "cell_type": "code",
      "source": [
        "import numpy as np"
      ],
      "metadata": {
        "id": "CfljZYMR0FRJ"
      },
      "execution_count": 8,
      "outputs": []
    },
    {
      "cell_type": "code",
      "source": [
        "def slow_sum(n, m):\n",
        "\n",
        "    for i in range(n):\n",
        "        # creamos un array de tamaño m , y lo llenamos con números aleatorios\n",
        "        a = np.random.rand(m)\n",
        "\n",
        "        s = 0\n",
        "        # en este ciclo, iteramos en el array, y hacemos la sumatoria de los elementos\n",
        "        for j in range(m):\n",
        "            s += a[j]"
      ],
      "metadata": {
        "id": "Jgozp_EN2nQb"
      },
      "execution_count": 9,
      "outputs": []
    },
    {
      "cell_type": "code",
      "source": [
        "%prun slow_sum(1000, 10000)"
      ],
      "metadata": {
        "colab": {
          "base_uri": "https://localhost:8080/"
        },
        "id": "CXwnI83t2p3k",
        "outputId": "78a872fe-fd99-4fcd-8423-8a180b8fd966"
      },
      "execution_count": 10,
      "outputs": [
        {
          "output_type": "stream",
          "name": "stdout",
          "text": [
            " "
          ]
        }
      ]
    },
    {
      "cell_type": "markdown",
      "source": [
        "## Usando el line profiler"
      ],
      "metadata": {
        "id": "J79qKfYinn01"
      }
    },
    {
      "cell_type": "code",
      "source": [
        "# Correr sólo una vez esta celda\n",
        "!pip install line_profiler"
      ],
      "metadata": {
        "colab": {
          "base_uri": "https://localhost:8080/"
        },
        "id": "zQAjXppW2t5B",
        "outputId": "7f33f2b2-5e3e-4fce-e183-550277f6c748"
      },
      "execution_count": 11,
      "outputs": [
        {
          "output_type": "stream",
          "name": "stdout",
          "text": [
            "Collecting line_profiler\n",
            "  Downloading line_profiler-4.1.1-cp310-cp310-manylinux_2_17_x86_64.manylinux2014_x86_64.whl (709 kB)\n",
            "\u001b[?25l     \u001b[90m━━━━━━━━━━━━━━━━━━━━━━━━━━━━━━━━━━━━━━━━\u001b[0m \u001b[32m0.0/709.4 kB\u001b[0m \u001b[31m?\u001b[0m eta \u001b[36m-:--:--\u001b[0m\r\u001b[2K     \u001b[91m━━━━━━━━━━━━━━━━━━━━━━━━━━━━━━━━━━━━━\u001b[0m\u001b[91m╸\u001b[0m \u001b[32m706.6/709.4 kB\u001b[0m \u001b[31m21.3 MB/s\u001b[0m eta \u001b[36m0:00:01\u001b[0m\r\u001b[2K     \u001b[90m━━━━━━━━━━━━━━━━━━━━━━━━━━━━━━━━━━━━━━\u001b[0m \u001b[32m709.4/709.4 kB\u001b[0m \u001b[31m15.9 MB/s\u001b[0m eta \u001b[36m0:00:00\u001b[0m\n",
            "\u001b[?25hInstalling collected packages: line_profiler\n",
            "Successfully installed line_profiler-4.1.1\n"
          ]
        }
      ]
    },
    {
      "cell_type": "code",
      "source": [
        "%load_ext line_profiler"
      ],
      "metadata": {
        "id": "5fLydFM74VkE"
      },
      "execution_count": 12,
      "outputs": []
    },
    {
      "cell_type": "code",
      "source": [
        "%lprun -f slow_sum slow_sum(1000, 10000)"
      ],
      "metadata": {
        "id": "9W-Jkkvs4oC-"
      },
      "execution_count": 13,
      "outputs": []
    }
  ]
}