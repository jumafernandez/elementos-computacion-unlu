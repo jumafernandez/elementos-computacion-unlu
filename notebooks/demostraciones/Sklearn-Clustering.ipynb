{
  "nbformat": 4,
  "nbformat_minor": 0,
  "metadata": {
    "colab": {
      "name": "Guia-Clustering.ipynb",
      "provenance": [],
      "collapsed_sections": [],
      "include_colab_link": true
    },
    "kernelspec": {
      "name": "python3",
      "display_name": "Python 3"
    }
  },
  "cells": [
    {
      "cell_type": "markdown",
      "metadata": {
        "id": "view-in-github",
        "colab_type": "text"
      },
      "source": [
        "<a href=\"https://colab.research.google.com/github/jumafernandez/BDM/blob/master/Guias/Guia_Clustering.ipynb\" target=\"_parent\"><img src=\"https://colab.research.google.com/assets/colab-badge.svg\" alt=\"Open In Colab\"/></a>"
      ]
    },
    {
      "cell_type": "markdown",
      "metadata": {
        "id": "ioUK9AjVYoTv",
        "colab_type": "text"
      },
      "source": [
        "# Clustering (K-Medias y Jerárquico) con Scikit Learn\n",
        "\n",
        "## Introducción\n",
        "En esta guia vamos a experimientar como trabajar con algoritmos de _clustering_, que son técnicas de aprendizaje automático no supervisado, a partir del dataset iris, con el que ya hemos trabajado algunas cuestiones de análisis exploratorio y clasificación.\n",
        "<br />\n",
        "A lo largo de esta guía veremos:\n",
        "- Como preparar (escalar) datos para un proceso de agrupamiento,\n",
        "- Cuales son los hiper-parámetros mas importantes en clustering,\n",
        "- Como entrenar un algoritmo de _clustering_ con la librería Scikit Learn,\n",
        "- Como graficar los _clusters_ encontrados por el algoritmo,\n",
        "- Como calcular métricas de evaluación del modelo.\n"
      ]
    },
    {
      "cell_type": "markdown",
      "metadata": {
        "id": "IgsMAwCS-mjN",
        "colab_type": "text"
      },
      "source": [
        "En este notebook vamos a utilizar las siguientes librerías:\n",
        "- Scikit-learn y Scipy para el análisis,\n",
        "- Mtplotlib para los gráficos.\n",
        "\n",
        "## Preparando los datos para clustering\n",
        "\n",
        "Para comenzar, importamos del módulo sklearn.datasets la función __load_iris__ para cargar el dataset iris que vamos a utilizar."
      ]
    },
    {
      "cell_type": "code",
      "metadata": {
        "id": "pwc6NwulcY6E",
        "colab_type": "code",
        "colab": {}
      },
      "source": [
        "from sklearn.datasets import load_iris\n",
        "\n",
        "# cargo el dataset\n",
        "iris = load_iris()\n"
      ],
      "execution_count": 0,
      "outputs": []
    },
    {
      "cell_type": "markdown",
      "metadata": {
        "id": "TrY-Krjv_Df1",
        "colab_type": "text"
      },
      "source": [
        "Generalmente, cuando trabajemos con algoritmos de _clustering_, dado que son algoritmos basados en distancias, va a ser fundamental escalar los datos para prescindir de las unidades de medida de las diferentes features. A continuación, escalamos los datos numéricos:"
      ]
    },
    {
      "cell_type": "code",
      "metadata": {
        "id": "m5WWdVuK_VkY",
        "colab_type": "code",
        "outputId": "5bfa5531-c4f5-43d8-dc5e-cfdb7a2617a3",
        "colab": {
          "base_uri": "https://localhost:8080/",
          "height": 238
        }
      },
      "source": [
        "# Importamos dos módulos para escalado, existen más\n",
        "# scale: Center to the mean and component wise scale to unit variance\n",
        "# MinMaxScaler: \n",
        "from sklearn.preprocessing import scale, MinMaxScaler\n",
        "\n",
        "# scale\n",
        "scaled_1 = scale(iris.data)\n",
        "\n",
        "# MinMaxScaler\n",
        "scaler = MinMaxScaler()\n",
        "scaled_2 = scaler.fit_transform(iris.data)\n",
        "\n",
        "# Muestro las primeras 5 filas escaladas con scale\n",
        "print(\"Escalado con scale:\")\n",
        "print(scaled_1[1:6,])\n",
        "\n",
        "# Muestro las primeras 5 filas escaladas con Min-Max\n",
        "print(\"\\nEscalado con Min-Max:\")\n",
        "print(scaled_2[1:6,])\n"
      ],
      "execution_count": 22,
      "outputs": [
        {
          "output_type": "stream",
          "text": [
            "Escalado con scale:\n",
            "[[-1.14301691 -0.13197948 -1.34022653 -1.3154443 ]\n",
            " [-1.38535265  0.32841405 -1.39706395 -1.3154443 ]\n",
            " [-1.50652052  0.09821729 -1.2833891  -1.3154443 ]\n",
            " [-1.02184904  1.24920112 -1.34022653 -1.3154443 ]\n",
            " [-0.53717756  1.93979142 -1.16971425 -1.05217993]]\n",
            "\n",
            "Escalado con Min-Max:\n",
            "[[0.16666667 0.41666667 0.06779661 0.04166667]\n",
            " [0.11111111 0.5        0.05084746 0.04166667]\n",
            " [0.08333333 0.45833333 0.08474576 0.04166667]\n",
            " [0.19444444 0.66666667 0.06779661 0.04166667]\n",
            " [0.30555556 0.79166667 0.11864407 0.125     ]]\n"
          ],
          "name": "stdout"
        }
      ]
    },
    {
      "cell_type": "markdown",
      "metadata": {
        "id": "3Zn28YoRdRzu",
        "colab_type": "text"
      },
      "source": [
        "## Algoritmo K-Medias\n",
        "\n",
        "### Entrenando el modelo\n",
        "\n",
        "Para entrenar un cluster k-means,  debemos importar _KMeans_ del módulo sklearn.cluster.\n",
        "\n",
        "Este algoritmo posee diferentes hiper-parámetros que se pueden configurar:\n",
        "\n",
        "- __init:__ es el método de inicialización de los centroides. En este caso definimos _random_ para que se seleccionen aleatoriamente los puntos.\n",
        "\n",
        "- __n_clusters:__ definine la cantidad N de clústers que queremos como resultado.\n",
        "\n",
        "- __n_init:__ indica cuantas veces veces va a correr el algoritmo con diferentes centroides.\n",
        "\n",
        "- __random_state:__ es la semilla de la aleatorización.\n",
        "\n",
        "Al final de ésta guía, en __Referencias & Recursos Web__ podrás encontrar un enlace a la documentación oficial sobre este tema."
      ]
    },
    {
      "cell_type": "code",
      "metadata": {
        "id": "aB-koecwD_An",
        "colab_type": "code",
        "colab": {}
      },
      "source": [
        "from sklearn.cluster import KMeans\n",
        "\n",
        "# Por defecto usa la distancia euclidea\n",
        "km = KMeans(\n",
        "    n_clusters=3, init='random',\n",
        "    n_init=10, random_state=0\n",
        ")\n",
        "\n",
        "# Para definir una métrica de distancia diferente usar el módulo KMeansClusterer\n",
        "# kclusterer = KMeansClusterer(NUM_CLUSTERS, distance=nltk.cluster.util.cosine_distance, repeats=25)"
      ],
      "execution_count": 0,
      "outputs": []
    },
    {
      "cell_type": "markdown",
      "metadata": {
        "id": "3wlaAqZyKEFS",
        "colab_type": "text"
      },
      "source": [
        "Para realizar el cálculo, ejecutamos el método __fit_predict__ pasando como parámetro el dataset. Éste método realiza el fit y el predict en el mismo momento."
      ]
    },
    {
      "cell_type": "code",
      "metadata": {
        "id": "YZDYY6oxIrUo",
        "colab_type": "code",
        "colab": {}
      },
      "source": [
        "y_km = km.fit_predict(scaled_1)"
      ],
      "execution_count": 0,
      "outputs": []
    },
    {
      "cell_type": "markdown",
      "metadata": {
        "id": "KfQ5tdOZKZLJ",
        "colab_type": "text"
      },
      "source": [
        "Esto da como resultado un array con el número de clúster (empieza en 0!) al que pertenece cada observación."
      ]
    },
    {
      "cell_type": "code",
      "metadata": {
        "id": "78CZfagiKiOu",
        "colab_type": "code",
        "outputId": "663d5849-66d3-4975-adfa-c74fde3ad128",
        "colab": {
          "base_uri": "https://localhost:8080/",
          "height": 102
        }
      },
      "source": [
        "print(y_km)"
      ],
      "execution_count": 25,
      "outputs": [
        {
          "output_type": "stream",
          "text": [
            "[0 0 0 0 0 0 0 0 0 0 0 0 0 0 0 0 0 0 0 0 0 0 0 0 0 0 0 0 0 0 0 0 0 0 0 0 0\n",
            " 0 0 0 0 0 0 0 0 0 0 0 0 0 2 2 2 1 1 1 2 1 1 1 1 1 1 1 1 2 1 1 1 1 2 1 1 1\n",
            " 1 2 2 2 1 1 1 1 1 1 1 2 2 1 1 1 1 1 1 1 1 1 1 1 1 1 2 1 2 2 2 2 1 2 2 2 2\n",
            " 2 2 1 1 2 2 2 2 1 2 1 2 1 2 2 1 2 2 2 2 2 2 1 1 2 2 2 1 2 2 2 1 2 2 2 1 2\n",
            " 2 1]\n"
          ],
          "name": "stdout"
        }
      ]
    },
    {
      "cell_type": "markdown",
      "metadata": {
        "id": "7OxVXIswKr2Y",
        "colab_type": "text"
      },
      "source": [
        "Ahora vamos a graficar los clústeres, utilizamos Matplotlib. La mejor forma de ver como se comportan los datos es con un gráfico de dispersión (scatter).\n",
        "\n",
        "La documentación completa de matplotlib.pyplot se puede consultar acá [2]."
      ]
    },
    {
      "cell_type": "code",
      "metadata": {
        "id": "uPttVmAqGSAD",
        "colab_type": "code",
        "outputId": "1ab92e62-a591-411d-caab-3cf16f182c32",
        "colab": {
          "base_uri": "https://localhost:8080/",
          "height": 432
        }
      },
      "source": [
        "import matplotlib.pyplot as plt\n",
        "\n",
        "#configuro el tamaño del grafico final\n",
        "plt.figure(figsize=(10,7))\n",
        "\n",
        "#scatter del primer cluster\n",
        "plt.scatter(\n",
        "    scaled_1[y_km == 0, 0], scaled_1[y_km == 0, 1],\n",
        "    s=50, c='lightgreen',\n",
        "    marker='s', edgecolor='black',\n",
        "    label='cluster 1'\n",
        ")\n",
        "#scatter del segundo cluster\n",
        "plt.scatter(\n",
        "    scaled_1[y_km == 1, 0], scaled_1[y_km == 1, 1],\n",
        "    s=50, c='orange',\n",
        "    marker='o', edgecolor='black',\n",
        "    label='cluster 2'\n",
        ")\n",
        "#scatter del tercer cluster\n",
        "plt.scatter(\n",
        "    scaled_1[y_km == 2, 0], scaled_1[y_km == 2, 1],\n",
        "    s=50, c='lightblue',\n",
        "    marker='v', edgecolor='black',\n",
        "    label='cluster 3'\n",
        ")\n",
        "#scatter del los centroides\n",
        "plt.scatter(\n",
        "    km.cluster_centers_[:, 0], km.cluster_centers_[:, 1],\n",
        "    s=250, marker='*',\n",
        "    c='red', edgecolor='black',\n",
        "    label='centroides'\n",
        ")\n",
        "#le pongo la leyenda\n",
        "plt.legend(scatterpoints=1)\n",
        "#hace una grilla en el grafico\n",
        "plt.grid()\n",
        "#lo imprime en pantalla\n",
        "plt.show()"
      ],
      "execution_count": 26,
      "outputs": [
        {
          "output_type": "display_data",
          "data": {
            "image/png": "[encoded data removed]",
            "text/plain": [
              "<Figure size 720x504 with 1 Axes>"
            ]
          },
          "metadata": {
            "tags": []
          }
        }
      ]
    },
    {
      "cell_type": "markdown",
      "metadata": {
        "id": "9HzgmcEQTehm",
        "colab_type": "text"
      },
      "source": [
        "## Algoritmos de Clustering Jerárquico\n",
        "\n",
        "A continuación, vamos a realizar un clustering jerárquico. Para ello vamos a utilizar la librería _scipy_.\n",
        "\n",
        "Importamos los módulo linkage para el agrupamiento y _dendogram_ para su visualización:\n"
      ]
    },
    {
      "cell_type": "markdown",
      "metadata": {
        "id": "XlJ_GQ1x85rD",
        "colab_type": "text"
      },
      "source": [
        ""
      ]
    },
    {
      "cell_type": "code",
      "metadata": {
        "id": "zBwQLD4aVXoJ",
        "colab_type": "code",
        "colab": {}
      },
      "source": [
        "from scipy.cluster.hierarchy import dendrogram, linkage"
      ],
      "execution_count": 0,
      "outputs": []
    },
    {
      "cell_type": "markdown",
      "metadata": {
        "id": "fFBA3yIiioc9",
        "colab_type": "text"
      },
      "source": [
        "### Parámetros del Clustering Jerárquico\n",
        "El método linkage recibe como parámetro los datos y método para el cálculo de distancia.\n",
        "\n",
        "Los métodos para el cálculo de distancia soportados por _scipy_ son los siguientes:\n",
        "- single,\n",
        "- complete,\n",
        "- average,\n",
        "- weighted,\n",
        "- centroid,\n",
        "- median,\n",
        "- ward.\n",
        "\n",
        "Al final de ésta guía, en __Referencias & Recursos Web__ podrás encontrar un enlace a la documentación oficial sobre este tema."
      ]
    },
    {
      "cell_type": "code",
      "metadata": {
        "id": "YU98wgPSkKgA",
        "colab_type": "code",
        "colab": {}
      },
      "source": [
        "H = linkage(scaled_2, 'single')"
      ],
      "execution_count": 0,
      "outputs": []
    },
    {
      "cell_type": "markdown",
      "metadata": {
        "id": "V-vkHP9ijhw2",
        "colab_type": "text"
      },
      "source": [
        "Podemos ver la matriz de distancias:"
      ]
    },
    {
      "cell_type": "code",
      "metadata": {
        "id": "Gvrwgzcfjocq",
        "colab_type": "code",
        "colab": {
          "base_uri": "https://localhost:8080/",
          "height": 85
        },
        "outputId": "c87fbe35-596b-49fc-cab8-4c18ea095c75"
      },
      "source": [
        "from scipy.spatial.distance import pdist, squareform\n",
        "\n",
        "squareform(pdist(scaled_2[0:4,]))"
      ],
      "execution_count": 89,
      "outputs": [
        {
          "output_type": "execute_result",
          "data": {
            "text/plain": [
              "array([[0.        , 0.21561354, 0.16810102, 0.21761244],\n",
              "       [0.21561354, 0.        , 0.10157824, 0.09469862],\n",
              "       [0.16810102, 0.10157824, 0.        , 0.06047157],\n",
              "       [0.21761244, 0.09469862, 0.06047157, 0.        ]])"
            ]
          },
          "metadata": {
            "tags": []
          },
          "execution_count": 89
        }
      ]
    },
    {
      "cell_type": "markdown",
      "metadata": {
        "id": "HL5chU8DkOoc",
        "colab_type": "text"
      },
      "source": [
        "Y también podemos graficar el dendrograma:"
      ]
    },
    {
      "cell_type": "code",
      "metadata": {
        "id": "5lcjAS04Kzim",
        "colab_type": "code",
        "outputId": "a1a7f984-9008-4ecf-9d24-834d68737870",
        "colab": {
          "base_uri": "https://localhost:8080/",
          "height": 647
        }
      },
      "source": [
        "max_d = 7.08\n",
        "plt.figure(figsize=(25, 10))\n",
        "plt.title('Dendrograma')\n",
        "plt.xlabel('Observaciones')\n",
        "plt.ylabel('Distancia')\n",
        "dendrogram(\n",
        "    H, truncate_mode='lastp',\n",
        "    p=150, leaf_rotation=90.,\n",
        "    leaf_font_size=8.,\n",
        ")\n",
        "plt.axhline(y=max_d, c='k')\n",
        "plt.show()"
      ],
      "execution_count": 29,
      "outputs": [
        {
          "output_type": "display_data",
          "data": {
            "image/png": "[encoded data removed]",
            "text/plain": [
              "<Figure size 1800x720 with 1 Axes>"
            ]
          },
          "metadata": {
            "tags": []
          }
        }
      ]
    },
    {
      "cell_type": "markdown",
      "metadata": {
        "id": "7iUUwVB6OyFl",
        "colab_type": "text"
      },
      "source": [
        "## Métricas de evaluación para Clustering\n",
        "\n",
        "Las métricas mas extendidas en clustering son el método de Elbow y el Índice de Silueta.\n",
        "\n",
        "El __método de Elbow__ consiste básicamente en verificar la evolución de la suma de los cuadrados del error para varios valores de K y verificar cual es el que brinda un mejor agrupamiento. "
      ]
    },
    {
      "cell_type": "code",
      "metadata": {
        "id": "wvt6zvY3Ow58",
        "colab_type": "code",
        "outputId": "7059f3ac-8ea4-4b21-bafe-1652899c4550",
        "colab": {
          "base_uri": "https://localhost:8080/",
          "height": 392
        }
      },
      "source": [
        "# Corro el algoritmo con K entre 2 y 10 y voy guardando el error para luego graficarlo.\n",
        "sse = []\n",
        "list_k = list(range(1, 10))\n",
        "\n",
        "for k in list_k:\n",
        "    km = KMeans(n_clusters=k)\n",
        "    km.fit(scaled_1)\n",
        "    sse.append(km.inertia_)\n",
        "\n",
        "# Grafico el SSE por K\n",
        "plt.figure(figsize=(6, 6))\n",
        "plt.plot(list_k, sse, '-o')\n",
        "plt.xlabel(r'Cantidad de clusters *k*')\n",
        "plt.ylabel('SSE');"
      ],
      "execution_count": 30,
      "outputs": [
        {
          "output_type": "display_data",
          "data": {
            "image/png": "[encoded data removed]",
            "text/plain": [
              "<Figure size 432x432 with 1 Axes>"
            ]
          },
          "metadata": {
            "tags": []
          }
        }
      ]
    },
    {
      "cell_type": "markdown",
      "metadata": {
        "id": "moNVY0D6P7qz",
        "colab_type": "text"
      },
      "source": [
        "Por otro lado, el __Índice de Silueta__, como vimos en la clase teórica, indica si existen o no, estructuras en los datos. <br /> <br />\n",
        "\n",
        "A continuación graficamos el índice de silueta para 2<=k<=4:"
      ]
    },
    {
      "cell_type": "code",
      "metadata": {
        "id": "JB-g8ZaiQDi4",
        "colab_type": "code",
        "colab": {
          "base_uri": "https://localhost:8080/",
          "height": 68
        },
        "outputId": "e0820bf0-7665-4402-ea70-80ce896ed6b2"
      },
      "source": [
        "from sklearn.metrics import silhouette_score\n",
        "\n",
        "list_k = list(range(2, 5))\n",
        "\n",
        "for n_clusters in list_k:\n",
        "    clusterer = KMeans(n_clusters=n_clusters)\n",
        "    preds = clusterer.fit_predict(scaled_1)\n",
        "    centers = clusterer.cluster_centers_\n",
        "\n",
        "    score = silhouette_score (scaled_1, preds)\n",
        "    print (\"For n_clusters =\" + str(n_clusters) + \" silhouette score is \" + str(score))"
      ],
      "execution_count": 43,
      "outputs": [
        {
          "output_type": "stream",
          "text": [
            "For n_clusters =2 silhouette score is 0.5817500491982808\n",
            "For n_clusters =3 silhouette score is 0.45994823920518635\n",
            "For n_clusters =4 silhouette score is 0.38694104154427816\n"
          ],
          "name": "stdout"
        }
      ]
    },
    {
      "cell_type": "markdown",
      "metadata": {
        "id": "ZrULnPTj6pQp",
        "colab_type": "text"
      },
      "source": [
        "Y podemos graficar el gráfico de silueta, por ejemplo, para k=3:"
      ]
    },
    {
      "cell_type": "code",
      "metadata": {
        "id": "bFpB6STQ4itH",
        "colab_type": "code",
        "colab": {
          "base_uri": "https://localhost:8080/",
          "height": 381
        },
        "outputId": "8df6efbd-ee80-4244-c0d5-6c26fd87d4d2"
      },
      "source": [
        "from yellowbrick.cluster import SilhouetteVisualizer\n",
        "\n",
        "# Genero un modelo con K=3\n",
        "model = KMeans(3, random_state=0)\n",
        "\n",
        "# Ploteo el gráfico de silueta\n",
        "visualizer = SilhouetteVisualizer(model, colors='yellowbrick')    # Instancio el visualizador\n",
        "visualizer.fit(scaled_1)                                          # Entreno el visualizador con datos\n"
      ],
      "execution_count": 45,
      "outputs": [
        {
          "output_type": "execute_result",
          "data": {
            "text/plain": [
              "SilhouetteVisualizer(ax=<matplotlib.axes._subplots.AxesSubplot object at 0x7f291ca01cc0>,\n",
              "                     model=None)"
            ]
          },
          "metadata": {
            "tags": []
          },
          "execution_count": 45
        },
        {
          "output_type": "display_data",
          "data": {
            "image/png": "[encoded data removed]",
            "text/plain": [
              "<Figure size 576x396 with 1 Axes>"
            ]
          },
          "metadata": {
            "tags": []
          }
        }
      ]
    },
    {
      "cell_type": "markdown",
      "metadata": {
        "id": "6EGw6WD6bFQH",
        "colab_type": "text"
      },
      "source": [
        "## Utilizando el modelo para agrupar instancias nuevas\n",
        "\n",
        "A partir del modelo generado, podríamos darle un nuevo caso y agruparlo en uno de los clusters generados:"
      ]
    },
    {
      "cell_type": "code",
      "metadata": {
        "id": "LLPRaMeebTPk",
        "colab_type": "code",
        "colab": {
          "base_uri": "https://localhost:8080/",
          "height": 68
        },
        "outputId": "7b60b43a-075b-4def-e736-6565a1b8c73f"
      },
      "source": [
        "# Elijo tres ejemplos a agrupar\n",
        "ejemplos=[]\n",
        "ejemplos.append(scaled_1[27,:])\n",
        "ejemplos.append(scaled_1[71,:])\n",
        "ejemplos.append(scaled_1[144,:])\n",
        "\n",
        "print(\"El ejemplo \" + str(ejemplos[0]) + \" corresponde al cluster \" + str(model.predict(ejemplos)[0]))\n",
        "print(\"El ejemplo \" + str(ejemplos[1]) + \" corresponde al cluster \" + str(model.predict(ejemplos)[1]))\n",
        "print(\"El ejemplo \" + str(ejemplos[2]) + \" corresponde al cluster \" + str(model.predict(ejemplos)[2]))\n"
      ],
      "execution_count": 85,
      "outputs": [
        {
          "output_type": "stream",
          "text": [
            "El ejemplo [-0.7795133   1.01900435 -1.2833891  -1.3154443 ] corresponde al cluster 1\n",
            "El ejemplo [ 0.31099753 -0.59237301  0.13754657  0.13250973] corresponde al cluster 0\n",
            "El ejemplo [1.03800476 0.55861082 1.10378283 1.71209594] corresponde al cluster 2\n"
          ],
          "name": "stdout"
        }
      ]
    },
    {
      "cell_type": "markdown",
      "metadata": {
        "id": "mArRSGGjN3zK",
        "colab_type": "text"
      },
      "source": [
        "## Referencias & Recursos Web\n",
        "\n",
        "[1] https://scikit-learn.org/stable/modules/generated/sklearn.cluster.KMeans.html\n",
        "\n",
        "[2] https://matplotlib.org/3.1.1/api/_as_gen/matplotlib.pyplot.html\n",
        "\n",
        "[3] https://docs.scipy.org/doc/scipy/reference/generated/scipy.cluster.hierarchy.linkage.html\n",
        "\n",
        "[4] https://towardsdatascience.com/k-means-clustering-algorithm-applications-evaluation-methods-and-drawbacks-aa03e644b48a\n",
        "\n",
        "[5] https://jakevdp.github.io/PythonDataScienceHandbook/05.11-k-means.html\n"
      ]
    }
  ]
}