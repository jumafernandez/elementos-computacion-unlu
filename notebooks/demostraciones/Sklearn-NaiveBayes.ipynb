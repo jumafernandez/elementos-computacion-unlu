{
  "nbformat": 4,
  "nbformat_minor": 0,
  "metadata": {
    "colab": {
      "name": "Guia-Naive_Bayes.ipynb",
      "provenance": [],
      "collapsed_sections": [],
      "include_colab_link": true
    },
    "kernelspec": {
      "name": "python3",
      "display_name": "Python 3"
    }
  },
  "cells": [
    {
      "cell_type": "markdown",
      "metadata": {
        "id": "view-in-github",
        "colab_type": "text"
      },
      "source": [
        "<a href=\"https://colab.research.google.com/github/jumafernandez/BDM/blob/master/Guias/Guia_Naive_Bayes.ipynb\" target=\"_parent\"><img src=\"https://colab.research.google.com/assets/colab-badge.svg\" alt=\"Open In Colab\"/></a>"
      ]
    },
    {
      "cell_type": "markdown",
      "metadata": {
        "id": "R7t49mkzKf-9",
        "colab_type": "text"
      },
      "source": [
        "# Naive Bayes con Scikit Learn\n",
        "\n",
        "## Introducción\n",
        "En esta guía vamos a experimientar cómo trabajar con el algoritmo de _naive Bayes_. Se trata de una técnica supervisada de aprendizaje probabilístico que se aplica a tareas de clasificación. Vamos a utilizar el dataset _iris_, con el que ya hemos trabajado en varias guías de laboratorio y TP's.\n",
        "<br />\n",
        "A lo largo de esta guía veremos:\n",
        "- Cómo preprocesar el dataset y prepararlo para trabajar con Naive Bayes (NB) en Scikit Learn,\n",
        "- Cómo entrenar un clasificador NB con la librería Scikit Learn,\n",
        "- Cómo predecir la clase ante la aparición de nuevas instancias utilizando el modelo y la probabilidad aparejada,\n",
        "- Cuáles son los hiper-parámetros más importantes del algoritmo,\n",
        "- Cómo generar nuevas métricas de evaluación de los modelos.\n",
        "\n",
        "## Trabajando con datos en Scikit Learn (Python)\n",
        "Para iniciar vamos a cargar los datos desde Scikit-Learn, que es una de las modalidades que ya veníamos trabajando. Como sabemos, se va a instanciar un objeto bunch que es básicamente un diccionario:\n"
      ]
    },
    {
      "cell_type": "code",
      "metadata": {
        "id": "YfsIoe-wKfwc",
        "colab_type": "code",
        "colab": {}
      },
      "source": [
        "# Importamos el dataset iris de la librerías sklearn.datasets\n",
        "from sklearn.datasets import load_iris\n",
        "\n",
        "# Iris será un objeto \"bunch\" que es básicamente un diccionario de Python con un conjunto de claves\n",
        "iris = load_iris()\n"
      ],
      "execution_count": 0,
      "outputs": []
    },
    {
      "cell_type": "markdown",
      "metadata": {
        "id": "nlJ3Fl0DK6Oi",
        "colab_type": "text"
      },
      "source": [
        "### Preprarando los datos para trabajar con NB en Scikit Learn\n",
        "\n",
        "Al igual que hicimos con árboles de clasificación, vamos a tener que transformar los atributos discretos a numéricos previo a entrenar el clasificador. En este caso, el dataset no va a sufrir modificaciones puesto que todos sus _features_ son continuos, pero el código es facilmente trasladable a datasets con atributos cualitativos."
      ]
    },
    {
      "cell_type": "code",
      "metadata": {
        "id": "_XSz4YSeK7D-",
        "colab_type": "code",
        "outputId": "3a407d40-9bab-424f-b644-0654da1cf2fc",
        "colab": {
          "base_uri": "https://localhost:8080/",
          "height": 119
        }
      },
      "source": [
        "from sklearn import preprocessing\n",
        "\n",
        "# Cantidad de columnas\n",
        "ncols=iris.data.shape[1]\n",
        "\n",
        "# Creamos el objeto labelEncoder\n",
        "le = preprocessing.LabelEncoder()\n",
        "\n",
        "# Numerizamos todos los atributos que no sean numéricos\n",
        "for column in range(0, ncols-1):\n",
        "  if (iris.data[:,column].dtype == object):\n",
        "    iris.data[:,column] = le.fit_transform(iris.data[:,column])\n",
        "\n",
        "iris.data[0:6]"
      ],
      "execution_count": 0,
      "outputs": [
        {
          "output_type": "execute_result",
          "data": {
            "text/plain": [
              "array([[5.1, 3.5, 1.4, 0.2],\n",
              "       [4.9, 3. , 1.4, 0.2],\n",
              "       [4.7, 3.2, 1.3, 0.2],\n",
              "       [4.6, 3.1, 1.5, 0.2],\n",
              "       [5. , 3.6, 1.4, 0.2],\n",
              "       [5.4, 3.9, 1.7, 0.4]])"
            ]
          },
          "metadata": {
            "tags": []
          },
          "execution_count": 2
        }
      ]
    },
    {
      "cell_type": "markdown",
      "metadata": {
        "id": "IbXAwWlDV2mr",
        "colab_type": "text"
      },
      "source": [
        "Y generamos nuestro conjunto de _train_ y de _test_ como venimos haciendo:"
      ]
    },
    {
      "cell_type": "code",
      "metadata": {
        "id": "7U24RukFV85X",
        "colab_type": "code",
        "colab": {}
      },
      "source": [
        "from sklearn.model_selection import train_test_split\n",
        "\n",
        "# Separo en 70-30 entrenamiento y testeo\n",
        "x_train, x_test, y_train, y_test = train_test_split(iris.data, iris.target, random_state=0, test_size=0.2)\n"
      ],
      "execution_count": 0,
      "outputs": []
    },
    {
      "cell_type": "markdown",
      "metadata": {
        "id": "weNFL-cbSWRV",
        "colab_type": "text"
      },
      "source": [
        "## Clasificador Naive Bayes con Scikit Learn\n",
        "\n",
        "Scikit Learn provee tres clases para clasificación con Naive Bayes:\n",
        "- __GaussianNB:__ Éste clasificador supone que la distribución de los datos es gaussiana (__warning!__).\n",
        "-  __MultinomialNB:__ En éste caso, el caso, el clasificador asume un distribución multinomial de los datos.\n",
        "- __ComplementNB:__ Ésta es una tercera implementación del clasificador que posee optimizaciones para trabajar con datasets desbalanceados.\n",
        "<br /> \n",
        "\n",
        "En ésta guía vamos a limitarnos a trabajar de manera indistinta con las clases para realizar diferentes pruebas puesto que resulta muy sencillo cambiar el clasificador ya que las tres clases poseen métodos y parámetros muy similares.\n",
        "\n",
        "### Entrenando un clasificador NB\n",
        "A continuación, vamos a explorar como entrenar clasificador Naive Bayes, analizar el modelo entrenado y evaluarlo:"
      ]
    },
    {
      "cell_type": "code",
      "metadata": {
        "id": "3Pn5tRAMSm74",
        "colab_type": "code",
        "outputId": "6fa784e8-abd4-4dc5-c8df-d187c2997a0f",
        "colab": {
          "base_uri": "https://localhost:8080/",
          "height": 34
        }
      },
      "source": [
        "# Importamos el módulo GaussianNB de scikit-learn\n",
        "from sklearn.naive_bayes import GaussianNB, MultinomialNB, ComplementNB\n",
        "\n",
        "#modelo = GaussianNB()\n",
        "#modelo = MultinomialNB()\n",
        "modelo = ComplementNB()\n",
        "\n",
        "modelo"
      ],
      "execution_count": 0,
      "outputs": [
        {
          "output_type": "execute_result",
          "data": {
            "text/plain": [
              "ComplementNB(alpha=1.0, class_prior=None, fit_prior=True, norm=False)"
            ]
          },
          "metadata": {
            "tags": []
          },
          "execution_count": 4
        }
      ]
    },
    {
      "cell_type": "markdown",
      "metadata": {
        "id": "Ira9JnK1Tawp",
        "colab_type": "text"
      },
      "source": [
        "Ahora vamos a entrenar el modelo, para ello le pasamos los datos de los _features_ y el _target_:"
      ]
    },
    {
      "cell_type": "code",
      "metadata": {
        "id": "5b96OJUFToz9",
        "colab_type": "code",
        "outputId": "fd7ac6a8-ec86-48e2-f8ff-ada6bae466c2",
        "colab": {
          "base_uri": "https://localhost:8080/",
          "height": 34
        }
      },
      "source": [
        "# Ahora vamos a entrenar el dato con el método fit -le pasamos los X e Y\n",
        "# X e Y (X=atributos e Y=target)\n",
        "modelo.fit(x_train, y_train)\n"
      ],
      "execution_count": 0,
      "outputs": [
        {
          "output_type": "execute_result",
          "data": {
            "text/plain": [
              "ComplementNB(alpha=1.0, class_prior=None, fit_prior=True, norm=False)"
            ]
          },
          "metadata": {
            "tags": []
          },
          "execution_count": 5
        }
      ]
    },
    {
      "cell_type": "code",
      "metadata": {
        "id": "wKnV2NIZYlCM",
        "colab_type": "code",
        "outputId": "217b59bb-df82-488f-c725-d38b83bdca2b",
        "colab": {
          "base_uri": "https://localhost:8080/",
          "height": 85
        }
      },
      "source": [
        "# Número de muestras encontradas para cada clase durante el ajuste. \n",
        "# (Este valor es ponderado por el peso de la muestra cuando se proporciona.)\n",
        "print(\"Número de muestras encontradas para cada clase durante el ajuste:\")\n",
        "print(str(iris.target_names[0]) + \": \" + str(modelo.class_count_[0]))\n",
        "print(str(iris.target_names[1]) + \": \" + str(modelo.class_count_[1]))\n",
        "print(str(iris.target_names[2]) + \": \" + str(modelo.class_count_[2]))"
      ],
      "execution_count": 0,
      "outputs": [
        {
          "output_type": "stream",
          "text": [
            "Número de muestras encontradas para cada clase durante el ajuste:\n",
            "setosa: 39.0\n",
            "versicolor: 37.0\n",
            "virginica: 44.0\n"
          ],
          "name": "stdout"
        }
      ]
    },
    {
      "cell_type": "code",
      "metadata": {
        "id": "gwXAImZRaRYF",
        "colab_type": "code",
        "outputId": "51338d5c-70ef-4c89-a4b8-bf211c2c7866",
        "colab": {
          "base_uri": "https://localhost:8080/",
          "height": 68
        }
      },
      "source": [
        "modelo.feature_count_"
      ],
      "execution_count": 0,
      "outputs": [
        {
          "output_type": "execute_result",
          "data": {
            "text/plain": [
              "array([[195.8, 132.7,  57. ,   9.4],\n",
              "       [217.8, 102.2, 156. ,  49. ],\n",
              "       [292.1, 131.5, 244.9,  89.4]])"
            ]
          },
          "metadata": {
            "tags": []
          },
          "execution_count": 7
        }
      ]
    },
    {
      "cell_type": "code",
      "metadata": {
        "id": "CM1vBakhble5",
        "colab_type": "code",
        "outputId": "5fa85100-f9a8-4fd1-d55b-106c1efc412e",
        "colab": {
          "base_uri": "https://localhost:8080/",
          "height": 136
        }
      },
      "source": [
        "print(\"Probabilidad empírica de las features x dada la clase y: P(x_i|y)\")\n",
        "print(\"x = \" + str(iris.feature_names))\n",
        "print(\"y = \" + str(iris.target_names)+\"\\n\")\n",
        "\n",
        "modelo.feature_log_prob_"
      ],
      "execution_count": 0,
      "outputs": [
        {
          "output_type": "stream",
          "text": [
            "Probabilidad empírica de las features x dada la clase y: P(x_i|y)\n",
            "x = ['sepal length (cm)', 'sepal width (cm)', 'petal length (cm)', 'petal width (cm)']\n",
            "y = ['setosa' 'versicolor' 'virginica']\n",
            "\n"
          ],
          "name": "stdout"
        },
        {
          "output_type": "execute_result",
          "data": {
            "text/plain": [
              "array([[0.92381763, 1.7016834 , 1.1637882 , 2.22264401],\n",
              "       [0.86125488, 1.47292859, 1.34001013, 2.45024467],\n",
              "       [0.80128964, 1.36519585, 1.46262783, 2.74430961]])"
            ]
          },
          "metadata": {
            "tags": []
          },
          "execution_count": 8
        }
      ]
    },
    {
      "cell_type": "code",
      "metadata": {
        "id": "qXRnUoigcvM9",
        "colab_type": "code",
        "outputId": "dafbb9ec-322d-4f3e-e58c-50e6a4d5556d",
        "colab": {
          "base_uri": "https://localhost:8080/",
          "height": 85
        }
      },
      "source": [
        "print(\"Coeficientes del clasificador:\")\n",
        "modelo.coef_"
      ],
      "execution_count": 0,
      "outputs": [
        {
          "output_type": "stream",
          "text": [
            "Coeficientes del clasificador:\n"
          ],
          "name": "stdout"
        },
        {
          "output_type": "execute_result",
          "data": {
            "text/plain": [
              "array([[0.92381763, 1.7016834 , 1.1637882 , 2.22264401],\n",
              "       [0.86125488, 1.47292859, 1.34001013, 2.45024467],\n",
              "       [0.80128964, 1.36519585, 1.46262783, 2.74430961]])"
            ]
          },
          "metadata": {
            "tags": []
          },
          "execution_count": 9
        }
      ]
    },
    {
      "cell_type": "code",
      "metadata": {
        "id": "MocGh8LtdoJM",
        "colab_type": "code",
        "outputId": "8955a595-85fc-476c-df7d-071313df03f4",
        "colab": {
          "base_uri": "https://localhost:8080/",
          "height": 34
        }
      },
      "source": [
        "modelo.intercept_"
      ],
      "execution_count": 0,
      "outputs": [
        {
          "output_type": "execute_result",
          "data": {
            "text/plain": [
              "array([-1.1239301 , -1.17657383, -1.00330211])"
            ]
          },
          "metadata": {
            "tags": []
          },
          "execution_count": 10
        }
      ]
    },
    {
      "cell_type": "markdown",
      "metadata": {
        "id": "sU14aoOZDU7u",
        "colab_type": "text"
      },
      "source": [
        "## Utilizando el modelo para clasificar/predecir casos nuevos\n",
        "\n",
        "A partir del modelo generado, podríamos darle un nuevo caso y el clasificador debería clasificarlo y devolver la proba asociada a cada clase:"
      ]
    },
    {
      "cell_type": "code",
      "metadata": {
        "id": "we0OSJ_vDVjW",
        "colab_type": "code",
        "outputId": "d4cf3355-2055-4e38-87c3-746267ad92bf",
        "colab": {
          "base_uri": "https://localhost:8080/",
          "height": 102
        }
      },
      "source": [
        "# Haciendo nuevas predicciones a partir de los datos\n",
        "pred_ejemplo1 = int(modelo.predict([[5, 7, 1, 3]]))\n",
        "pred_ejemplo2 = int(modelo.predict([[1, 1, 1, 1]]))\n",
        "pred_ejemplo3 = int(modelo.predict([[15, 17, 11, 13]]))\n",
        "\n",
        "proba_ejemplo1 = modelo.predict_proba([[5, 7, 1, 3]])\n",
        "\n",
        "print(\"La probabilidad asociada es \" +str(proba_ejemplo1)+ \"para las clases\" + str(iris.target_names) + \" respectivamente.\")\n",
        "print(f\"En función de las probabilidades, este ejemplo corresponde a una flor {iris.target_names[pred_ejemplo1]}.\\n\")\n",
        "\n",
        "print(f\"Este ejemplo corresponde a una flor {iris.target_names[pred_ejemplo2]}.\")\n",
        "print(f\"Este ejemplo corresponde a una flor {iris.target_names[pred_ejemplo3]}.\")\n"
      ],
      "execution_count": 0,
      "outputs": [
        {
          "output_type": "stream",
          "text": [
            "La probabilidad asociada es [[0.5953666  0.20728691 0.19734649]]para las clases['setosa' 'versicolor' 'virginica'] respectivamente.\n",
            "En función de las probabilidades, este ejemplo corresponde a una flor setosa.\n",
            "\n",
            "Este ejemplo corresponde a una flor virginica.\n",
            "Este ejemplo corresponde a una flor virginica.\n"
          ],
          "name": "stdout"
        }
      ]
    },
    {
      "cell_type": "markdown",
      "metadata": {
        "id": "Hj2YSiHcAXXZ",
        "colab_type": "text"
      },
      "source": [
        "## Parámetros de NB\n",
        "\n",
        "Como la mayoría de los algoritmos de aprendizaje automático, NB posee hiper-parámetros que podemos ajustar."
      ]
    },
    {
      "cell_type": "code",
      "metadata": {
        "id": "bnMb4k-WA06c",
        "colab_type": "code",
        "outputId": "fe655f71-2122-4c52-8cf4-e221292b68ec",
        "colab": {
          "base_uri": "https://localhost:8080/",
          "height": 34
        }
      },
      "source": [
        "from sklearn import metrics\n",
        "\n",
        "# En este caso, instancio, los parametros a ajustar son:\n",
        "# GuassianNB:\n",
        "# priors: Probabilidades previas de las clases.\n",
        "# var_smoothing: Parte de la mayor variación de todas las características que se agrega a las variaciones para la estabilidad del cálculo.\n",
        "\n",
        "# MultinomialNB:\n",
        "# alpha: Parámetro de suavizado aditivo (Laplace/Lidstone)\n",
        "# class_prior: Idem priors de GaussianNB.\n",
        "\n",
        "# ComplementNB:\n",
        "# A los parámetros del Multinomial se le agrega norm.\n",
        "# norm: Si se realiza o no una normalización de los pesos.\n",
        "modelo_parametrizado = GaussianNB()\n",
        "\n",
        "# Entreno el modelo con el mismo muestreo generado antes (70-30 %)\n",
        "modelo_parametrizado = modelo_parametrizado.fit(x_train,y_train)\n",
        "\n",
        "# Realizo la predicción de y con el x_test\n",
        "y_pred = modelo_parametrizado.predict(x_test)\n",
        "\n",
        "print(\"Accuracy:\",metrics.accuracy_score(y_test, y_pred))\n"
      ],
      "execution_count": 0,
      "outputs": [
        {
          "output_type": "stream",
          "text": [
            "Accuracy: 0.9666666666666667\n"
          ],
          "name": "stdout"
        }
      ]
    },
    {
      "cell_type": "markdown",
      "metadata": {
        "id": "JRIJ_PRZ-Xbo",
        "colab_type": "text"
      },
      "source": [
        "## Métricas de evaluación de modelos\n",
        "\n",
        "Como vimos en teoría, luego debemos evaluar el modelo generado, para saber cuán preciso es. Vamos a incluir F-score al set que venimos utilizando, la curva ROC y el heatmap para dar un enfoque más gráfico a la matriz de confusión.\n",
        "\n",
        "Comenzamos con la curva ROC:"
      ]
    },
    {
      "cell_type": "code",
      "metadata": {
        "id": "gh12t28--ZPn",
        "colab_type": "code",
        "outputId": "545df2df-95e2-4840-af92-41262fba381c",
        "colab": {
          "base_uri": "https://localhost:8080/",
          "height": 296
        }
      },
      "source": [
        "from sklearn.metrics import roc_curve\n",
        "from sklearn.metrics import roc_auc_score\n",
        "from matplotlib import pyplot\n",
        "from sklearn.preprocessing import label_binarize\n",
        "\n",
        "# Para la versión 0.22 de scikit-learn se incorpora el método plot_roc_curve\n",
        "# https://scikit-learn.org/dev/modules/generated/sklearn.metrics.plot_roc_curve.html\n",
        "# Por ahora, lo graficamos a mano con roc_auc_score\n",
        "\n",
        "# Seteo la clase a graficar (para iris entre 0-2)\n",
        "clase_elegida = 1\n",
        "\n",
        "# Me quedo con la clase elegida\n",
        "y = label_binarize(y_test, classes=[0, 1, 2])\n",
        "y_class = y[:,clase_elegida]\n",
        "\n",
        "# Calculo las probas para el test\n",
        "modelo_probas = modelo.predict_proba(x_test)\n",
        "\n",
        "# Me quedo con la proba para la clase elegida\n",
        "positivos_probas = modelo_probas[:,clase_elegida]\n",
        "\n",
        "# calculate scores\n",
        "lr_auc = roc_auc_score(y_class, positivos_probas)\n",
        "\n",
        "# summarize scores\n",
        "print('NB: ROC AUC=%.3f' % (lr_auc))\n",
        "\n",
        "# Calcula la curva ROC\n",
        "lr_fpr, lr_tpr, _ = roc_curve(y_class, positivos_probas)\n",
        "\n",
        "# Plotea\n",
        "pyplot.plot(lr_fpr, lr_tpr, marker='.', label='NB ' + iris.target_names[clase_elegida])\n",
        "\n",
        "# Nombres de los ejes\n",
        "pyplot.xlabel('False Positive Rate')\n",
        "pyplot.ylabel('True Positive Rate')\n",
        "\n",
        "# Muestra las leyendas\n",
        "pyplot.legend()\n",
        "# Plotea\n",
        "pyplot.show()\n",
        "\n"
      ],
      "execution_count": 0,
      "outputs": [
        {
          "output_type": "stream",
          "text": [
            "NB: ROC AUC=0.991\n"
          ],
          "name": "stdout"
        },
        {
          "output_type": "display_data",
          "data": {
            "image/png": "[encoded data removed]",
            "text/plain": [
              "<Figure size 432x288 with 1 Axes>"
            ]
          },
          "metadata": {
            "tags": []
          }
        }
      ]
    },
    {
      "cell_type": "markdown",
      "metadata": {
        "id": "BGEF_w-eZF1J",
        "colab_type": "text"
      },
      "source": [
        " Ahora calculamos F-score:"
      ]
    },
    {
      "cell_type": "code",
      "metadata": {
        "id": "a8w0xy4YZFTo",
        "colab_type": "code",
        "outputId": "35e2ae56-76bd-4854-9ac7-044fc960da20",
        "colab": {
          "base_uri": "https://localhost:8080/",
          "height": 34
        }
      },
      "source": [
        "from sklearn.metrics import fbeta_score\n",
        "\n",
        "# Parametro average: se utiliza en multiclase, si no está seteado devuelve la métrica para cada clase\n",
        "# Si se setea se devuelve una métrica única para el modelo (por ejemplo el promedio del indicador para todas las clases)\n",
        "\n",
        "fbeta_score(y_test, y_pred, average='micro', beta=0.5)\n"
      ],
      "execution_count": 0,
      "outputs": [
        {
          "output_type": "execute_result",
          "data": {
            "text/plain": [
              "0.9666666666666666"
            ]
          },
          "metadata": {
            "tags": []
          },
          "execution_count": 14
        }
      ]
    },
    {
      "cell_type": "markdown",
      "metadata": {
        "id": "-Qw6bnd5aXFH",
        "colab_type": "text"
      },
      "source": [
        "Por último, vamos a realizar un heatmap de la matriz de confusión del modelo:"
      ]
    },
    {
      "cell_type": "code",
      "metadata": {
        "id": "pHgEEn_QFkZx",
        "colab_type": "code",
        "outputId": "60d42ef0-f1c8-4958-d1a5-33e21722e20d",
        "colab": {
          "base_uri": "https://localhost:8080/",
          "height": 298
        }
      },
      "source": [
        "import numpy as np\n",
        "import seaborn as sns; sns.set()\n",
        "import matplotlib.pyplot as plt\n",
        "\n",
        "species = np.array(y_test)\n",
        "predictions = np.array(y_pred)\n",
        "\n",
        "mat = metrics.confusion_matrix(species, predictions)\n",
        "\n",
        "sns.heatmap(mat.T, square=True, annot=True, fmt='d', cbar=False,\n",
        "            xticklabels=iris.target_names, yticklabels=iris.target_names)\n",
        "\n",
        "plt.xlabel('true label')\n",
        "plt.ylabel('predicted label');\n"
      ],
      "execution_count": 0,
      "outputs": [
        {
          "output_type": "display_data",
          "data": {
            "image/png": "[encoded data removed]",
            "text/plain": [
              "<Figure size 432x288 with 1 Axes>"
            ]
          },
          "metadata": {
            "tags": []
          }
        }
      ]
    },
    {
      "cell_type": "markdown",
      "metadata": {
        "id": "ulWtSbCI5-tG",
        "colab_type": "text"
      },
      "source": [
        "## Referencias & Recursos Web\n",
        "\n",
        "- https://scikit-learn.org/stable/modules/naive_bayes.html\n",
        "\n",
        "- https://www.datacamp.com/community/tutorials/naive-bayes-scikit-learn\n",
        "\n",
        "- https://jakevdp.github.io/PythonDataScienceHandbook/05.05-naive-bayes.html\n",
        "\n",
        "- https://www.sicara.ai/blog/2018-02-28-naive-bayes-classification-sklearn\n",
        "\n",
        "- https://machinelearningmastery.com/roc-curves-and-precision-recall-curves-for-classification-in-python/\n"
      ]
    }
  ]
}