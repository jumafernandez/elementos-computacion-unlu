{
  "nbformat": 4,
  "nbformat_minor": 0,
  "metadata": {
    "colab": {
      "provenance": []
    },
    "kernelspec": {
      "name": "python3",
      "display_name": "Python 3"
    },
    "language_info": {
      "name": "python"
    }
  },
  "cells": [
    {
      "cell_type": "markdown",
      "source": [
        "# Clustering con SciPy.clustering\n",
        "\n",
        "En esta breve notebook se muestra un ejemplo de utilización del subpaquete clustering de SciPy.\n",
        "\n",
        "Para la demostración se utilizará un dataset sobre diabetes publicado en Kaggle al que se accede a través de siguiente [enlace](\n",
        "https://www.kaggle.com/datasets/saurabh00007/diabetescsv).\n"
      ],
      "metadata": {
        "id": "Gln4_JT9sICm"
      }
    },
    {
      "cell_type": "markdown",
      "source": [
        "En primer lugar importo las librerías que voy a utilizar:"
      ],
      "metadata": {
        "id": "D13JRobts66E"
      }
    },
    {
      "cell_type": "code",
      "source": [
        "# Se importan los módulos\n",
        "import matplotlib.pyplot as plt\n",
        "import numpy as np\n",
        "from scipy.cluster.vq import whiten, kmeans2"
      ],
      "metadata": {
        "id": "0ykXmlj-s6jo"
      },
      "execution_count": 14,
      "outputs": []
    },
    {
      "cell_type": "markdown",
      "source": [
        "Luego, descargo del Repositorio Github el dataset y lo cargo en una matriz numpy:"
      ],
      "metadata": {
        "id": "JJj9mcHntK2F"
      }
    },
    {
      "cell_type": "code",
      "source": [
        "!wget 'https://raw.githubusercontent.com/jumafernandez/elementos-computacion-unlu/main/data/diabetes.csv'"
      ],
      "metadata": {
        "colab": {
          "base_uri": "https://localhost:8080/"
        },
        "id": "WmASiPWHtP5n",
        "outputId": "fe7e4c1f-e2bc-42eb-edee-acd58c94b2fb"
      },
      "execution_count": 15,
      "outputs": [
        {
          "output_type": "stream",
          "name": "stdout",
          "text": [
            "--2023-09-01 13:01:29--  https://raw.githubusercontent.com/jumafernandez/elementos-computacion-unlu/main/data/diabetes.csv\n",
            "Resolving raw.githubusercontent.com (raw.githubusercontent.com)... 185.199.108.133, 185.199.109.133, 185.199.110.133, ...\n",
            "Connecting to raw.githubusercontent.com (raw.githubusercontent.com)|185.199.108.133|:443... connected.\n",
            "HTTP request sent, awaiting response... 200 OK\n",
            "Length: 23105 (23K) [text/plain]\n",
            "Saving to: ‘diabetes.csv.2’\n",
            "\n",
            "\rdiabetes.csv.2        0%[                    ]       0  --.-KB/s               \rdiabetes.csv.2      100%[===================>]  22.56K  --.-KB/s    in 0s      \n",
            "\n",
            "2023-09-01 13:01:29 (102 MB/s) - ‘diabetes.csv.2’ saved [23105/23105]\n",
            "\n"
          ]
        }
      ]
    },
    {
      "cell_type": "markdown",
      "source": [
        "Cargo el dataset eludiendo la primera fila:"
      ],
      "metadata": {
        "id": "j3b4ezHixO8w"
      }
    },
    {
      "cell_type": "code",
      "source": [
        "dataset = np.loadtxt(\"diabetes.csv\", delimiter=\",\", skiprows=1)"
      ],
      "metadata": {
        "id": "G2LNBO1wvZLl"
      },
      "execution_count": 16,
      "outputs": []
    },
    {
      "cell_type": "markdown",
      "source": [
        "A continuación se excluye la columna de resultados (si la persona es diabética o no):"
      ],
      "metadata": {
        "id": "-LsvokR5xQQb"
      }
    },
    {
      "cell_type": "code",
      "source": [
        "dataset = dataset[:, 0:8]\n",
        "\n",
        "print(\"Data :\\n\", dataset, \"\\n\")"
      ],
      "metadata": {
        "colab": {
          "base_uri": "https://localhost:8080/"
        },
        "id": "jDnQyhpWtN2Z",
        "outputId": "d0078413-0ea6-4fe8-d8c9-ffd2be7e59d5"
      },
      "execution_count": 17,
      "outputs": [
        {
          "output_type": "stream",
          "name": "stdout",
          "text": [
            "Data :\n",
            " [[  6.    148.     72.    ...  33.6     0.627  50.   ]\n",
            " [  1.     85.     66.    ...  26.6     0.351  31.   ]\n",
            " [  8.    183.     64.    ...  23.3     0.672  32.   ]\n",
            " ...\n",
            " [  5.    121.     72.    ...  26.2     0.245  30.   ]\n",
            " [  1.    126.     60.    ...  30.1     0.349  47.   ]\n",
            " [  1.     93.     70.    ...  30.4     0.315  23.   ]] \n",
            "\n"
          ]
        }
      ]
    },
    {
      "cell_type": "markdown",
      "source": [
        "Se normalizan los datos de todos los atributos (se llevan a una misma escala):"
      ],
      "metadata": {
        "id": "UxaAZ5Gq1Tp4"
      }
    },
    {
      "cell_type": "code",
      "execution_count": 18,
      "metadata": {
        "colab": {
          "base_uri": "https://localhost:8080/"
        },
        "id": "psqiqQKbsG9W",
        "outputId": "de218350-f209-484d-ac1a-20a930036f08"
      },
      "outputs": [
        {
          "output_type": "execute_result",
          "data": {
            "text/plain": [
              "array([[1.78179878, 4.63197751, 3.72223799, ..., 4.26448664, 1.89361441,\n",
              "        4.25438766],\n",
              "       [0.29696646, 2.66025735, 3.41205149, ..., 3.37605193, 1.06006166,\n",
              "        2.63772035],\n",
              "       [2.3757317 , 5.72737759, 3.30865599, ..., 2.95721842, 2.02951975,\n",
              "        2.7228081 ],\n",
              "       ...,\n",
              "       [1.48483231, 3.78695458, 3.72223799, ..., 3.32528423, 0.73992908,\n",
              "        2.55263259],\n",
              "       [0.29696646, 3.94344031, 3.10186499, ..., 3.82026929, 1.05402142,\n",
              "        3.9991244 ],\n",
              "       [0.29696646, 2.91063452, 3.61884249, ..., 3.85834506, 0.95133738,\n",
              "        1.95701832]])"
            ]
          },
          "metadata": {},
          "execution_count": 18
        }
      ],
      "source": [
        "# Normalizo los datos a una misma escala\n",
        "dataset = whiten(dataset)\n",
        "\n",
        "dataset"
      ]
    },
    {
      "cell_type": "markdown",
      "source": [
        "Se calculan los clusters en función de un k (en este caso 2):"
      ],
      "metadata": {
        "id": "tCGP5_33xas5"
      }
    },
    {
      "cell_type": "code",
      "source": [
        "# Se asignan los centroides y los clusters a cada punto\n",
        "centroids, clusters = kmeans2(dataset, 2, minit='random')\n",
        "\n",
        "\n",
        "print(\"Dirección de los centroides: \\n\", centroids, \"\\n\")\n",
        "\n",
        "print(\"Cluster asignado a cada punto:\\n\", clusters, \"\\n\")"
      ],
      "metadata": {
        "colab": {
          "base_uri": "https://localhost:8080/"
        },
        "id": "TH7HGEUBwLXl",
        "outputId": "e555df6e-6f0a-41b2-f0b7-a7d48f31e70c"
      },
      "execution_count": 19,
      "outputs": [
        {
          "output_type": "stream",
          "name": "stdout",
          "text": [
            "Dirección de los centroides: \n",
            " [[0.61682284 3.55905042 3.35322302 1.41106328 0.75613405 4.01057092\n",
            "  1.43578157 2.24421106]\n",
            " [2.08308475 4.18630616 3.96587539 1.06797375 0.57951226 4.14993626\n",
            "  1.4060135  3.8756698 ]] \n",
            "\n",
            "Cluster asignado a cada punto:\n",
            " [1 0 1 0 0 0 0 0 1 1 1 1 1 1 1 0 0 1 0 0 0 1 1 1 1 1 1 0 1 1 1 0 0 0 1 0 1\n",
            " 1 0 1 0 1 1 1 1 0 0 0 0 0 0 0 0 1 1 0 1 0 1 0 0 1 0 0 1 0 0 1 0 0 0 0 1 0\n",
            " 0 0 1 0 0 0 0 0 1 0 1 0 1 0 1 0 0 0 1 1 0 1 0 0 0 0 0 0 0 0 0 0 0 0 0 0 0\n",
            " 1 0 0 1 1 1 0 0 0 0 0 0 1 0 0 0 0 0 1 1 1 0 1 0 0 0 0 0 0 1 1 0 1 0 0 1 0\n",
            " 1 0 0 0 1 0 1 1 0 0 0 1 1 1 0 0 0 1 0 0 0 0 1 0 0 0 0 1 1 0 1 1 1 0 0 0 1\n",
            " 1 1 0 1 0 0 1 1 1 1 0 0 0 0 0 0 0 0 0 1 0 1 1 0 1 0 0 1 0 1 1 0 0 0 1 0 1\n",
            " 0 1 0 0 0 0 0 0 0 1 0 0 0 1 1 0 1 0 0 0 0 0 0 1 1 0 1 0 1 0 0 0 1 0 0 0 0\n",
            " 1 1 0 0 1 0 1 0 0 0 0 1 0 1 0 1 0 0 0 1 0 0 1 1 1 1 1 0 0 0 0 0 0 0 0 1 0\n",
            " 0 0 1 1 0 0 0 1 1 0 1 0 0 0 1 0 0 0 1 0 0 1 0 1 0 0 0 1 0 0 0 1 0 1 1 0 0\n",
            " 1 0 0 0 1 1 1 0 0 0 1 1 1 0 0 0 0 0 1 0 0 0 1 0 1 1 0 0 1 1 1 0 0 1 0 0 1\n",
            " 0 0 0 0 0 1 0 0 1 0 0 0 0 0 0 0 0 1 1 0 0 1 0 0 1 0 0 0 0 0 0 1 1 1 1 0 1\n",
            " 0 1 0 0 0 0 0 0 0 0 1 0 0 0 0 0 0 1 0 0 0 0 0 0 0 0 0 0 0 1 1 0 1 1 0 0 1\n",
            " 0 0 0 0 0 0 0 0 0 1 0 1 1 0 1 1 1 0 1 0 1 0 0 0 1 0 0 0 0 1 0 1 0 1 1 1 0\n",
            " 0 0 0 0 0 0 1 0 1 0 0 0 1 0 1 0 0 1 1 0 0 0 1 0 1 0 0 0 1 1 0 1 0 0 0 1 1\n",
            " 1 1 0 0 0 1 0 0 0 0 0 0 0 0 0 0 0 0 1 1 0 0 1 0 1 0 0 1 1 0 1 1 0 0 1 0 0\n",
            " 1 0 1 1 1 1 0 0 0 0 0 0 1 1 0 0 0 0 0 0 0 0 0 1 1 0 0 1 1 1 0 1 0 1 0 1 0\n",
            " 1 0 0 0 0 0 1 0 0 0 0 1 0 0 0 0 0 0 0 0 1 0 1 0 1 0 1 0 0 0 1 0 0 0 0 0 1\n",
            " 0 1 0 0 0 1 1 1 0 0 0 0 0 1 0 0 0 0 0 1 0 0 0 0 0 0 0 0 0 1 0 1 0 1 1 1 0\n",
            " 1 1 1 1 1 0 1 0 1 1 1 0 0 0 0 0 0 0 1 0 0 0 0 1 1 1 0 1 0 1 0 0 0 0 0 1 1\n",
            " 0 0 0 0 0 1 0 0 1 1 0 0 1 0 1 0 1 0 0 0 1 1 0 0 0 0 0 0 1 0 0 1 0 0 1 0 0\n",
            " 1 0 0 1 1 1 0 0 1 1 0 0 0 0 1 0 1 1 0 1 0 1 1 1 0 0 1 0] \n",
            "\n"
          ]
        }
      ]
    },
    {
      "cell_type": "markdown",
      "source": [
        "Se realiza un gráfico de torta para ver la proporción:"
      ],
      "metadata": {
        "id": "ZusN9rPZx1HP"
      }
    },
    {
      "cell_type": "code",
      "source": [
        "# count non-diabetic patients\n",
        "non_diab = list(clusters).count(0)\n",
        "\n",
        "# count diabetic patients\n",
        "diab = list(clusters).count(1)\n",
        "\n",
        "# depict illustration\n",
        "x_axis = []\n",
        "x_axis.append(diab)\n",
        "x_axis.append(non_diab)\n",
        "\n",
        "colors = ['green', 'orange']\n",
        "\n",
        "print(\"Pacientes diabéticos: \" + str(x_axis[0]) +\n",
        "\t\"\\nPacientes no diabéticos : \" + str(x_axis[1]))\n",
        "\n",
        "y = ['diabéticos', 'no diabéticos']\n",
        "\n",
        "plt.pie(x_axis, labels=y, colors=colors, shadow='true')\n",
        "plt.show()"
      ],
      "metadata": {
        "colab": {
          "base_uri": "https://localhost:8080/",
          "height": 441
        },
        "id": "POB0mcNdwXzO",
        "outputId": "5b4b1e92-a4f0-451d-a8cd-82493e18f566"
      },
      "execution_count": 20,
      "outputs": [
        {
          "output_type": "stream",
          "name": "stdout",
          "text": [
            "Pacientes diabéticos: 275\n",
            "Pacientes no diabéticos : 493\n"
          ]
        },
        {
          "output_type": "display_data",
          "data": {
            "text/plain": [
              "<Figure size 640x480 with 1 Axes>"
            ],
            "image/png": "[encoded data removed]"
          },
          "metadata": {}
        }
      ]
    },
    {
      "cell_type": "markdown",
      "source": [
        "Créditos: https://www.geeksforgeeks.org/k-means-clustering-with-scipy/\n"
      ],
      "metadata": {
        "id": "7-5Z9H-zx6qx"
      }
    }
  ]
}