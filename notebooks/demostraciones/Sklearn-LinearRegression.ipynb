{
  "nbformat": 4,
  "nbformat_minor": 0,
  "metadata": {
    "colab": {
      "provenance": [],
      "toc_visible": true,
      "authorship_tag": "ABX9TyO9wKvZ4qS1NzagwHgfwoQh",
      "include_colab_link": true
    },
    "kernelspec": {
      "name": "python3",
      "display_name": "Python 3"
    },
    "language_info": {
      "name": "python"
    }
  },
  "cells": [
    {
      "cell_type": "markdown",
      "metadata": {
        "id": "view-in-github",
        "colab_type": "text"
      },
      "source": [
        "<a href=\"https://colab.research.google.com/github/jumafernandez/elementos-computacion-unlu/blob/main/notebooks/demostraciones/Sklearn-LinearRegression.ipynb\" target=\"_parent\"><img src=\"https://colab.research.google.com/assets/colab-badge.svg\" alt=\"Open In Colab\"/></a>"
      ]
    },
    {
      "cell_type": "markdown",
      "source": [
        "# Regresión Lineal con Scikit-Learn\n",
        "\n",
        "Esta es una adaptación de un ejemplo de _regresión lineal_ cuyo código original puede encontrarse [aquí](https://scikit-learn.org/stable/auto_examples/linear_model/plot_ols.html#sphx-glr-auto-examples-linear-model-plot-ols-py)."
      ],
      "metadata": {
        "id": "Qxj96ulG2auO"
      }
    },
    {
      "cell_type": "markdown",
      "source": [
        "## Importación de librerías\n",
        "\n",
        "Aquí se importan las librerías que se utilizan en el ejemplo:"
      ],
      "metadata": {
        "id": "LB7xCS_L48kC"
      }
    },
    {
      "cell_type": "code",
      "source": [
        "import matplotlib.pyplot as plt\n",
        "import numpy as np\n",
        "from sklearn.linear_model import LinearRegression\n",
        "from sklearn.metrics import mean_squared_error, r2_score"
      ],
      "metadata": {
        "id": "2E7G1mCJ2cQG"
      },
      "execution_count": null,
      "outputs": []
    },
    {
      "cell_type": "markdown",
      "source": [
        "## Carga de datos\n",
        "\n",
        "Se cargan los datos que se utilizan en el ejemplo. En este caso, se utiliza un dataset de ejemplo que trata sobre la [diabetes](https://scikit-learn.org/stable/datasets/toy_dataset.html#diabetes-dataset)."
      ],
      "metadata": {
        "id": "uQXzC4-45Fr2"
      }
    },
    {
      "cell_type": "code",
      "execution_count": null,
      "metadata": {
        "colab": {
          "base_uri": "https://localhost:8080/"
        },
        "id": "Mj-4U1jC2XOU",
        "outputId": "214a62a3-4edc-41d5-9deb-812b3611b1c5"
      },
      "outputs": [
        {
          "output_type": "stream",
          "name": "stdout",
          "text": [
            ".. _diabetes_dataset:\n",
            "\n",
            "Diabetes dataset\n",
            "----------------\n",
            "\n",
            "Ten baseline variables, age, sex, body mass index, average blood\n",
            "pressure, and six blood serum measurements were obtained for each of n =\n",
            "442 diabetes patients, as well as the response of interest, a\n",
            "quantitative measure of disease progression one year after baseline.\n",
            "\n",
            "**Data Set Characteristics:**\n",
            "\n",
            "  :Number of Instances: 442\n",
            "\n",
            "  :Number of Attributes: First 10 columns are numeric predictive values\n",
            "\n",
            "  :Target: Column 11 is a quantitative measure of disease progression one year after baseline\n",
            "\n",
            "  :Attribute Information:\n",
            "      - age     age in years\n",
            "      - sex\n",
            "      - bmi     body mass index\n",
            "      - bp      average blood pressure\n",
            "      - s1      tc, total serum cholesterol\n",
            "      - s2      ldl, low-density lipoproteins\n",
            "      - s3      hdl, high-density lipoproteins\n",
            "      - s4      tch, total cholesterol / HDL\n",
            "      - s5      ltg, possibly log of serum triglycerides level\n",
            "      - s6      glu, blood sugar level\n",
            "\n",
            "Note: Each of these 10 feature variables have been mean centered and scaled by the standard deviation times `n_samples` (i.e. the sum of squares of each column totals 1).\n",
            "\n",
            "Source URL:\n",
            "https://www4.stat.ncsu.edu/~boos/var.select/diabetes.html\n",
            "\n",
            "For more information see:\n",
            "Bradley Efron, Trevor Hastie, Iain Johnstone and Robert Tibshirani (2004) \"Least Angle Regression,\" Annals of Statistics (with discussion), 407-499.\n",
            "(https://web.stanford.edu/~hastie/Papers/LARS/LeastAngle_2002.pdf)\n"
          ]
        }
      ],
      "source": [
        "from sklearn.datasets import load_diabetes\n",
        "\n",
        "# Cargo el dataset\n",
        "diabetes = load_diabetes(as_frame=True)\n",
        "\n",
        "# Muestro la descripción que viene en el objeto\n",
        "print(diabetes.DESCR)"
      ]
    },
    {
      "cell_type": "markdown",
      "source": [
        "Se toma sólo una variable independiente, el BMI (índice de masa corporal), para estimar la diabetes:"
      ],
      "metadata": {
        "id": "Ymxl7r5r80ZB"
      }
    },
    {
      "cell_type": "code",
      "source": [
        "diabetes_X = diabetes.data.bmi\n",
        "\n",
        "diabetes_X"
      ],
      "metadata": {
        "colab": {
          "base_uri": "https://localhost:8080/"
        },
        "id": "wxpCRo9I6hpc",
        "outputId": "4ac19a68-9fe4-4c22-db59-eed033b0e932"
      },
      "execution_count": null,
      "outputs": [
        {
          "output_type": "execute_result",
          "data": {
            "text/plain": [
              "0      0.061696\n",
              "1     -0.051474\n",
              "2      0.044451\n",
              "3     -0.011595\n",
              "4     -0.036385\n",
              "         ...   \n",
              "437    0.019662\n",
              "438   -0.015906\n",
              "439   -0.015906\n",
              "440    0.039062\n",
              "441   -0.073030\n",
              "Name: bmi, Length: 442, dtype: float64"
            ]
          },
          "metadata": {},
          "execution_count": 90
        }
      ]
    },
    {
      "cell_type": "markdown",
      "source": [
        "Se separa en la variable dependiente la medida de la diabetes:"
      ],
      "metadata": {
        "id": "oVr4BYru9BTl"
      }
    },
    {
      "cell_type": "code",
      "source": [
        "diabetes_y = diabetes.target\n",
        "\n",
        "diabetes_y"
      ],
      "metadata": {
        "colab": {
          "base_uri": "https://localhost:8080/"
        },
        "id": "qSXfl07u8ftF",
        "outputId": "80eb499d-c3fe-4af0-e7ec-2dc0645bb5bb"
      },
      "execution_count": null,
      "outputs": [
        {
          "output_type": "execute_result",
          "data": {
            "text/plain": [
              "0      151.0\n",
              "1       75.0\n",
              "2      141.0\n",
              "3      206.0\n",
              "4      135.0\n",
              "       ...  \n",
              "437    178.0\n",
              "438    104.0\n",
              "439    132.0\n",
              "440    220.0\n",
              "441     57.0\n",
              "Name: target, Length: 442, dtype: float64"
            ]
          },
          "metadata": {},
          "execution_count": 91
        }
      ]
    },
    {
      "cell_type": "markdown",
      "source": [
        "En la carga de datos se separan las instancias en instancias para entrenamiento del modelo y otras para la validación."
      ],
      "metadata": {
        "id": "iayn-rIo6EuV"
      }
    },
    {
      "cell_type": "code",
      "source": [
        "# Variable/s independiente/s\n",
        "diabetes_X_train = diabetes_X[:-20].values.reshape(-1, 1)\n",
        "diabetes_X_test = diabetes_X[-20:].values.reshape(-1, 1)\n",
        "\n",
        "# Variable dependiente\n",
        "diabetes_y_train = diabetes_y[:-20].values.reshape(-1, 1)\n",
        "diabetes_y_test = diabetes_y[-20:].values.reshape(-1, 1)"
      ],
      "metadata": {
        "id": "VRQNxplZ2mr9"
      },
      "execution_count": null,
      "outputs": []
    },
    {
      "cell_type": "markdown",
      "source": [
        "## Entrenamiento del modelo\n",
        "\n",
        "Se entrena el modelo de regresión lineal:"
      ],
      "metadata": {
        "id": "G3uSOQZH9i5I"
      }
    },
    {
      "cell_type": "code",
      "source": [
        "# Se crea el objeto LinearRegression de sklearn\n",
        "regr = LinearRegression()\n",
        "\n",
        "# Se entrena\n",
        "regr.fit(diabetes_X_train, diabetes_y_train)\n",
        "\n",
        "# Se hacen las predicciones sobre los datos de entrenamiento de prueba,\n",
        "# para ver que tan bien ajusta el modelo entrenado\n",
        "diabetes_y_pred = regr.predict(diabetes_X_test)"
      ],
      "metadata": {
        "id": "oI_klybR2orF"
      },
      "execution_count": null,
      "outputs": []
    },
    {
      "cell_type": "markdown",
      "source": [
        "Recta ajustada:"
      ],
      "metadata": {
        "id": "bOr8aiVeEIb_"
      }
    },
    {
      "cell_type": "code",
      "source": [
        "print(\"Coeficiente: \", regr.coef_)\n",
        "print(\"Término independiente: \", regr.intercept_)"
      ],
      "metadata": {
        "colab": {
          "base_uri": "https://localhost:8080/"
        },
        "id": "eLDEWniQEIkI",
        "outputId": "0e8c229a-8078-4f51-f1c0-88eb77ea6fc4"
      },
      "execution_count": null,
      "outputs": [
        {
          "output_type": "stream",
          "name": "stdout",
          "text": [
            "Coeficiente:  [[938.23786125]]\n",
            "Término independiente:  [152.91886183]\n"
          ]
        }
      ]
    },
    {
      "cell_type": "markdown",
      "source": [
        "## Validación del modelo\n",
        "\n",
        "Se verifican las métricas de selección de modelos asociadas al error del ajuste:"
      ],
      "metadata": {
        "id": "mDNUkx09A6TN"
      }
    },
    {
      "cell_type": "code",
      "source": [
        "print(\"Error cuadrado medio: %.2f\" % mean_squared_error(diabetes_y_test, diabetes_y_pred))\n",
        "print(\"Coeficiente de determinación: %.2f\" % r2_score(diabetes_y_test, diabetes_y_pred))"
      ],
      "metadata": {
        "colab": {
          "base_uri": "https://localhost:8080/"
        },
        "id": "MAevUr2P2qtE",
        "outputId": "458f5392-a397-46e2-8561-f65ca15b8018"
      },
      "execution_count": null,
      "outputs": [
        {
          "output_type": "stream",
          "name": "stdout",
          "text": [
            "Error cuadrado medio: 2548.07\n",
            "Coeficiente de determinación: 0.47\n"
          ]
        }
      ]
    },
    {
      "cell_type": "markdown",
      "source": [
        "## Gráfica del modelo\n",
        "\n",
        "Se grafican los datos junto con la recta ajustada:"
      ],
      "metadata": {
        "id": "YvouvuFFA7q7"
      }
    },
    {
      "cell_type": "code",
      "source": [
        "plt.scatter(diabetes_X_test, diabetes_y_test, color=\"black\")\n",
        "plt.plot(diabetes_X_test, diabetes_y_pred, color=\"blue\", linewidth=3)\n",
        "\n",
        "plt.title(\"Regresión lineal: Diabetes en función del BMI\")\n",
        "plt.xlabel(\"BMI\")\n",
        "plt.ylabel(\"Diabetes\")\n",
        "\n",
        "# Agrego el eje X en 0\n",
        "plt.axhline(0, c='black', ls='-')\n",
        "\n",
        "# Agrego el eje Y en 0\n",
        "plt.axvline(0, c='black', ls='-')\n",
        "\n",
        "plt.ylim(bottom=0)\n",
        "\n",
        "plt.show()"
      ],
      "metadata": {
        "colab": {
          "base_uri": "https://localhost:8080/",
          "height": 295
        },
        "id": "Z1YbN-kO2r27",
        "outputId": "e26745db-fc15-44a7-ea5b-8fb6aca3e401"
      },
      "execution_count": null,
      "outputs": [
        {
          "output_type": "display_data",
          "data": {
            "text/plain": [
              "<Figure size 432x288 with 1 Axes>"
            ],
            "image/png": "[encoded data removed]"
          },
          "metadata": {
            "needs_background": "light"
          }
        }
      ]
    }
  ]
}