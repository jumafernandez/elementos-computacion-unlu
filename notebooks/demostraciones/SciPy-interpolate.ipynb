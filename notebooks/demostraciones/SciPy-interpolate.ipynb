{
  "nbformat": 4,
  "nbformat_minor": 0,
  "metadata": {
    "colab": {
      "provenance": [],
      "include_colab_link": true
    },
    "kernelspec": {
      "name": "python3",
      "display_name": "Python 3"
    },
    "language_info": {
      "name": "python"
    }
  },
  "cells": [
    {
      "cell_type": "markdown",
      "metadata": {
        "id": "view-in-github",
        "colab_type": "text"
      },
      "source": [
        "<a href=\"https://colab.research.google.com/github/jumafernandez/elementos-computacion-unlu/blob/main/notebooks/demostraciones/SciPy-interpolate.ipynb\" target=\"_parent\"><img src=\"https://colab.research.google.com/assets/colab-badge.svg\" alt=\"Open In Colab\"/></a>"
      ]
    },
    {
      "cell_type": "markdown",
      "source": [
        "# Interpolación con SciPy.interpolate\n",
        "\n",
        "El objetivo principal de la interpolación es proporcionar una aproximación suave y continua de una función desconocida a partir de datos limitados. Esto es útil en una variedad de aplicaciones, como gráficos, análisis de datos, procesamiento de señales, diseño de algoritmos y muchas otras áreas de las matemáticas y la ciencia.\n",
        "\n",
        "Existen varios métodos de interpolación, cada uno con sus propias características y aplicaciones. Algunos de los métodos de interpolación más comunes incluyen:\n",
        "- **Interpolación lineal:** Este método conecta dos puntos de datos conocidos  \n",
        "  con una línea recta. La función interpolante es una recta, lo que significa que asume una variación lineal entre los puntos de datos conocidos.\n",
        "- **Interpolación polinómica:** Aquí, se ajusta un polinomio a los puntos de\n",
        "  datos conocidos. El grado del polinomio puede variar según la precisión deseada. Los polinomios de Lagrange y los polinomios de Newton son ejemplos comunes de este tipo de interpolación.\n",
        "- **Interpolación spline:** En este enfoque, se utilizan polinomios de menor\n",
        "  grado para interpolar secciones de los datos. Los polinomios se ajustan de manera que sean continuos y suaves en los puntos de conexión, evitando oscilaciones indeseadas.\n",
        "- **Interpolación trigonométrica:** Se utiliza para datos periódicos, como\n",
        "  señales senoidales. La interpolación trigonométrica utiliza funciones trigonométricas como senos y cosenos para ajustar los datos.\n",
        "- **Interpolación cúbica:** Este método se centra en la interpolación de curvas\n",
        "  suaves mediante polinomios cúbicos, garantizando continuidad en la primera y segunda derivada.\n",
        "\n",
        "La elección del método de interpolación adecuado depende de la naturaleza de los datos y los requisitos de precisión. Es importante tener en cuenta que la interpolación asume que la función subyacente es continua y suave entre los puntos de datos conocidos, lo que puede no ser válido en todas las situaciones. Por lo tanto, es esencial comprender las limitaciones y los supuestos de la interpolación al aplicarla en contextos específicos.\n",
        "\n",
        "En esta breve notebook se muestra un ejemplo de utilización del subpaquete interpolate de SciPy.\n",
        "\n",
        "Para la demostración se utilizará un dataset sobre diabetes publicado en Kaggle al que se accede a través de siguiente [enlace](\n",
        "https://www.kaggle.com/datasets/saurabh00007/diabetescsv).\n"
      ],
      "metadata": {
        "id": "Gln4_JT9sICm"
      }
    },
    {
      "cell_type": "markdown",
      "source": [
        "En primer lugar importo las librerías que voy a utilizar:"
      ],
      "metadata": {
        "id": "D13JRobts66E"
      }
    },
    {
      "cell_type": "code",
      "source": [
        "import pandas as pd\n",
        "import numpy as np\n",
        "import matplotlib.pyplot as plt\n",
        "from scipy import interpolate"
      ],
      "metadata": {
        "id": "cIFFV8WfpDnL"
      },
      "execution_count": 15,
      "outputs": []
    },
    {
      "cell_type": "markdown",
      "source": [
        "Luego, descargo del Repositorio Github el dataset y lo cargo en un dataframe:"
      ],
      "metadata": {
        "id": "JJj9mcHntK2F"
      }
    },
    {
      "cell_type": "code",
      "source": [
        "!wget 'https://raw.githubusercontent.com/jumafernandez/elementos-computacion-unlu/main/data/ingresantes-sistemas.csv'"
      ],
      "metadata": {
        "colab": {
          "base_uri": "https://localhost:8080/"
        },
        "id": "WmASiPWHtP5n",
        "outputId": "cc67a90c-e1c1-4334-9013-8be13cf0f2a0"
      },
      "execution_count": 16,
      "outputs": [
        {
          "output_type": "stream",
          "name": "stdout",
          "text": [
            "--2023-09-02 12:55:43--  https://raw.githubusercontent.com/jumafernandez/elementos-computacion-unlu/main/data/ingresantes-sistemas.csv\n",
            "Resolving raw.githubusercontent.com (raw.githubusercontent.com)... 185.199.108.133, 185.199.109.133, 185.199.110.133, ...\n",
            "Connecting to raw.githubusercontent.com (raw.githubusercontent.com)|185.199.108.133|:443... connected.\n",
            "HTTP request sent, awaiting response... 200 OK\n",
            "Length: 71 [text/plain]\n",
            "Saving to: ‘ingresantes-sistemas.csv.1’\n",
            "\n",
            "ingresantes-sistema 100%[===================>]      71  --.-KB/s    in 0s      \n",
            "\n",
            "2023-09-02 12:55:44 (9.40 MB/s) - ‘ingresantes-sistemas.csv.1’ saved [71/71]\n",
            "\n"
          ]
        }
      ]
    },
    {
      "cell_type": "code",
      "source": [
        "dataset = pd.read_csv(\"ingresantes-sistemas.csv\", delimiter=\",\")\n",
        "\n",
        "dataset"
      ],
      "metadata": {
        "id": "G2LNBO1wvZLl",
        "colab": {
          "base_uri": "https://localhost:8080/",
          "height": 238
        },
        "outputId": "65d5edf8-d3cc-4c04-e8f7-f2f66bbf8e0d"
      },
      "execution_count": 18,
      "outputs": [
        {
          "output_type": "execute_result",
          "data": {
            "text/plain": [
              "   anio  ingresantes\n",
              "0  1996          220\n",
              "1  1997          141\n",
              "2  1998          354\n",
              "3  2000          201\n",
              "4  2001          339\n",
              "5  2002          434"
            ],
            "text/html": [
              "\n",
              "  <div id=\"df-914974cf-cd3c-4646-9508-41874db95dbc\" class=\"colab-df-container\">\n",
              "    <div>\n",
              "<style scoped>\n",
              "    .dataframe tbody tr th:only-of-type {\n",
              "        vertical-align: middle;\n",
              "    }\n",
              "\n",
              "    .dataframe tbody tr th {\n",
              "        vertical-align: top;\n",
              "    }\n",
              "\n",
              "    .dataframe thead th {\n",
              "        text-align: right;\n",
              "    }\n",
              "</style>\n",
              "<table border=\"1\" class=\"dataframe\">\n",
              "  <thead>\n",
              "    <tr style=\"text-align: right;\">\n",
              "      <th></th>\n",
              "      <th>anio</th>\n",
              "      <th>ingresantes</th>\n",
              "    </tr>\n",
              "  </thead>\n",
              "  <tbody>\n",
              "    <tr>\n",
              "      <th>0</th>\n",
              "      <td>1996</td>\n",
              "      <td>220</td>\n",
              "    </tr>\n",
              "    <tr>\n",
              "      <th>1</th>\n",
              "      <td>1997</td>\n",
              "      <td>141</td>\n",
              "    </tr>\n",
              "    <tr>\n",
              "      <th>2</th>\n",
              "      <td>1998</td>\n",
              "      <td>354</td>\n",
              "    </tr>\n",
              "    <tr>\n",
              "      <th>3</th>\n",
              "      <td>2000</td>\n",
              "      <td>201</td>\n",
              "    </tr>\n",
              "    <tr>\n",
              "      <th>4</th>\n",
              "      <td>2001</td>\n",
              "      <td>339</td>\n",
              "    </tr>\n",
              "    <tr>\n",
              "      <th>5</th>\n",
              "      <td>2002</td>\n",
              "      <td>434</td>\n",
              "    </tr>\n",
              "  </tbody>\n",
              "</table>\n",
              "</div>\n",
              "    <div class=\"colab-df-buttons\">\n",
              "\n",
              "  <div class=\"colab-df-container\">\n",
              "    <button class=\"colab-df-convert\" onclick=\"convertToInteractive('df-914974cf-cd3c-4646-9508-41874db95dbc')\"\n",
              "            title=\"Convert this dataframe to an interactive table.\"\n",
              "            style=\"display:none;\">\n",
              "\n",
              "  <svg xmlns=\"http://www.w3.org/2000/svg\" height=\"24px\" viewBox=\"0 -960 960 960\">\n",
              "    <path d=\"M120-120v-720h720v720H120Zm60-500h600v-160H180v160Zm220 220h160v-160H400v160Zm0 220h160v-160H400v160ZM180-400h160v-160H180v160Zm440 0h160v-160H620v160ZM180-180h160v-160H180v160Zm440 0h160v-160H620v160Z\"/>\n",
              "  </svg>\n",
              "    </button>\n",
              "\n",
              "  <style>\n",
              "    .colab-df-container {\n",
              "      display:flex;\n",
              "      gap: 12px;\n",
              "    }\n",
              "\n",
              "    .colab-df-convert {\n",
              "      background-color: #E8F0FE;\n",
              "      border: none;\n",
              "      border-radius: 50%;\n",
              "      cursor: pointer;\n",
              "      display: none;\n",
              "      fill: #1967D2;\n",
              "      height: 32px;\n",
              "      padding: 0 0 0 0;\n",
              "      width: 32px;\n",
              "    }\n",
              "\n",
              "    .colab-df-convert:hover {\n",
              "      background-color: #E2EBFA;\n",
              "      box-shadow: 0px 1px 2px rgba(60, 64, 67, 0.3), 0px 1px 3px 1px rgba(60, 64, 67, 0.15);\n",
              "      fill: #174EA6;\n",
              "    }\n",
              "\n",
              "    .colab-df-buttons div {\n",
              "      margin-bottom: 4px;\n",
              "    }\n",
              "\n",
              "    [theme=dark] .colab-df-convert {\n",
              "      background-color: #3B4455;\n",
              "      fill: #D2E3FC;\n",
              "    }\n",
              "\n",
              "    [theme=dark] .colab-df-convert:hover {\n",
              "      background-color: #434B5C;\n",
              "      box-shadow: 0px 1px 3px 1px rgba(0, 0, 0, 0.15);\n",
              "      filter: drop-shadow(0px 1px 2px rgba(0, 0, 0, 0.3));\n",
              "      fill: #FFFFFF;\n",
              "    }\n",
              "  </style>\n",
              "\n",
              "    <script>\n",
              "      const buttonEl =\n",
              "        document.querySelector('#df-914974cf-cd3c-4646-9508-41874db95dbc button.colab-df-convert');\n",
              "      buttonEl.style.display =\n",
              "        google.colab.kernel.accessAllowed ? 'block' : 'none';\n",
              "\n",
              "      async function convertToInteractive(key) {\n",
              "        const element = document.querySelector('#df-914974cf-cd3c-4646-9508-41874db95dbc');\n",
              "        const dataTable =\n",
              "          await google.colab.kernel.invokeFunction('convertToInteractive',\n",
              "                                                    [key], {});\n",
              "        if (!dataTable) return;\n",
              "\n",
              "        const docLinkHtml = 'Like what you see? Visit the ' +\n",
              "          '<a target=\"_blank\" href=https://colab.research.google.com/notebooks/data_table.ipynb>data table notebook</a>'\n",
              "          + ' to learn more about interactive tables.';\n",
              "        element.innerHTML = '';\n",
              "        dataTable['output_type'] = 'display_data';\n",
              "        await google.colab.output.renderOutput(dataTable, element);\n",
              "        const docLink = document.createElement('div');\n",
              "        docLink.innerHTML = docLinkHtml;\n",
              "        element.appendChild(docLink);\n",
              "      }\n",
              "    </script>\n",
              "  </div>\n",
              "\n",
              "\n",
              "<div id=\"df-71cc2c04-ee3e-41cf-9886-4140af2bb04a\">\n",
              "  <button class=\"colab-df-quickchart\" onclick=\"quickchart('df-71cc2c04-ee3e-41cf-9886-4140af2bb04a')\"\n",
              "            title=\"Suggest charts.\"\n",
              "            style=\"display:none;\">\n",
              "\n",
              "<svg xmlns=\"http://www.w3.org/2000/svg\" height=\"24px\"viewBox=\"0 0 24 24\"\n",
              "     width=\"24px\">\n",
              "    <g>\n",
              "        <path d=\"M19 3H5c-1.1 0-2 .9-2 2v14c0 1.1.9 2 2 2h14c1.1 0 2-.9 2-2V5c0-1.1-.9-2-2-2zM9 17H7v-7h2v7zm4 0h-2V7h2v10zm4 0h-2v-4h2v4z\"/>\n",
              "    </g>\n",
              "</svg>\n",
              "  </button>\n",
              "\n",
              "<style>\n",
              "  .colab-df-quickchart {\n",
              "      --bg-color: #E8F0FE;\n",
              "      --fill-color: #1967D2;\n",
              "      --hover-bg-color: #E2EBFA;\n",
              "      --hover-fill-color: #174EA6;\n",
              "      --disabled-fill-color: #AAA;\n",
              "      --disabled-bg-color: #DDD;\n",
              "  }\n",
              "\n",
              "  [theme=dark] .colab-df-quickchart {\n",
              "      --bg-color: #3B4455;\n",
              "      --fill-color: #D2E3FC;\n",
              "      --hover-bg-color: #434B5C;\n",
              "      --hover-fill-color: #FFFFFF;\n",
              "      --disabled-bg-color: #3B4455;\n",
              "      --disabled-fill-color: #666;\n",
              "  }\n",
              "\n",
              "  .colab-df-quickchart {\n",
              "    background-color: var(--bg-color);\n",
              "    border: none;\n",
              "    border-radius: 50%;\n",
              "    cursor: pointer;\n",
              "    display: none;\n",
              "    fill: var(--fill-color);\n",
              "    height: 32px;\n",
              "    padding: 0;\n",
              "    width: 32px;\n",
              "  }\n",
              "\n",
              "  .colab-df-quickchart:hover {\n",
              "    background-color: var(--hover-bg-color);\n",
              "    box-shadow: 0 1px 2px rgba(60, 64, 67, 0.3), 0 1px 3px 1px rgba(60, 64, 67, 0.15);\n",
              "    fill: var(--button-hover-fill-color);\n",
              "  }\n",
              "\n",
              "  .colab-df-quickchart-complete:disabled,\n",
              "  .colab-df-quickchart-complete:disabled:hover {\n",
              "    background-color: var(--disabled-bg-color);\n",
              "    fill: var(--disabled-fill-color);\n",
              "    box-shadow: none;\n",
              "  }\n",
              "\n",
              "  .colab-df-spinner {\n",
              "    border: 2px solid var(--fill-color);\n",
              "    border-color: transparent;\n",
              "    border-bottom-color: var(--fill-color);\n",
              "    animation:\n",
              "      spin 1s steps(1) infinite;\n",
              "  }\n",
              "\n",
              "  @keyframes spin {\n",
              "    0% {\n",
              "      border-color: transparent;\n",
              "      border-bottom-color: var(--fill-color);\n",
              "      border-left-color: var(--fill-color);\n",
              "    }\n",
              "    20% {\n",
              "      border-color: transparent;\n",
              "      border-left-color: var(--fill-color);\n",
              "      border-top-color: var(--fill-color);\n",
              "    }\n",
              "    30% {\n",
              "      border-color: transparent;\n",
              "      border-left-color: var(--fill-color);\n",
              "      border-top-color: var(--fill-color);\n",
              "      border-right-color: var(--fill-color);\n",
              "    }\n",
              "    40% {\n",
              "      border-color: transparent;\n",
              "      border-right-color: var(--fill-color);\n",
              "      border-top-color: var(--fill-color);\n",
              "    }\n",
              "    60% {\n",
              "      border-color: transparent;\n",
              "      border-right-color: var(--fill-color);\n",
              "    }\n",
              "    80% {\n",
              "      border-color: transparent;\n",
              "      border-right-color: var(--fill-color);\n",
              "      border-bottom-color: var(--fill-color);\n",
              "    }\n",
              "    90% {\n",
              "      border-color: transparent;\n",
              "      border-bottom-color: var(--fill-color);\n",
              "    }\n",
              "  }\n",
              "</style>\n",
              "\n",
              "  <script>\n",
              "    async function quickchart(key) {\n",
              "      const quickchartButtonEl =\n",
              "        document.querySelector('#' + key + ' button');\n",
              "      quickchartButtonEl.disabled = true;  // To prevent multiple clicks.\n",
              "      quickchartButtonEl.classList.add('colab-df-spinner');\n",
              "      try {\n",
              "        const charts = await google.colab.kernel.invokeFunction(\n",
              "            'suggestCharts', [key], {});\n",
              "      } catch (error) {\n",
              "        console.error('Error during call to suggestCharts:', error);\n",
              "      }\n",
              "      quickchartButtonEl.classList.remove('colab-df-spinner');\n",
              "      quickchartButtonEl.classList.add('colab-df-quickchart-complete');\n",
              "    }\n",
              "    (() => {\n",
              "      let quickchartButtonEl =\n",
              "        document.querySelector('#df-71cc2c04-ee3e-41cf-9886-4140af2bb04a button');\n",
              "      quickchartButtonEl.style.display =\n",
              "        google.colab.kernel.accessAllowed ? 'block' : 'none';\n",
              "    })();\n",
              "  </script>\n",
              "</div>\n",
              "    </div>\n",
              "  </div>\n"
            ]
          },
          "metadata": {},
          "execution_count": 18
        }
      ]
    },
    {
      "cell_type": "markdown",
      "source": [
        "Tomo los puntos conocidos y los paso a numpy:"
      ],
      "metadata": {
        "id": "vDLMJtKK9KsF"
      }
    },
    {
      "cell_type": "code",
      "source": [
        "# Convertir las columnas del DataFrame en arrays de NumPy\n",
        "x_known = dataset['anio'].values\n",
        "y_known = dataset['ingresantes'].values"
      ],
      "metadata": {
        "id": "ghn096Yq9JVt"
      },
      "execution_count": 19,
      "outputs": []
    },
    {
      "cell_type": "markdown",
      "source": [
        "Grafico la serie con Pandas:"
      ],
      "metadata": {
        "id": "DhHCL4g9tljc"
      }
    },
    {
      "cell_type": "code",
      "source": [
        "plt.plot(x_known, y_known, 'o')\n",
        "plt.show()"
      ],
      "metadata": {
        "colab": {
          "base_uri": "https://localhost:8080/",
          "height": 430
        },
        "id": "hujq4RIQ950e",
        "outputId": "cd4abc6c-af01-4e97-e56a-6607f043e637"
      },
      "execution_count": 20,
      "outputs": [
        {
          "output_type": "display_data",
          "data": {
            "text/plain": [
              "<Figure size 640x480 with 1 Axes>"
            ],
            "image/png": "[encoded data removed]"
          },
          "metadata": {}
        }
      ]
    },
    {
      "cell_type": "markdown",
      "source": [
        "## Interpolación lineal\n",
        "\n",
        "Genero la función de interpolación y lo aplico para 1999:"
      ],
      "metadata": {
        "id": "-LsvokR5xQQb"
      }
    },
    {
      "cell_type": "code",
      "source": [
        "# Crear una función de interpolación lineal\n",
        "f = interpolate.interp1d(x_known, y_known)\n",
        "\n",
        "# Punto para el que queremos estimar y\n",
        "x_interpolate = 1999\n",
        "y_interpolate = f(x_interpolate)\n",
        "\n",
        "print(f\"Cuando x = {x_interpolate}, y ≈ {y_interpolate}\")"
      ],
      "metadata": {
        "colab": {
          "base_uri": "https://localhost:8080/"
        },
        "id": "jDnQyhpWtN2Z",
        "outputId": "43d2e1c4-bb2e-4448-c0c5-99cabe22bea5"
      },
      "execution_count": 24,
      "outputs": [
        {
          "output_type": "stream",
          "name": "stdout",
          "text": [
            "Cuando x = 1999, y ≈ 277.5\n"
          ]
        }
      ]
    },
    {
      "cell_type": "markdown",
      "source": [
        "Me invento otra serie con los datos para dibujar puntos y líneas:"
      ],
      "metadata": {
        "id": "UxaAZ5Gq1Tp4"
      }
    },
    {
      "cell_type": "code",
      "source": [
        "xnew = np.arange(1996, 2003, 1)\n",
        "ynew = f(xnew)   # use interpolation function returned by `interp1d`"
      ],
      "metadata": {
        "id": "Zo2KmgAZ-XDF"
      },
      "execution_count": 52,
      "outputs": []
    },
    {
      "cell_type": "code",
      "source": [
        "plt.plot(x_known, y_known, 'o', xnew, ynew, '-')\n",
        "plt.show()"
      ],
      "metadata": {
        "colab": {
          "base_uri": "https://localhost:8080/",
          "height": 430
        },
        "id": "VNwdpFL1_A7J",
        "outputId": "c17f2508-25de-46bf-b5ec-3f8191ff6de1"
      },
      "execution_count": 53,
      "outputs": [
        {
          "output_type": "display_data",
          "data": {
            "text/plain": [
              "<Figure size 640x480 with 1 Axes>"
            ],
            "image/png": "[encoded data removed]"
          },
          "metadata": {}
        }
      ]
    },
    {
      "cell_type": "markdown",
      "source": [
        "## Interpolación polinómica\n",
        "\n",
        "Genero la función de interpolación y lo aplico para 1999:"
      ],
      "metadata": {
        "id": "SvcmS4jz_koc"
      }
    },
    {
      "cell_type": "code",
      "source": [
        "# Crear una función de interpolación lineal\n",
        "f = interpolate.PchipInterpolator(x_known, y_known)\n",
        "\n",
        "# Punto para el que queremos estimar y\n",
        "x_interpolate = 1999\n",
        "y_interpolate = f(x_interpolate)\n",
        "\n",
        "print(f\"Cuando x = {x_interpolate}, y ≈ {y_interpolate}\")"
      ],
      "metadata": {
        "colab": {
          "base_uri": "https://localhost:8080/"
        },
        "id": "Mfp9Cyul_pvM",
        "outputId": "2b8bf2c3-16d6-47be-c041-516a373d80ab"
      },
      "execution_count": 36,
      "outputs": [
        {
          "output_type": "stream",
          "name": "stdout",
          "text": [
            "Cuando x = 1999, y ≈ 277.5\n"
          ]
        }
      ]
    },
    {
      "cell_type": "markdown",
      "source": [
        "Genero muchos puntos y los interpolo con la función ajustada para armar una serie:"
      ],
      "metadata": {
        "id": "zImoJaruCFK2"
      }
    },
    {
      "cell_type": "code",
      "source": [
        "# Puntos para la interpolación\n",
        "x_interpolate = np.linspace(1996, 2002, 140)  # Valores de x para la interpolación\n",
        "y_interpolate = f(x_interpolate)"
      ],
      "metadata": {
        "id": "EPW5CmLBAktV"
      },
      "execution_count": 48,
      "outputs": []
    },
    {
      "cell_type": "markdown",
      "source": [
        "Grafico el resultado:"
      ],
      "metadata": {
        "id": "DrOsTz3ACRlM"
      }
    },
    {
      "cell_type": "code",
      "source": [
        "# Mostrar el resultado\n",
        "plt.plot(x_known, y_known, 'o', label='Datos conocidos')\n",
        "plt.plot(x_interpolate, y_interpolate, label='Interpolación polinómica (Pchip)')\n",
        "plt.xlabel('x')\n",
        "plt.ylabel('y')\n",
        "plt.legend()\n",
        "plt.show()"
      ],
      "metadata": {
        "colab": {
          "base_uri": "https://localhost:8080/",
          "height": 449
        },
        "id": "6ilbVEudAfNy",
        "outputId": "a3643a67-bed8-45e5-f942-839e4ec50847"
      },
      "execution_count": 49,
      "outputs": [
        {
          "output_type": "display_data",
          "data": {
            "text/plain": [
              "<Figure size 640x480 with 1 Axes>"
            ],
            "image/png": "[encoded data removed]"
          },
          "metadata": {}
        }
      ]
    },
    {
      "cell_type": "markdown",
      "source": [
        "## Interpolación cúbica\n",
        "\n",
        "Genero la función de interpolación y lo aplico para 1999:"
      ],
      "metadata": {
        "id": "qaCD_pNRB8eI"
      }
    },
    {
      "cell_type": "code",
      "source": [
        "# Crear una función de interpolación lineal\n",
        "f = interpolate.CubicSpline(x_known, y_known)\n",
        "\n",
        "# Punto para el que queremos estimar y\n",
        "x_interpolate = 1999\n",
        "y_interpolate = f(x_interpolate)\n",
        "\n",
        "print(f\"Cuando x = {x_interpolate}, y ≈ {y_interpolate}\")"
      ],
      "metadata": {
        "colab": {
          "base_uri": "https://localhost:8080/"
        },
        "id": "0fBPd8CYB7rk",
        "outputId": "83e29fa8-520f-48c4-acfc-2cf8222ca07c"
      },
      "execution_count": 54,
      "outputs": [
        {
          "output_type": "stream",
          "name": "stdout",
          "text": [
            "Cuando x = 1999, y ≈ 299.34375\n"
          ]
        }
      ]
    },
    {
      "cell_type": "markdown",
      "source": [
        "Genero muchos puntos y los interpolo con la función para armar una serie:"
      ],
      "metadata": {
        "id": "6xQEvxKqCKK7"
      }
    },
    {
      "cell_type": "code",
      "source": [
        "# Puntos para la interpolación\n",
        "x_interpolate = np.linspace(1996, 2002, 140)  # Valores de x para la interpolación\n",
        "y_interpolate = f(x_interpolate)"
      ],
      "metadata": {
        "id": "S_36EOLZCNOt"
      },
      "execution_count": 55,
      "outputs": []
    },
    {
      "cell_type": "markdown",
      "source": [
        "Grafico el resultado:"
      ],
      "metadata": {
        "id": "je6BWNQwCUQm"
      }
    },
    {
      "cell_type": "code",
      "source": [
        "# Mostrar el resultado\n",
        "plt.plot(x_known, y_known, 'o', label='Datos conocidos')\n",
        "plt.plot(x_interpolate, y_interpolate, label='Interpolación cúbica')\n",
        "plt.xlabel('x')\n",
        "plt.ylabel('y')\n",
        "plt.legend()\n",
        "plt.show()"
      ],
      "metadata": {
        "colab": {
          "base_uri": "https://localhost:8080/",
          "height": 449
        },
        "id": "HXVzHJnhCWJO",
        "outputId": "8fc2b913-fdcb-4ff6-ccae-3555b38fe1ab"
      },
      "execution_count": 56,
      "outputs": [
        {
          "output_type": "display_data",
          "data": {
            "text/plain": [
              "<Figure size 640x480 with 1 Axes>"
            ],
            "image/png": "[encoded data removed]"
          },
          "metadata": {}
        }
      ]
    }
  ]
}