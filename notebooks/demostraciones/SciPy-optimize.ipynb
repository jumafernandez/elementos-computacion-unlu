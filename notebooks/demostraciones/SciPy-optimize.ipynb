{
  "nbformat": 4,
  "nbformat_minor": 0,
  "metadata": {
    "colab": {
      "provenance": [],
      "include_colab_link": true
    },
    "kernelspec": {
      "name": "python3",
      "display_name": "Python 3"
    },
    "language_info": {
      "name": "python"
    }
  },
  "cells": [
    {
      "cell_type": "markdown",
      "metadata": {
        "id": "view-in-github",
        "colab_type": "text"
      },
      "source": [
        "<a href=\"https://colab.research.google.com/github/jumafernandez/elementos-computacion-unlu/blob/main/notebooks/demostraciones/SciPy-optimize.ipynb\" target=\"_parent\"><img src=\"https://colab.research.google.com/assets/colab-badge.svg\" alt=\"Open In Colab\"/></a>"
      ]
    },
    {
      "cell_type": "markdown",
      "source": [
        "# Optimización y resolución de ecuaciones con SciPy.optimize\n",
        "\n",
        "`SciPy optimize` proporciona funciones para minimizar (o maximizar) funciones objetivo, posiblemente sujetas a restricciones.\n",
        "\n",
        "Incluye `solvers` de problemas no lineales (con soporte para algoritmos de optimización locales y globales), programación lineal, mínimos cuadrados restringidos y no lineales, búsqueda de raíces y ajuste de curvas.\n",
        "\n",
        "En esta pequeña notebook, vamos a ver el caso particular de la función solver `fsolve`. La misma encuentra las raíces de una función o sistema de ecuaciones (no lineales) definidas por `func(x) = 0` dada una estimación inicial."
      ],
      "metadata": {
        "id": "Gln4_JT9sICm"
      }
    },
    {
      "cell_type": "markdown",
      "source": [
        "## Resolución de sistemas de ecuaciones no lineales"
      ],
      "metadata": {
        "id": "k9HJzxJiIe3f"
      }
    },
    {
      "cell_type": "markdown",
      "source": [
        "En primer lugar importo las librerías que voy a utilizar:"
      ],
      "metadata": {
        "id": "D13JRobts66E"
      }
    },
    {
      "cell_type": "code",
      "source": [
        "import numpy as np\n",
        "from scipy.optimize import fsolve"
      ],
      "metadata": {
        "id": "cIFFV8WfpDnL"
      },
      "execution_count": 2,
      "outputs": []
    },
    {
      "cell_type": "markdown",
      "source": [
        "Defino el sistema de ecuaciones no lineales que quiero resolver:"
      ],
      "metadata": {
        "id": "JJj9mcHntK2F"
      }
    },
    {
      "cell_type": "code",
      "source": [
        "def equations(variables):\n",
        "    x, y = variables\n",
        "    eq1 = x**2 + y**2 - 1\n",
        "    eq2 = x**2 - y**2\n",
        "\n",
        "    return [eq1, eq2]"
      ],
      "metadata": {
        "id": "WmASiPWHtP5n"
      },
      "execution_count": 3,
      "outputs": []
    },
    {
      "cell_type": "markdown",
      "source": [
        "Luego, utilizamos la función fsolve para encontrar la solución:"
      ],
      "metadata": {
        "id": "IfSN1zz3HXRb"
      }
    },
    {
      "cell_type": "code",
      "source": [
        "initial_guess = (1, 1)\n",
        "\n",
        "solution = fsolve(equations, initial_guess)\n",
        "\n",
        "print(solution)"
      ],
      "metadata": {
        "id": "G2LNBO1wvZLl",
        "colab": {
          "base_uri": "https://localhost:8080/"
        },
        "outputId": "117ce4af-37ce-4d5c-8459-d833606fa674"
      },
      "execution_count": 4,
      "outputs": [
        {
          "output_type": "stream",
          "name": "stdout",
          "text": [
            "[0.70710678 0.70710678]\n"
          ]
        }
      ]
    },
    {
      "cell_type": "markdown",
      "source": [
        "Créditos: https://foroexpertos.com/como-puedo-resolver-sistemas-de-ecuaciones-no-lineales-en-python/"
      ],
      "metadata": {
        "id": "NiIpo4tjHcVQ"
      }
    },
    {
      "cell_type": "markdown",
      "source": [
        "## Otro ejemplo: Ecuación no lineal"
      ],
      "metadata": {
        "id": "HUAFd1B4ImAH"
      }
    },
    {
      "cell_type": "markdown",
      "source": [
        "Defino la ecuación que quiero resolver:"
      ],
      "metadata": {
        "id": "q2HC7Iz_JPly"
      }
    },
    {
      "cell_type": "code",
      "source": [
        "from math import cos\n",
        "\n",
        "def func(x):\n",
        "    y = x + 2*cos(x)\n",
        "\n",
        "    return y"
      ],
      "metadata": {
        "id": "L6w7gKv7JM4H"
      },
      "execution_count": 6,
      "outputs": []
    },
    {
      "cell_type": "markdown",
      "source": [
        "Llamo a `fsolve` partiendo de 0.2 (pruebe con otros valores de partida):"
      ],
      "metadata": {
        "id": "GJS2TeXzJTv4"
      }
    },
    {
      "cell_type": "code",
      "source": [
        "y = fsolve(func, 0.2)\n",
        "\n",
        "print (y)"
      ],
      "metadata": {
        "colab": {
          "base_uri": "https://localhost:8080/"
        },
        "id": "JQ_1SwcmJWBb",
        "outputId": "a3532124-2d8d-4835-b197-b5287efeb1e7"
      },
      "execution_count": 9,
      "outputs": [
        {
          "output_type": "stream",
          "name": "stdout",
          "text": [
            "[-1.02986653]\n"
          ]
        }
      ]
    },
    {
      "cell_type": "markdown",
      "source": [
        "Créditos: https://www.delftstack.com/es/howto/python/fsolve-python/"
      ],
      "metadata": {
        "id": "XIh7vsOeJksq"
      }
    }
  ]
}