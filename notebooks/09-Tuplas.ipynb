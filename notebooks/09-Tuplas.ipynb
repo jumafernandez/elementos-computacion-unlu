{
 "cells": [
  {
   "cell_type": "markdown",
   "metadata": {},
   "source": [
    "# Tuplas\n",
    "\n",
    "Las tuplas son exactamente como las listas, excepto que son inmutables. No podemos cambiar los valores de una tupla."
   ]
  },
  {
   "cell_type": "markdown",
   "metadata": {},
   "source": [
    "Sintaxis"
   ]
  },
  {
   "cell_type": "code",
   "execution_count": 27,
   "metadata": {},
   "outputs": [
    {
     "name": "stdout",
     "output_type": "stream",
     "text": [
      "<class 'tuple'> 3 (1, 'hola', 3)\n",
      "<class 'list'> 3 [1, 2, 3]\n",
      "<class 'tuple'> 3 (1, 2, 3)\n",
      "<class 'tuple'> 0 ()\n"
     ]
    }
   ],
   "source": [
    "# Para crear una tupla, ponemos los elementos entre paréntesis\n",
    "t = (1, 'hola', 3)\n",
    "print(type(t), len(t), t)\n",
    "\n",
    "# También podemos crear una tupla a partir de una lista haciendo casting\n",
    "a = [1, 2, 3]\n",
    "print(type(a), len(a), a)\n",
    "tt = tuple(a)\n",
    "print(type(tt), len(tt), tt)\n",
    "\n",
    "# También podemos crear tuplas vacías, aunque no es muy útil, ya que las tuplas\n",
    "# no se puden modificar\n",
    "tupla_vacia = ()\n",
    "print(type(tupla_vacia), len(tupla_vacia), tupla_vacia)"
   ]
  },
  {
   "cell_type": "markdown",
   "metadata": {},
   "source": [
    "Las tuplas son inmutables"
   ]
  },
  {
   "cell_type": "code",
   "execution_count": 25,
   "metadata": {},
   "outputs": [
    {
     "name": "stdout",
     "output_type": "stream",
     "text": [
      "1\n"
     ]
    },
    {
     "ename": "TypeError",
     "evalue": "'tuple' object does not support item assignment",
     "output_type": "error",
     "traceback": [
      "\u001b[1;31m---------------------------------------------------------------------------\u001b[0m",
      "\u001b[1;31mTypeError\u001b[0m                                 Traceback (most recent call last)",
      "\u001b[1;32m<ipython-input-25-77df71072221>\u001b[0m in \u001b[0;36m<module>\u001b[1;34m\u001b[0m\n\u001b[0;32m      2\u001b[0m \u001b[0mprint\u001b[0m\u001b[1;33m(\u001b[0m\u001b[0mt\u001b[0m\u001b[1;33m[\u001b[0m\u001b[1;36m0\u001b[0m\u001b[1;33m]\u001b[0m\u001b[1;33m)\u001b[0m\u001b[1;33m\u001b[0m\u001b[1;33m\u001b[0m\u001b[0m\n\u001b[0;32m      3\u001b[0m \u001b[1;33m\u001b[0m\u001b[0m\n\u001b[1;32m----> 4\u001b[1;33m \u001b[0mt\u001b[0m\u001b[1;33m[\u001b[0m\u001b[1;36m0\u001b[0m\u001b[1;33m]\u001b[0m \u001b[1;33m=\u001b[0m \u001b[1;36m42\u001b[0m    \u001b[1;31m#error, no podemos modificar los elementos de una tupla\u001b[0m\u001b[1;33m\u001b[0m\u001b[1;33m\u001b[0m\u001b[0m\n\u001b[0m\u001b[0;32m      5\u001b[0m \u001b[0mprint\u001b[0m\u001b[1;33m(\u001b[0m\u001b[0mt\u001b[0m\u001b[1;33m[\u001b[0m\u001b[1;36m0\u001b[0m\u001b[1;33m]\u001b[0m\u001b[1;33m)\u001b[0m\u001b[1;33m\u001b[0m\u001b[1;33m\u001b[0m\u001b[0m\n",
      "\u001b[1;31mTypeError\u001b[0m: 'tuple' object does not support item assignment"
     ]
    }
   ],
   "source": [
    "t = (1, 2, 3)\n",
    "print(t[0])\n",
    "\n",
    "t[0] = 42    #error: no podemos modificar los elementos de una tupla\n",
    "print(t[0])"
   ]
  },
  {
   "cell_type": "code",
   "execution_count": 26,
   "metadata": {},
   "outputs": [
    {
     "ename": "AttributeError",
     "evalue": "'tuple' object has no attribute 'append'",
     "output_type": "error",
     "traceback": [
      "\u001b[1;31m---------------------------------------------------------------------------\u001b[0m",
      "\u001b[1;31mAttributeError\u001b[0m                            Traceback (most recent call last)",
      "\u001b[1;32m<ipython-input-26-3d8977d81a88>\u001b[0m in \u001b[0;36m<module>\u001b[1;34m\u001b[0m\n\u001b[0;32m      1\u001b[0m \u001b[0mcolors\u001b[0m \u001b[1;33m=\u001b[0m \u001b[1;33m(\u001b[0m\u001b[1;34m'rojo'\u001b[0m\u001b[1;33m,\u001b[0m \u001b[1;34m'verde'\u001b[0m\u001b[1;33m,\u001b[0m \u001b[1;34m'azul'\u001b[0m\u001b[1;33m)\u001b[0m\u001b[1;33m\u001b[0m\u001b[1;33m\u001b[0m\u001b[0m\n\u001b[1;32m----> 2\u001b[1;33m \u001b[0mcolors\u001b[0m\u001b[1;33m.\u001b[0m\u001b[0mappend\u001b[0m\u001b[1;33m(\u001b[0m\u001b[1;34m'violeta'\u001b[0m\u001b[1;33m)\u001b[0m          \u001b[1;31m#error: las tuplas no pueden crecer en tamaño\u001b[0m\u001b[1;33m\u001b[0m\u001b[1;33m\u001b[0m\u001b[0m\n\u001b[0m",
      "\u001b[1;31mAttributeError\u001b[0m: 'tuple' object has no attribute 'append'"
     ]
    }
   ],
   "source": [
    "colors = ('rojo', 'verde', 'azul')\n",
    "colors.append('violeta')          #error: las tuplas no pueden crecer en tamaño"
   ]
  },
  {
   "cell_type": "markdown",
   "metadata": {},
   "source": [
    "Asignación múltiple en tuplas"
   ]
  },
  {
   "cell_type": "code",
   "execution_count": 19,
   "metadata": {},
   "outputs": [
    {
     "name": "stdout",
     "output_type": "stream",
     "text": [
      "x: 1 , y: 2\n",
      "x: 2 , y: 1\n"
     ]
    }
   ],
   "source": [
    "(x, y) = (1, 2)\n",
    "print('x:', x, ', y:', y)\n",
    "\n",
    "# las tuplas son muy útiles para hacer intercambio entre dos variables (swapping)\n",
    "(x, y) = (y, x)\n",
    "print('x:', x, ', y:', y)"
   ]
  },
  {
   "cell_type": "markdown",
   "metadata": {},
   "source": [
    "Para recorrer una tupla, lo hacemos igual que en las listas"
   ]
  },
  {
   "cell_type": "code",
   "execution_count": 20,
   "metadata": {},
   "outputs": [
    {
     "name": "stdout",
     "output_type": "stream",
     "text": [
      "El primer color de la tupla es: rojo\n",
      "\n",
      "Los colores disponibles son:\n",
      "- rojo\n",
      "- verde\n",
      "- azul\n"
     ]
    }
   ],
   "source": [
    "colores = ('rojo', 'verde', 'azul')\n",
    "print(\"El primer color de la tupla es: \" + colores[0])\n",
    "\n",
    "print(\"\\nLos colores disponibles son:\")\n",
    "for color in colores:\n",
    "    print(\"- \" + color)"
   ]
  },
  {
   "cell_type": "markdown",
   "metadata": {},
   "source": []
  }
 ],
 "metadata": {
  "kernelspec": {
   "display_name": "Python 3",
   "language": "python",
   "name": "python3"
  },
  "language_info": {
   "codemirror_mode": {
    "name": "ipython",
    "version": 3
   },
   "file_extension": ".py",
   "mimetype": "text/x-python",
   "name": "python",
   "nbconvert_exporter": "python",
   "pygments_lexer": "ipython3",
   "version": "3.9.0"
  },
  "orig_nbformat": 4
 },
 "nbformat": 4,
 "nbformat_minor": 2
}
