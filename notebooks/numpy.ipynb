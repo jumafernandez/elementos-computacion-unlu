{
  "cells": [
    {
      "cell_type": "markdown",
      "metadata": {
        "id": "view-in-github",
        "colab_type": "text"
      },
      "source": [
        "<a href=\"https://colab.research.google.com/github/jumafernandez/elementos-computacion-unlu/blob/main/notebooks/numpy.ipynb\" target=\"_parent\"><img src=\"https://colab.research.google.com/assets/colab-badge.svg\" alt=\"Open In Colab\"/></a>"
      ]
    },
    {
      "cell_type": "markdown",
      "metadata": {
        "id": "a4v73yLZmz6C"
      },
      "source": [
        "# NumPy"
      ]
    },
    {
      "cell_type": "markdown",
      "metadata": {
        "id": "-Y3tjECZmz6C"
      },
      "source": [
        "`NumPy` (*Numerical Python*) es uno de los `módulos` más importantes y, probablemente, el más utilizado en el campo del cálculo numérico en el ecosistema de `Python`. En posts anteriores hemos visto como utilizar diferentes estructuras de datos en `Python` y otros `módulos` que nos ofrecen funciones matemáticas, cómo el módulo `math`. `NumPy` extiende esta funcionalidad en el campo del cálculo numérico de la siguiente manera:\n",
        "\n",
        "- Ofrece el objeto `ndarray`, similar a una lista de `Python` pero optimizada para el cálculo numérico. Nos referiremos a este objeto como `array` de `NumPy`, o simplemente `array`.\n",
        "- Implementa funciones matemáticas que pueden trabajar directamente sobre `arrays` sin tener que implementar bucles.\n",
        "- Proporciona funciones para leer/escribir datos a archivos de manera optimizada.\n",
        "- Permite aplicaciones de álgebra lineal, generación de números aleatorios y transformadas de Fourier.\n",
        "\n",
        "El núcleo de `Numpy` está implementado en C, ofreciendo *bindings* en `Python` para interactuar con él. Esto se traduce en que `NumPy` es más rápido que el equivalente en puro `Python`. Muchas otras librerías para el análisis de datos están construidas sobre `NumPy`, utilizando los `ndarrays` como la estructura de datos básica debido a su eficiencia. Para ilustrar esta propiedad vamos a calcular el tiempo necesario para llevar a cabo la misma operación en puro `Python` en comparación con `arrays` de `NumPy`."
      ]
    },
    {
      "cell_type": "code",
      "execution_count": null,
      "metadata": {
        "ExecuteTime": {
          "end_time": "2020-06-08T10:12:47.191796Z",
          "start_time": "2020-06-08T10:12:45.890131Z"
        },
        "id": "XGNhtgs1mz6D",
        "outputId": "3b86073d-be1a-4e48-fbc4-9cc7ecc46b23"
      },
      "outputs": [
        {
          "name": "stdout",
          "output_type": "stream",
          "text": [
            "Wall time: 655 ms\n"
          ]
        }
      ],
      "source": [
        "l = [i for i in range(10000000)]\n",
        "\n",
        "%time l2 = [2*i for i in l]"
      ]
    },
    {
      "cell_type": "code",
      "execution_count": null,
      "metadata": {
        "ExecuteTime": {
          "end_time": "2020-06-08T10:12:49.800556Z",
          "start_time": "2020-06-08T10:12:49.300612Z"
        },
        "id": "AwN78nXhmz6E",
        "outputId": "fd0e6c40-a39b-476e-8e35-26632f95da88"
      },
      "outputs": [
        {
          "name": "stdout",
          "output_type": "stream",
          "text": [
            "Wall time: 13.1 ms\n"
          ]
        }
      ],
      "source": [
        "import numpy as np\n",
        "\n",
        "a = np.array(l)\n",
        "\n",
        "%time a2 = 2*a"
      ]
    },
    {
      "cell_type": "markdown",
      "metadata": {
        "id": "JjR6VBYQmz6E"
      },
      "source": [
        "Podemos ver que `Numpy` es 50 veces más rápido que `Python` llevando a cabo la misma operación. No te preocupes por el resto de detalles, en las siguientes secciones aprenderás lo necesario para crear `arrays`, hacer operaciones, etc. Lo más importante es destacar que en `Python` necesitamos iterar por cada valor en la lista aplicando la operación en concreto (lo cual es lento) mientras que en `NumPy` podemos simplemente aplicar la operación al `array` entero confiando en la implementación para llevar a cabo la operación de la manera más eficiente posible."
      ]
    },
    {
      "cell_type": "markdown",
      "metadata": {
        "id": "0xlCmPMwmz6E"
      },
      "source": [
        "> ⚠️ `NumPy` es un `módulo` externo a `Python`. Para poder usarlo primero hay que instalarlo. Puedes hacerlo abriendo un terminal y escribiendo `conda install numpy` si instalaste `Python` usando `conda`. Alternativamente, puedes hacerlo con `pip install numpy`. Si necesitas ayuda en este paso te recomiendo leer el [post](https://sensioai.com/blog/001_python) en el que instalamos `Python` y vimos como instalar librerías."
      ]
    },
    {
      "cell_type": "markdown",
      "metadata": {
        "heading_collapsed": true,
        "id": "agtf4vlBmz6F"
      },
      "source": [
        "## El objeto `ndarray`"
      ]
    },
    {
      "cell_type": "markdown",
      "metadata": {
        "hidden": true,
        "id": "I3zod_8gmz6F"
      },
      "source": [
        "Como hemos comentado en la sección anterior, `NumPy` está basado en el objeto `ndarray`. Puedes ver este objeto como una lista de `Python` con súperpoderes. El objeto `ndarray` es multidimensional, lo que implica que nos permite representar tanto valores escalares como vectores, matrices y matrices multidimensionales (lo que llamamos `tensores`).\n",
        "\n",
        "Para poder trabajar con `NumPy`, primero tenemos que importarlo. Es común importarlo con el nombre `np`."
      ]
    },
    {
      "cell_type": "code",
      "execution_count": null,
      "metadata": {
        "ExecuteTime": {
          "end_time": "2020-06-08T10:25:18.123136Z",
          "start_time": "2020-06-08T10:25:18.111137Z"
        },
        "hidden": true,
        "id": "a-vQ6Pafmz6F"
      },
      "outputs": [],
      "source": [
        "import numpy as np"
      ]
    },
    {
      "cell_type": "markdown",
      "metadata": {
        "hidden": true,
        "id": "miBi0J7Jmz6F"
      },
      "source": [
        "Tenemos varias maneras de crear un `array`. Una de ellas es utilizar funciones implementadas en `NumPy` para la creación de `arrays`, indicando el número de elementos en cada dimensión."
      ]
    },
    {
      "cell_type": "code",
      "execution_count": null,
      "metadata": {
        "ExecuteTime": {
          "end_time": "2020-06-08T10:27:25.094898Z",
          "start_time": "2020-06-08T10:27:25.079360Z"
        },
        "hidden": true,
        "id": "uuwUMfc0mz6F",
        "outputId": "eea13f2d-4cf5-4837-bbd0-5861d5c9bef1"
      },
      "outputs": [
        {
          "data": {
            "text/plain": [
              "array([0., 0., 0., 0., 0.])"
            ]
          },
          "execution_count": 11,
          "metadata": {},
          "output_type": "execute_result"
        }
      ],
      "source": [
        "# crear un vector de ceros\n",
        "\n",
        "np.zeros(5)"
      ]
    },
    {
      "cell_type": "code",
      "execution_count": null,
      "metadata": {
        "ExecuteTime": {
          "end_time": "2020-06-08T10:27:55.920246Z",
          "start_time": "2020-06-08T10:27:55.915429Z"
        },
        "hidden": true,
        "id": "uV7s3AcVmz6F",
        "outputId": "b7a81992-bb33-4c4c-9247-3f4560a33d23"
      },
      "outputs": [
        {
          "data": {
            "text/plain": [
              "array([[0., 0., 0., 0.],\n",
              "       [0., 0., 0., 0.],\n",
              "       [0., 0., 0., 0.]])"
            ]
          },
          "execution_count": 12,
          "metadata": {},
          "output_type": "execute_result"
        }
      ],
      "source": [
        "# crear una matriz de ceros\n",
        "\n",
        "np.zeros((3, 4))"
      ]
    },
    {
      "cell_type": "markdown",
      "metadata": {
        "hidden": true,
        "id": "KxEbXjimmz6G"
      },
      "source": [
        "De la misma manera podemos crear `arrays` de 1s, con un valor determinado o sin inicializar con las funciones `np.one()`, `np.full()` o `np.empty()` respectivamente. Estas son algunas de las propiedades de un `array`."
      ]
    },
    {
      "cell_type": "code",
      "execution_count": null,
      "metadata": {
        "ExecuteTime": {
          "end_time": "2020-06-08T10:36:13.648407Z",
          "start_time": "2020-06-08T10:36:13.643351Z"
        },
        "hidden": true,
        "id": "5fXwhcgsmz6G",
        "outputId": "53ea5fbb-cd7c-4dcc-a348-24e9dbad8010"
      },
      "outputs": [
        {
          "data": {
            "text/plain": [
              "array([[[1., 1.],\n",
              "        [1., 1.],\n",
              "        [1., 1.],\n",
              "        [1., 1.]],\n",
              "\n",
              "       [[1., 1.],\n",
              "        [1., 1.],\n",
              "        [1., 1.],\n",
              "        [1., 1.]],\n",
              "\n",
              "       [[1., 1.],\n",
              "        [1., 1.],\n",
              "        [1., 1.],\n",
              "        [1., 1.]]])"
            ]
          },
          "execution_count": 34,
          "metadata": {},
          "output_type": "execute_result"
        }
      ],
      "source": [
        "# tensor de unos\n",
        "\n",
        "a = np.ones((3, 4, 2))\n",
        "\n",
        "a"
      ]
    },
    {
      "cell_type": "code",
      "execution_count": null,
      "metadata": {
        "ExecuteTime": {
          "end_time": "2020-06-08T10:36:16.096730Z",
          "start_time": "2020-06-08T10:36:16.091731Z"
        },
        "hidden": true,
        "id": "ZClI1Hbwmz6G",
        "outputId": "31ecf54a-3cb2-42d7-94db-47a440597dbe"
      },
      "outputs": [
        {
          "data": {
            "text/plain": [
              "(3, 4, 2)"
            ]
          },
          "execution_count": 35,
          "metadata": {},
          "output_type": "execute_result"
        }
      ],
      "source": [
        "# numero elementos en cada dimension\n",
        "\n",
        "a.shape"
      ]
    },
    {
      "cell_type": "code",
      "execution_count": null,
      "metadata": {
        "ExecuteTime": {
          "end_time": "2020-06-08T10:36:16.222194Z",
          "start_time": "2020-06-08T10:36:16.219194Z"
        },
        "hidden": true,
        "id": "2SA8V5cqmz6G",
        "outputId": "6f012eee-1bef-4a13-ed01-fc9c8c2fe640"
      },
      "outputs": [
        {
          "data": {
            "text/plain": [
              "3"
            ]
          },
          "execution_count": 36,
          "metadata": {},
          "output_type": "execute_result"
        }
      ],
      "source": [
        "# longitud del array\n",
        "\n",
        "a.ndim"
      ]
    },
    {
      "cell_type": "code",
      "execution_count": null,
      "metadata": {
        "ExecuteTime": {
          "end_time": "2020-06-08T10:36:16.346804Z",
          "start_time": "2020-06-08T10:36:16.342802Z"
        },
        "hidden": true,
        "id": "21Pif6VCmz6G",
        "outputId": "f5dfa1df-52a2-41d8-dae3-6db84701a198"
      },
      "outputs": [
        {
          "data": {
            "text/plain": [
              "24"
            ]
          },
          "execution_count": 37,
          "metadata": {},
          "output_type": "execute_result"
        }
      ],
      "source": [
        "# elementos totales en el array\n",
        "\n",
        "a.size"
      ]
    },
    {
      "cell_type": "markdown",
      "metadata": {
        "hidden": true,
        "id": "MptQ9DThmz6H"
      },
      "source": [
        "Otra manera muy común de inicializar `arrays` de `Numpy` es mediante listas de `Python`. Para ello usamos la función `np.array()`."
      ]
    },
    {
      "cell_type": "code",
      "execution_count": null,
      "metadata": {
        "ExecuteTime": {
          "end_time": "2020-06-08T10:37:14.766093Z",
          "start_time": "2020-06-08T10:37:14.758585Z"
        },
        "hidden": true,
        "id": "23RHNL1Vmz6H",
        "outputId": "6994f115-ad8b-4426-9d74-3575125970a7"
      },
      "outputs": [
        {
          "data": {
            "text/plain": [
              "array([[1, 2, 3],\n",
              "       [4, 5, 6]])"
            ]
          },
          "execution_count": 38,
          "metadata": {},
          "output_type": "execute_result"
        }
      ],
      "source": [
        "np.array([[1, 2, 3],[4, 5, 6]])"
      ]
    },
    {
      "cell_type": "markdown",
      "metadata": {
        "hidden": true,
        "id": "KZDcQk7_mz6H"
      },
      "source": [
        "Por último, también podemos crear `arrays` mediante funciones secuenciales o con valores aleatorios de la siguiente manera."
      ]
    },
    {
      "cell_type": "code",
      "execution_count": null,
      "metadata": {
        "ExecuteTime": {
          "end_time": "2020-06-08T10:40:27.594680Z",
          "start_time": "2020-06-08T10:40:27.578868Z"
        },
        "hidden": true,
        "id": "pmXNo9e_mz6H",
        "outputId": "095d8ff3-6b02-4c22-dc56-bff3c0d0d5a9"
      },
      "outputs": [
        {
          "data": {
            "text/plain": [
              "array([1, 2, 3, 4])"
            ]
          },
          "execution_count": 40,
          "metadata": {},
          "output_type": "execute_result"
        }
      ],
      "source": [
        "# vector de `int` en rango\n",
        "\n",
        "np.arange(1, 5)"
      ]
    },
    {
      "cell_type": "code",
      "execution_count": null,
      "metadata": {
        "ExecuteTime": {
          "end_time": "2020-06-08T10:41:50.084272Z",
          "start_time": "2020-06-08T10:41:50.072416Z"
        },
        "hidden": true,
        "id": "4GQJ7U8smz6H",
        "outputId": "2e70adfc-696c-49fc-c5db-fbbfed0af3e2"
      },
      "outputs": [
        {
          "data": {
            "text/plain": [
              "array([0.        , 0.11111111, 0.22222222, 0.33333333, 0.44444444,\n",
              "       0.55555556, 0.66666667, 0.77777778, 0.88888889, 1.        ])"
            ]
          },
          "execution_count": 50,
          "metadata": {},
          "output_type": "execute_result"
        }
      ],
      "source": [
        "# vector de `float` en rango\n",
        "\n",
        "np.linspace(0, 1, 10)"
      ]
    },
    {
      "cell_type": "code",
      "execution_count": null,
      "metadata": {
        "ExecuteTime": {
          "end_time": "2020-06-08T10:42:23.378901Z",
          "start_time": "2020-06-08T10:42:23.370882Z"
        },
        "hidden": true,
        "id": "74D0DYDFmz6H",
        "outputId": "db7fabc9-3a21-48a7-a3ad-67e30ba652df"
      },
      "outputs": [
        {
          "data": {
            "text/plain": [
              "array([[0.91866741, 0.285973  , 0.18087869, 0.32169549],\n",
              "       [0.54680139, 0.91715266, 0.37301333, 0.22500604],\n",
              "       [0.34965872, 0.48719109, 0.74743635, 0.03647023]])"
            ]
          },
          "execution_count": 51,
          "metadata": {},
          "output_type": "execute_result"
        }
      ],
      "source": [
        "# matriz de números aleatorios\n",
        "\n",
        "np.random.rand(3,4)"
      ]
    },
    {
      "cell_type": "markdown",
      "metadata": {
        "heading_collapsed": true,
        "hidden": true,
        "id": "k2WnXvacmz6I"
      },
      "source": [
        "### Tipos de datos"
      ]
    },
    {
      "cell_type": "markdown",
      "metadata": {
        "hidden": true,
        "id": "DzoI-4rgmz6I"
      },
      "source": [
        "Un motivo por el que los `arrays` de `NumPy` son tan eficientes es que todos los elementos en el `array` deben tener el mismo tipo."
      ]
    },
    {
      "cell_type": "code",
      "execution_count": null,
      "metadata": {
        "ExecuteTime": {
          "end_time": "2020-06-08T10:46:03.238251Z",
          "start_time": "2020-06-08T10:46:03.220251Z"
        },
        "hidden": true,
        "id": "P-T7gk_Amz6I",
        "outputId": "8587f1c1-ccc7-46b8-ac87-26d91161b350"
      },
      "outputs": [
        {
          "data": {
            "text/plain": [
              "array([1, 2, 3, 4])"
            ]
          },
          "execution_count": 52,
          "metadata": {},
          "output_type": "execute_result"
        }
      ],
      "source": [
        "a = np.arange(1, 5)\n",
        "a"
      ]
    },
    {
      "cell_type": "code",
      "execution_count": null,
      "metadata": {
        "ExecuteTime": {
          "end_time": "2020-06-08T10:46:14.177215Z",
          "start_time": "2020-06-08T10:46:14.159207Z"
        },
        "hidden": true,
        "id": "yYrr-CiHmz6I",
        "outputId": "c450b0ba-2e00-4993-9cb8-5a0a35c64465"
      },
      "outputs": [
        {
          "data": {
            "text/plain": [
              "dtype('int32')"
            ]
          },
          "execution_count": 54,
          "metadata": {},
          "output_type": "execute_result"
        }
      ],
      "source": [
        "# acceder al tipo de datos\n",
        "\n",
        "a.dtype"
      ]
    },
    {
      "cell_type": "markdown",
      "metadata": {
        "hidden": true,
        "id": "P_4S6wLZmz6I"
      },
      "source": [
        "Podemos indicarle a `NumPy` el tipo de dato con el que queremos trabajar al crear nuestro `array`."
      ]
    },
    {
      "cell_type": "code",
      "execution_count": null,
      "metadata": {
        "ExecuteTime": {
          "end_time": "2020-06-08T10:47:05.629406Z",
          "start_time": "2020-06-08T10:47:05.615412Z"
        },
        "hidden": true,
        "id": "8lHhTe7umz6I",
        "outputId": "64030365-bfec-47fb-fe2c-a9b5a714556f"
      },
      "outputs": [
        {
          "data": {
            "text/plain": [
              "array([1, 2, 3, 4], dtype=uint8)"
            ]
          },
          "execution_count": 57,
          "metadata": {},
          "output_type": "execute_result"
        }
      ],
      "source": [
        "a = np.arange(1, 5, dtype=np.uint8)\n",
        "a"
      ]
    },
    {
      "cell_type": "markdown",
      "metadata": {
        "hidden": true,
        "id": "-hvK0Scdmz6I"
      },
      "source": [
        "Los tipos disponibles son `int8`, `int16`, `int32`, `int64`, `uint8`|`16`|`32`|`64`, `float16`|`32`|`64` y `complex64`|`128`. Puedes encontrar una lista completa en la [documentación](http://docs.scipy.org/doc/numpy-1.10.1/user/basics.types.html).\n"
      ]
    },
    {
      "cell_type": "markdown",
      "metadata": {
        "heading_collapsed": true,
        "hidden": true,
        "id": "YUymZDj2mz6J"
      },
      "source": [
        "### Cambiando la forma"
      ]
    },
    {
      "cell_type": "markdown",
      "metadata": {
        "hidden": true,
        "id": "3gp14LMimz6J"
      },
      "source": [
        "Es muy común cambiar la forma de un `array` para acomodarlo a ciertas operaciones."
      ]
    },
    {
      "cell_type": "code",
      "execution_count": null,
      "metadata": {
        "ExecuteTime": {
          "end_time": "2020-06-08T10:50:02.114394Z",
          "start_time": "2020-06-08T10:50:02.103593Z"
        },
        "hidden": true,
        "id": "R7FwjuUjmz6J",
        "outputId": "0f0803b9-b3c1-45df-a91b-df98ab2f7e55"
      },
      "outputs": [
        {
          "data": {
            "text/plain": [
              "array([0, 1, 2, 3, 4, 5, 6, 7, 8, 9])"
            ]
          },
          "execution_count": 61,
          "metadata": {},
          "output_type": "execute_result"
        }
      ],
      "source": [
        "# vector\n",
        "\n",
        "a = np.arange(10)\n",
        "a"
      ]
    },
    {
      "cell_type": "code",
      "execution_count": null,
      "metadata": {
        "ExecuteTime": {
          "end_time": "2020-06-08T10:50:11.551539Z",
          "start_time": "2020-06-08T10:50:11.542531Z"
        },
        "hidden": true,
        "id": "UAt1XZwzmz6J",
        "outputId": "7e6089e6-654f-40ff-ee84-eb9ea08af9f8"
      },
      "outputs": [
        {
          "data": {
            "text/plain": [
              "array([[0, 1, 2, 3, 4],\n",
              "       [5, 6, 7, 8, 9]])"
            ]
          },
          "execution_count": 62,
          "metadata": {},
          "output_type": "execute_result"
        }
      ],
      "source": [
        "# convertir vector en matriz\n",
        "\n",
        "a2 = a.reshape(2,5)\n",
        "a2"
      ]
    },
    {
      "cell_type": "markdown",
      "metadata": {
        "hidden": true,
        "id": "zAMrDZZUmz6J"
      },
      "source": [
        "Obviamente, para poder cambiar la forma del `array` el número de elementos tiene que encajar en el número de nuevas dimensiones."
      ]
    },
    {
      "cell_type": "code",
      "execution_count": null,
      "metadata": {
        "ExecuteTime": {
          "end_time": "2020-06-08T10:51:00.683320Z",
          "start_time": "2020-06-08T10:51:00.664320Z"
        },
        "hidden": true,
        "id": "5hkRQLR-mz6J",
        "outputId": "50ac4c70-6279-4564-cfcd-e4f998d6e75c"
      },
      "outputs": [
        {
          "ename": "ValueError",
          "evalue": "cannot reshape array of size 10 into shape (2,4)",
          "output_type": "error",
          "traceback": [
            "\u001b[1;31m---------------------------------------------------------------------------\u001b[0m",
            "\u001b[1;31mValueError\u001b[0m                                Traceback (most recent call last)",
            "\u001b[1;32m<ipython-input-63-5fcd0a049a15>\u001b[0m in \u001b[0;36m<module>\u001b[1;34m\u001b[0m\n\u001b[1;32m----> 1\u001b[1;33m \u001b[0ma\u001b[0m\u001b[1;33m.\u001b[0m\u001b[0mreshape\u001b[0m\u001b[1;33m(\u001b[0m\u001b[1;36m2\u001b[0m\u001b[1;33m,\u001b[0m\u001b[1;36m4\u001b[0m\u001b[1;33m)\u001b[0m\u001b[1;33m\u001b[0m\u001b[1;33m\u001b[0m\u001b[0m\n\u001b[0m",
            "\u001b[1;31mValueError\u001b[0m: cannot reshape array of size 10 into shape (2,4)"
          ]
        }
      ],
      "source": [
        "a.reshape(2,4)"
      ]
    },
    {
      "cell_type": "code",
      "execution_count": null,
      "metadata": {
        "ExecuteTime": {
          "end_time": "2020-06-08T10:51:27.559648Z",
          "start_time": "2020-06-08T10:51:27.549648Z"
        },
        "hidden": true,
        "id": "IgkzbBH8mz6J",
        "outputId": "156db5c3-4744-4775-f199-09066e963eba"
      },
      "outputs": [
        {
          "data": {
            "text/plain": [
              "array([0, 1, 2, 3, 4, 5, 6, 7, 8, 9])"
            ]
          },
          "execution_count": 65,
          "metadata": {},
          "output_type": "execute_result"
        }
      ],
      "source": [
        "# convertir en vector\n",
        "\n",
        "a2.ravel()"
      ]
    },
    {
      "cell_type": "markdown",
      "metadata": {
        "id": "TmrSpam8mz6K"
      },
      "source": [
        "## Operaciones aritméticas"
      ]
    },
    {
      "cell_type": "markdown",
      "metadata": {
        "id": "XFxEd2Itmz6S"
      },
      "source": [
        "Una de las aplicaciones en las que los `arrays` de `NumPy` brillan es en la facilidad de usar operaciones artiméticas de manera optimizada y sin tener que implementar bucles como hacemos en `Python`. Esta propiedad se conoce como `vectorización`, algo de lo que hablaremos en más detalle en un futuro post. Podemos usar los operadores que ya conocemos de `Python` directamente con nuestros `arrays`."
      ]
    },
    {
      "cell_type": "code",
      "execution_count": null,
      "metadata": {
        "ExecuteTime": {
          "end_time": "2020-06-08T10:56:47.417495Z",
          "start_time": "2020-06-08T10:56:47.407672Z"
        },
        "id": "WLnGV-Vamz6S",
        "outputId": "e07f36ad-5541-46a2-aba1-91d5bb1d013c"
      },
      "outputs": [
        {
          "data": {
            "text/plain": [
              "array([19, 27, 35, 43])"
            ]
          },
          "execution_count": 73,
          "metadata": {},
          "output_type": "execute_result"
        }
      ],
      "source": [
        "a = np.array([14, 23, 32, 41])\n",
        "b = np.array([5,  4,  3,  2])\n",
        "\n",
        "a + b"
      ]
    },
    {
      "cell_type": "code",
      "execution_count": null,
      "metadata": {
        "ExecuteTime": {
          "end_time": "2020-06-08T10:56:47.808265Z",
          "start_time": "2020-06-08T10:56:47.795263Z"
        },
        "id": "2BxT3S9jmz6S",
        "outputId": "5ba3f79b-7d9d-4800-c925-0d5d57783198"
      },
      "outputs": [
        {
          "data": {
            "text/plain": [
              "array([ 9, 19, 29, 39])"
            ]
          },
          "execution_count": 74,
          "metadata": {},
          "output_type": "execute_result"
        }
      ],
      "source": [
        "a - b"
      ]
    },
    {
      "cell_type": "code",
      "execution_count": null,
      "metadata": {
        "ExecuteTime": {
          "end_time": "2020-06-08T10:56:47.933546Z",
          "start_time": "2020-06-08T10:56:47.918546Z"
        },
        "id": "fUq53JgJmz6S",
        "outputId": "e057b0ec-d92f-4f23-d361-77d9f90dcc47"
      },
      "outputs": [
        {
          "data": {
            "text/plain": [
              "array([70, 92, 96, 82])"
            ]
          },
          "execution_count": 75,
          "metadata": {},
          "output_type": "execute_result"
        }
      ],
      "source": [
        "a*b"
      ]
    },
    {
      "cell_type": "code",
      "execution_count": null,
      "metadata": {
        "ExecuteTime": {
          "end_time": "2020-06-08T10:56:48.075425Z",
          "start_time": "2020-06-08T10:56:48.059421Z"
        },
        "id": "n4EfT2RZmz6S",
        "outputId": "0a05afda-9344-4562-c002-c141fea02919"
      },
      "outputs": [
        {
          "data": {
            "text/plain": [
              "array([ 2.8       ,  5.75      , 10.66666667, 20.5       ])"
            ]
          },
          "execution_count": 76,
          "metadata": {},
          "output_type": "execute_result"
        }
      ],
      "source": [
        "a / b"
      ]
    },
    {
      "cell_type": "markdown",
      "metadata": {
        "id": "805ZQUgTmz6T"
      },
      "source": [
        "> ⚠️ Estas operaciones son *elementwise*, se aplican elemento a elemento. Para llevar a cabo otras operaciones como por ejemplo el producto escalar de dos vectores usaremos las funciones apropiadas que veremos en un futuro post."
      ]
    },
    {
      "cell_type": "markdown",
      "metadata": {
        "id": "xpma0mRlmz6T"
      },
      "source": [
        "Podremos aplicar estas operaciones siempre que las dimensiones de los `arrays` coincidan. De no ser así, es posible que `NumPy` siga dándonos resultados. Esto es debido a una propiedad conocida como *broadcasting*, algo que veremos en más detalle en un próximo post."
      ]
    },
    {
      "cell_type": "markdown",
      "metadata": {
        "id": "njHMMtk5mz6T"
      },
      "source": [
        "## Indexado y Troceado"
      ]
    },
    {
      "cell_type": "markdown",
      "metadata": {
        "id": "FH2MDQzZmz6T"
      },
      "source": [
        "`NumPy` adopta la misma lógica de indexado y troceado que `Python`, algo que ya conocemos y que puedes refrescar en este [post](https://sensioai.com/blog/003_python_estructuras)."
      ]
    },
    {
      "cell_type": "code",
      "execution_count": null,
      "metadata": {
        "ExecuteTime": {
          "end_time": "2020-06-08T11:02:38.095202Z",
          "start_time": "2020-06-08T11:02:38.085469Z"
        },
        "id": "LOgcnYgYmz6T",
        "outputId": "7a1efe94-6702-4eb9-b761-e84e17b2056a"
      },
      "outputs": [
        {
          "data": {
            "text/plain": [
              "array([ 1,  5,  3, 19, 13,  7,  3])"
            ]
          },
          "execution_count": 77,
          "metadata": {},
          "output_type": "execute_result"
        }
      ],
      "source": [
        "a = np.array([1, 5, 3, 19, 13, 7, 3])\n",
        "a"
      ]
    },
    {
      "cell_type": "code",
      "execution_count": null,
      "metadata": {
        "ExecuteTime": {
          "end_time": "2020-06-08T11:02:52.462563Z",
          "start_time": "2020-06-08T11:02:52.446541Z"
        },
        "id": "j6pH2ID3mz6T",
        "outputId": "eba0a034-2d6a-4ce2-c8b8-9d14d2c00fd0"
      },
      "outputs": [
        {
          "data": {
            "text/plain": [
              "19"
            ]
          },
          "execution_count": 78,
          "metadata": {},
          "output_type": "execute_result"
        }
      ],
      "source": [
        "# acceder a un valor por su índice\n",
        "\n",
        "a[3]"
      ]
    },
    {
      "cell_type": "markdown",
      "metadata": {
        "id": "5vPSzu7Qmz6T"
      },
      "source": [
        "> ⚠️ Igual que en `Python` el primer valor de un `array` tiene el índice 0."
      ]
    },
    {
      "cell_type": "code",
      "execution_count": null,
      "metadata": {
        "ExecuteTime": {
          "end_time": "2020-06-08T11:03:37.703152Z",
          "start_time": "2020-06-08T11:03:37.689614Z"
        },
        "id": "BfAtOzvtmz6U",
        "outputId": "7f088dd2-26d5-4dad-91d2-b802365fec3f"
      },
      "outputs": [
        {
          "data": {
            "text/plain": [
              "array([ 3, 19, 13])"
            ]
          },
          "execution_count": 79,
          "metadata": {},
          "output_type": "execute_result"
        }
      ],
      "source": [
        "# troceado\n",
        "\n",
        "a[2:5]"
      ]
    },
    {
      "cell_type": "code",
      "execution_count": null,
      "metadata": {
        "ExecuteTime": {
          "end_time": "2020-06-08T11:04:08.853368Z",
          "start_time": "2020-06-08T11:04:08.842346Z"
        },
        "id": "XYH2kcrVmz6U",
        "outputId": "ee92693c-0c47-418d-c042-668356e7020d"
      },
      "outputs": [
        {
          "data": {
            "text/plain": [
              "array([ 3, 19, 13,  7])"
            ]
          },
          "execution_count": 80,
          "metadata": {},
          "output_type": "execute_result"
        }
      ],
      "source": [
        "# usamos índices negativos para indexar desde el final\n",
        "\n",
        "a[2:-1]"
      ]
    },
    {
      "cell_type": "markdown",
      "metadata": {
        "id": "eMwFi1eAmz6U"
      },
      "source": [
        "Podemos indexar `arrys` multidimensionales con diferentes índices para cada dimensión, separados por comas."
      ]
    },
    {
      "cell_type": "code",
      "execution_count": null,
      "metadata": {
        "ExecuteTime": {
          "end_time": "2020-06-08T11:05:53.806117Z",
          "start_time": "2020-06-08T11:05:53.790039Z"
        },
        "id": "ds1HHmAJmz6U",
        "outputId": "d49b2554-21a7-4584-db3e-2b5981df327e"
      },
      "outputs": [
        {
          "data": {
            "text/plain": [
              "array([[ 0,  1,  2,  3,  4,  5,  6,  7,  8,  9, 10, 11],\n",
              "       [12, 13, 14, 15, 16, 17, 18, 19, 20, 21, 22, 23],\n",
              "       [24, 25, 26, 27, 28, 29, 30, 31, 32, 33, 34, 35],\n",
              "       [36, 37, 38, 39, 40, 41, 42, 43, 44, 45, 46, 47]])"
            ]
          },
          "execution_count": 81,
          "metadata": {},
          "output_type": "execute_result"
        }
      ],
      "source": [
        "b = np.arange(48).reshape(4, 12)\n",
        "b"
      ]
    },
    {
      "cell_type": "code",
      "execution_count": null,
      "metadata": {
        "ExecuteTime": {
          "end_time": "2020-06-08T11:06:57.887556Z",
          "start_time": "2020-06-08T11:06:57.873557Z"
        },
        "id": "ViQ1fGkWmz6U",
        "outputId": "2231a7a9-bdb9-48db-b8ec-994d9c5ce4de"
      },
      "outputs": [
        {
          "data": {
            "text/plain": [
              "14"
            ]
          },
          "execution_count": 86,
          "metadata": {},
          "output_type": "execute_result"
        }
      ],
      "source": [
        "# valor en segunda fila, tercera columna\n",
        "\n",
        "b[1, 2]"
      ]
    },
    {
      "cell_type": "code",
      "execution_count": null,
      "metadata": {
        "ExecuteTime": {
          "end_time": "2020-06-08T11:06:58.013555Z",
          "start_time": "2020-06-08T11:06:57.995558Z"
        },
        "id": "vtJ_leigmz6U",
        "outputId": "246ada8b-402b-4471-de88-daa54b91e5ed"
      },
      "outputs": [
        {
          "data": {
            "text/plain": [
              "array([12, 13, 14, 15, 16, 17, 18, 19, 20, 21, 22, 23])"
            ]
          },
          "execution_count": 87,
          "metadata": {},
          "output_type": "execute_result"
        }
      ],
      "source": [
        "# segunda fila\n",
        "\n",
        "b[1, :]"
      ]
    },
    {
      "cell_type": "code",
      "execution_count": null,
      "metadata": {
        "ExecuteTime": {
          "end_time": "2020-06-08T11:07:12.146700Z",
          "start_time": "2020-06-08T11:07:12.135701Z"
        },
        "id": "RGoTq0rQmz6V",
        "outputId": "ad7bd4bc-a22c-4bd1-8388-35f15f82c464"
      },
      "outputs": [
        {
          "data": {
            "text/plain": [
              "array([11, 23, 35, 47])"
            ]
          },
          "execution_count": 88,
          "metadata": {},
          "output_type": "execute_result"
        }
      ],
      "source": [
        "# última columna\n",
        "\n",
        "b[:, -1]"
      ]
    },
    {
      "cell_type": "markdown",
      "metadata": {
        "id": "Cr2Qdgxlmz6V"
      },
      "source": [
        "### Indexado *fancy*"
      ]
    },
    {
      "cell_type": "markdown",
      "metadata": {
        "id": "CDQ_yACPmz6V"
      },
      "source": [
        "El indexado *fancy* nos permite indexar un `array` mediante una lista con los índices de interés."
      ]
    },
    {
      "cell_type": "code",
      "execution_count": null,
      "metadata": {
        "ExecuteTime": {
          "end_time": "2020-06-08T11:10:07.527162Z",
          "start_time": "2020-06-08T11:10:07.507168Z"
        },
        "id": "mUxLOBQ-mz6V",
        "outputId": "79b9518a-1140-43c5-aad4-234b02967e92"
      },
      "outputs": [
        {
          "data": {
            "text/plain": [
              "array([[ 2,  3],\n",
              "       [26, 27]])"
            ]
          },
          "execution_count": 92,
          "metadata": {},
          "output_type": "execute_result"
        }
      ],
      "source": [
        "# primera y tercera fila, desde la tercera columna a la cuarta\n",
        "\n",
        "b[(0,2),2:4]"
      ]
    },
    {
      "cell_type": "markdown",
      "metadata": {
        "id": "ucJriqIpmz6V"
      },
      "source": [
        "### Indexado booleano"
      ]
    },
    {
      "cell_type": "markdown",
      "metadata": {
        "ExecuteTime": {
          "end_time": "2020-06-08T11:11:11.523806Z",
          "start_time": "2020-06-08T11:11:11.506776Z"
        },
        "id": "9pyNDC5jmz6V"
      },
      "source": [
        "El indexado booleano es muy útil para trabajar con máscaras."
      ]
    },
    {
      "cell_type": "code",
      "execution_count": null,
      "metadata": {
        "ExecuteTime": {
          "end_time": "2020-06-08T11:11:41.567056Z",
          "start_time": "2020-06-08T11:11:41.550035Z"
        },
        "id": "36BjK3lwmz6W",
        "outputId": "77c6a839-6c41-4c01-deb1-344ca9ce22dd"
      },
      "outputs": [
        {
          "data": {
            "text/plain": [
              "array([1, 3])"
            ]
          },
          "execution_count": 94,
          "metadata": {},
          "output_type": "execute_result"
        }
      ],
      "source": [
        "a = np.array([1, 2, 3, 4])\n",
        "mask = np.array([True, False, True, False])\n",
        "\n",
        "a[mask]"
      ]
    },
    {
      "cell_type": "markdown",
      "metadata": {
        "id": "ZPZntOmhmz6W"
      },
      "source": [
        "## Iterado"
      ]
    },
    {
      "cell_type": "markdown",
      "metadata": {
        "id": "mPDknkRXmz6W"
      },
      "source": [
        "Podemos iterar sobre un `array` de `NumPy` de la misma manera que iteramos cualquier otra estructura de datos en `Python`."
      ]
    },
    {
      "cell_type": "code",
      "execution_count": null,
      "metadata": {
        "ExecuteTime": {
          "end_time": "2020-06-08T11:14:24.355239Z",
          "start_time": "2020-06-08T11:14:24.337214Z"
        },
        "id": "0_TTsnYQmz6W",
        "outputId": "1140c8b3-64b4-4a0e-f8fb-c0465f0c0ad4"
      },
      "outputs": [
        {
          "data": {
            "text/plain": [
              "array([0, 1, 2, 3, 4])"
            ]
          },
          "execution_count": 95,
          "metadata": {},
          "output_type": "execute_result"
        }
      ],
      "source": [
        "a = np.arange(5)\n",
        "a"
      ]
    },
    {
      "cell_type": "code",
      "execution_count": null,
      "metadata": {
        "ExecuteTime": {
          "end_time": "2020-06-08T11:14:29.465709Z",
          "start_time": "2020-06-08T11:14:29.454069Z"
        },
        "id": "SLEvcz90mz6W",
        "outputId": "29e70ff4-2925-495f-83fc-32c2a65cc817"
      },
      "outputs": [
        {
          "name": "stdout",
          "output_type": "stream",
          "text": [
            "0\n",
            "1\n",
            "2\n",
            "3\n",
            "4\n"
          ]
        }
      ],
      "source": [
        "for i in a:\n",
        "    print(i)"
      ]
    },
    {
      "cell_type": "markdown",
      "metadata": {
        "id": "giwaYU4Dmz6W"
      },
      "source": [
        "Al trabajar con `arrays` multidimensionales, necesitaremos un *loop* para cada dimensión."
      ]
    },
    {
      "cell_type": "code",
      "execution_count": null,
      "metadata": {
        "ExecuteTime": {
          "end_time": "2020-06-08T11:15:23.470727Z",
          "start_time": "2020-06-08T11:15:23.454700Z"
        },
        "id": "hspR0M0cmz6W",
        "outputId": "3ab4f2d5-e49f-4194-873a-0063d4cb0fae"
      },
      "outputs": [
        {
          "data": {
            "text/plain": [
              "array([[0, 1, 2],\n",
              "       [3, 4, 5],\n",
              "       [6, 7, 8]])"
            ]
          },
          "execution_count": 98,
          "metadata": {},
          "output_type": "execute_result"
        }
      ],
      "source": [
        "a = np.arange(9).reshape((3,3))\n",
        "a"
      ]
    },
    {
      "cell_type": "code",
      "execution_count": null,
      "metadata": {
        "ExecuteTime": {
          "end_time": "2020-06-08T11:15:57.760719Z",
          "start_time": "2020-06-08T11:15:57.746683Z"
        },
        "id": "CM-qFrqHmz6X",
        "outputId": "239629d4-477d-42f2-f552-734659ec0106"
      },
      "outputs": [
        {
          "name": "stdout",
          "output_type": "stream",
          "text": [
            "0\n",
            "1\n",
            "2\n",
            "3\n",
            "4\n",
            "5\n",
            "6\n",
            "7\n",
            "8\n"
          ]
        }
      ],
      "source": [
        "for fila in a:\n",
        "    for i in fila:\n",
        "        print(i)"
      ]
    },
    {
      "cell_type": "markdown",
      "metadata": {
        "id": "weiVtRBxmz6X"
      },
      "source": [
        "## Guardar y Cargar"
      ]
    },
    {
      "cell_type": "markdown",
      "metadata": {
        "id": "a6KEhW_emz6X"
      },
      "source": [
        "Podemos guardar nuestros `arrays` en archivos que más tarde podemos cargar de nuevo."
      ]
    },
    {
      "cell_type": "code",
      "execution_count": null,
      "metadata": {
        "ExecuteTime": {
          "end_time": "2020-06-08T11:17:11.622578Z",
          "start_time": "2020-06-08T11:17:11.610082Z"
        },
        "id": "CbDld5-1mz6X",
        "outputId": "320191c3-9348-4eb9-fd4d-b497a3a9e156"
      },
      "outputs": [
        {
          "data": {
            "text/plain": [
              "array([[0.14663265, 0.98325048, 0.36281673],\n",
              "       [0.33008445, 0.31005347, 0.634345  ]])"
            ]
          },
          "execution_count": 102,
          "metadata": {},
          "output_type": "execute_result"
        }
      ],
      "source": [
        "a = np.random.rand(2,3)\n",
        "a"
      ]
    },
    {
      "cell_type": "code",
      "execution_count": null,
      "metadata": {
        "ExecuteTime": {
          "end_time": "2020-06-08T11:17:25.842313Z",
          "start_time": "2020-06-08T11:17:25.825289Z"
        },
        "id": "J6sqLDaqmz6X"
      },
      "outputs": [],
      "source": [
        "# guardar array en archivo\n",
        "\n",
        "np.save(\"mi_array\", a)"
      ]
    },
    {
      "cell_type": "markdown",
      "metadata": {
        "id": "XtKPhpR2mz6X"
      },
      "source": [
        "Por defecto un `array` se guarda con la extensión `.npy`. Para cargar de nuevo el `array`"
      ]
    },
    {
      "cell_type": "code",
      "execution_count": null,
      "metadata": {
        "ExecuteTime": {
          "end_time": "2020-06-08T11:18:25.031883Z",
          "start_time": "2020-06-08T11:18:25.013883Z"
        },
        "id": "4rZyGp2vmz6Y",
        "outputId": "7de5a74b-4a08-4c50-e09f-b4e07210aa47"
      },
      "outputs": [
        {
          "data": {
            "text/plain": [
              "array([[0.14663265, 0.98325048, 0.36281673],\n",
              "       [0.33008445, 0.31005347, 0.634345  ]])"
            ]
          },
          "execution_count": 105,
          "metadata": {},
          "output_type": "execute_result"
        }
      ],
      "source": [
        "b = np.load(\"mi_array.npy\")\n",
        "b"
      ]
    },
    {
      "cell_type": "markdown",
      "metadata": {
        "id": "nd3aPJttmz6Y"
      },
      "source": [
        "Las funciones que hemos visto guardan los `arrays` en formato binario para maximizar la velocidad de lectura. Sin embargo, podemos guardar nuestros `arrays` en formato texto para utilizarlos en otras aplicaciones."
      ]
    },
    {
      "cell_type": "code",
      "execution_count": null,
      "metadata": {
        "ExecuteTime": {
          "end_time": "2020-06-08T11:20:20.504327Z",
          "start_time": "2020-06-08T11:20:20.492801Z"
        },
        "id": "KDfdRxr6mz6Y"
      },
      "outputs": [],
      "source": [
        "# guardar array en formato csv\n",
        "\n",
        "np.savetxt(\"mi_array.csv\", a, delimiter=\",\")"
      ]
    },
    {
      "cell_type": "markdown",
      "metadata": {
        "id": "3p0TMGCvmz6Y"
      },
      "source": [
        "También podemos guardar varios `arrays` en un solo archivo comprimido en formato `.npz`."
      ]
    },
    {
      "cell_type": "code",
      "execution_count": null,
      "metadata": {
        "ExecuteTime": {
          "end_time": "2020-06-08T11:21:19.562505Z",
          "start_time": "2020-06-08T11:21:19.547951Z"
        },
        "id": "H-tTIN9amz6Y",
        "outputId": "7fff0baf-93fe-4f76-b6a4-1af291bf893f"
      },
      "outputs": [
        {
          "data": {
            "text/plain": [
              "array([[[ 0,  1,  2,  3],\n",
              "        [ 4,  5,  6,  7],\n",
              "        [ 8,  9, 10, 11]],\n",
              "\n",
              "       [[12, 13, 14, 15],\n",
              "        [16, 17, 18, 19],\n",
              "        [20, 21, 22, 23]]], dtype=uint8)"
            ]
          },
          "execution_count": 107,
          "metadata": {},
          "output_type": "execute_result"
        }
      ],
      "source": [
        "b = np.arange(24, dtype=np.uint8).reshape(2, 3, 4)\n",
        "b"
      ]
    },
    {
      "cell_type": "code",
      "execution_count": null,
      "metadata": {
        "ExecuteTime": {
          "end_time": "2020-06-08T11:21:23.376906Z",
          "start_time": "2020-06-08T11:21:23.359904Z"
        },
        "id": "aitTbBk5mz6Z",
        "outputId": "6d97e821-3452-4c31-f54a-263baf99e398"
      },
      "outputs": [
        {
          "data": {
            "text/plain": [
              "array([[0.14663265, 0.98325048, 0.36281673],\n",
              "       [0.33008445, 0.31005347, 0.634345  ]])"
            ]
          },
          "execution_count": 108,
          "metadata": {},
          "output_type": "execute_result"
        }
      ],
      "source": [
        "a"
      ]
    },
    {
      "cell_type": "code",
      "execution_count": null,
      "metadata": {
        "ExecuteTime": {
          "end_time": "2020-06-08T11:21:47.155605Z",
          "start_time": "2020-06-08T11:21:47.144071Z"
        },
        "id": "ABpfSdERmz6Z"
      },
      "outputs": [],
      "source": [
        "# guardar arrays\n",
        "\n",
        "np.savez(\"mis_arrays\", a=a, b=b)"
      ]
    },
    {
      "cell_type": "code",
      "execution_count": null,
      "metadata": {
        "ExecuteTime": {
          "end_time": "2020-06-08T11:22:06.777013Z",
          "start_time": "2020-06-08T11:22:06.762011Z"
        },
        "id": "-rABv5Rtmz6Z",
        "outputId": "f0ebe9ce-08ae-4865-ac7c-8927d2278082"
      },
      "outputs": [
        {
          "data": {
            "text/plain": [
              "<numpy.lib.npyio.NpzFile at 0x142cdf66e88>"
            ]
          },
          "execution_count": 112,
          "metadata": {},
          "output_type": "execute_result"
        }
      ],
      "source": [
        "# cargar arrays\n",
        "\n",
        "mis_arrays = np.load(\"mis_arrays.npz\")\n",
        "mis_arrays"
      ]
    },
    {
      "cell_type": "markdown",
      "metadata": {
        "id": "9D9QEjexmz6Z"
      },
      "source": [
        "Podemos extraer cada uno de los arrays mediante su nombre, al estilo `dict`."
      ]
    },
    {
      "cell_type": "code",
      "execution_count": null,
      "metadata": {
        "ExecuteTime": {
          "end_time": "2020-06-08T11:22:42.067652Z",
          "start_time": "2020-06-08T11:22:42.046629Z"
        },
        "id": "khX_bK3zmz6Z",
        "outputId": "05a98620-1c65-4a0c-d79f-d512c785a5e9"
      },
      "outputs": [
        {
          "data": {
            "text/plain": [
              "array([[0.14663265, 0.98325048, 0.36281673],\n",
              "       [0.33008445, 0.31005347, 0.634345  ]])"
            ]
          },
          "execution_count": 113,
          "metadata": {},
          "output_type": "execute_result"
        }
      ],
      "source": [
        "mis_arrays[\"a\"]"
      ]
    },
    {
      "cell_type": "code",
      "execution_count": null,
      "metadata": {
        "ExecuteTime": {
          "end_time": "2020-06-08T11:22:46.166380Z",
          "start_time": "2020-06-08T11:22:46.148349Z"
        },
        "id": "DqMd7rxjmz6Z",
        "outputId": "9478477f-2621-4749-d015-bc1335481289"
      },
      "outputs": [
        {
          "data": {
            "text/plain": [
              "array([[[ 0,  1,  2,  3],\n",
              "        [ 4,  5,  6,  7],\n",
              "        [ 8,  9, 10, 11]],\n",
              "\n",
              "       [[12, 13, 14, 15],\n",
              "        [16, 17, 18, 19],\n",
              "        [20, 21, 22, 23]]], dtype=uint8)"
            ]
          },
          "execution_count": 114,
          "metadata": {},
          "output_type": "execute_result"
        }
      ],
      "source": [
        "mis_arrays[\"b\"]"
      ]
    },
    {
      "cell_type": "markdown",
      "metadata": {
        "id": "NZr5iwIYmz6a"
      },
      "source": [
        "## Resumen"
      ]
    },
    {
      "cell_type": "markdown",
      "metadata": {
        "id": "s1zvu-_umz6a"
      },
      "source": [
        "En este post hemos introducido `NumPy` la librería de `Python` por defecto para cálculo numérico. Hemos hablado de sus propiedades principales y del objeto básico con el que trabajamos: el `ndarray`. Esta estructura de datos es similar a la lista de `Python`, pero implementada de manera eficiente para su aplicación en cálculo numérico. Con el `ndarray`, o simplemente `array`, podemos definir y operar con valores escalares, vectores, matrices y `tensores` de muchos tipos (numéricos). En el proceso del análisis de datos utilizaremos el `array` como estructura de datos básica tanto para representar nuestros datos (texto, imágenes, vídeos, datos tabulares, etc) como los distintos modelos y algoritmos de Machine Learning y Deep Learning que hagamos. En próximos posts hablaremos en más detalle sobre algunas características importantes que hay que tener en cuenta a la hora de trabajar con `NumPy` para sacarle el máximo provecho y empezaremos a utilizarlo para asentar las bases fundamentales que nos encaminarán hacia el desarrollo e implementación de algoritmos de Inteligencia Artificial."
      ]
    }
  ],
  "metadata": {
    "kernelspec": {
      "display_name": "Python 3",
      "language": "python",
      "name": "python3"
    },
    "language_info": {
      "codemirror_mode": {
        "name": "ipython",
        "version": 3
      },
      "file_extension": ".py",
      "mimetype": "text/x-python",
      "name": "python",
      "nbconvert_exporter": "python",
      "pygments_lexer": "ipython3",
      "version": "3.7.6"
    },
    "toc": {
      "base_numbering": 1,
      "nav_menu": {},
      "number_sections": true,
      "sideBar": true,
      "skip_h1_title": false,
      "title_cell": "Table of Contents",
      "title_sidebar": "Contents",
      "toc_cell": false,
      "toc_position": {},
      "toc_section_display": true,
      "toc_window_display": false
    },
    "colab": {
      "provenance": [],
      "include_colab_link": true
    }
  },
  "nbformat": 4,
  "nbformat_minor": 0
}