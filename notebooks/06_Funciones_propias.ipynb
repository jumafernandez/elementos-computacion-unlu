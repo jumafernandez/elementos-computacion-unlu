{
  "nbformat": 4,
  "nbformat_minor": 0,
  "metadata": {
    "language_info": {
      "name": "python",
      "codemirror_mode": {
        "name": "ipython",
        "version": 3
      },
      "version": "3.7.5-final"
    },
    "orig_nbformat": 2,
    "file_extension": ".py",
    "mimetype": "text/x-python",
    "name": "python",
    "npconvert_exporter": "python",
    "pygments_lexer": "ipython3",
    "version": 3,
    "kernelspec": {
      "name": "python3",
      "display_name": "Python 3"
    },
    "colab": {
      "provenance": [],
      "include_colab_link": true
    }
  },
  "cells": [
    {
      "cell_type": "markdown",
      "metadata": {
        "id": "view-in-github",
        "colab_type": "text"
      },
      "source": [
        "<a href=\"https://colab.research.google.com/github/jumafernandez/nbs_laboratorio_ec/blob/main/06_Funciones_propias.ipynb\" target=\"_parent\"><img src=\"https://colab.research.google.com/assets/colab-badge.svg\" alt=\"Open In Colab\"/></a>"
      ]
    },
    {
      "cell_type": "markdown",
      "metadata": {
        "id": "IxCxH0QiDw7s"
      },
      "source": [
        "## Funciones\n",
        "\n",
        "**Una función es un procedimiento (una secuencia de _declaraciones_) guardada bajo un nombre que puede ser usada una y otra vez llamandola por el mismo.**\n"
      ]
    },
    {
      "cell_type": "code",
      "metadata": {
        "colab": {
          "base_uri": "https://localhost:8080/"
        },
        "id": "QZj_yPVzDw7t",
        "outputId": "b2569f0f-3cd4-41cc-d943-297df9fdf423"
      },
      "source": [
        "# Una función está compuesta por dos partes: el encabezado y el cuerpo\n",
        "\n",
        "# El encabezado (también se lo llama firma) define el nombre y los parametros.\n",
        "# Un encabezado de una función es escrito como sigue:\n",
        "#\n",
        "#   def nombre_de_funcion(parametros):\n",
        "#\n",
        "# Los parametros son variables que serán provistas cuando la función es llamada.\n",
        "# El encabezado termina con dos puntos (:) para indicar que continua el cuerpo\n",
        "# de la función.\n",
        "#\n",
        "# El Cuerpo contiene las acciones (declaraciones [statements]) que ejecutará la función.\n",
        "# El cuerpo es escrito debajo del encabezado con indentación (En Español: sangrado)\n",
        "# Cuando las lineas dejan de tener la indentación la función termina.\n",
        "#\n",
        "# Las funciones usualmente contiene un declaración return al final.\n",
        "# Esto proveerá el resultado cuando la función sea llamada.\n",
        "\n",
        "# Ejemplo:\n",
        "\n",
        "def duplica(x):\n",
        "    print(\"Soy la función duplicadora!\")\n",
        "    return 2 * x\n",
        "\n",
        "# Para llamar a una función usamos el nombre de la función\n",
        "# seguido por los parentesis con los valores que queremos usar (argumentos).\n",
        "\n",
        "print(duplica(2))       # Imprimirá 4\n",
        "print(duplica(5))       # Imprimirá 10\n",
        "print(duplica(1) + 3)   # Imprimirá 5"
      ],
      "execution_count": null,
      "outputs": [
        {
          "output_type": "stream",
          "text": [
            "Soy la función duplicadora!\n",
            "4\n",
            "Soy la función duplicadora!\n",
            "10\n",
            "Soy la función duplicadora!\n",
            "5\n"
          ],
          "name": "stdout"
        }
      ]
    },
    {
      "cell_type": "markdown",
      "metadata": {
        "id": "3KYzlOlgDw7u"
      },
      "source": [
        "**Las funciones pueden tener los parámetros que necesitemos o ninguno.**\n"
      ]
    },
    {
      "cell_type": "code",
      "metadata": {
        "colab": {
          "base_uri": "https://localhost:8080/",
          "height": 248
        },
        "id": "7qtochSvDw7u",
        "outputId": "ffbf00b0-f28d-405d-f774-01101205e527"
      },
      "source": [
        "def f(x, y, z):\n",
        "    return x + y + z\n",
        "\n",
        "print(f(1, 3, 2)) # retorna 6\n",
        "\n",
        "def g():\n",
        "    return 42\n",
        "\n",
        "print(g()) # retorna 42\n",
        "\n",
        "# Nota - el número de argumentos provistos debe coincidir con el número de parámetros!\n",
        "print(g(2))         # No funciona.\n",
        "print(f(1, 2))      # Tampoco funcionará."
      ],
      "execution_count": null,
      "outputs": [
        {
          "output_type": "stream",
          "text": [
            "6\n",
            "42\n"
          ],
          "name": "stdout"
        },
        {
          "output_type": "error",
          "ename": "TypeError",
          "evalue": "ignored",
          "traceback": [
            "\u001b[0;31m---------------------------------------------------------------------------\u001b[0m",
            "\u001b[0;31mTypeError\u001b[0m                                 Traceback (most recent call last)",
            "\u001b[0;32m<ipython-input-8-25eae1ec2baa>\u001b[0m in \u001b[0;36m<module>\u001b[0;34m()\u001b[0m\n\u001b[1;32m     10\u001b[0m \u001b[0;34m\u001b[0m\u001b[0m\n\u001b[1;32m     11\u001b[0m \u001b[0;31m# Nota - el número de argumentos provistos debe coincidir con el número de parámetros!\u001b[0m\u001b[0;34m\u001b[0m\u001b[0;34m\u001b[0m\u001b[0;34m\u001b[0m\u001b[0m\n\u001b[0;32m---> 12\u001b[0;31m \u001b[0mprint\u001b[0m\u001b[0;34m(\u001b[0m\u001b[0mg\u001b[0m\u001b[0;34m(\u001b[0m\u001b[0;36m2\u001b[0m\u001b[0;34m)\u001b[0m\u001b[0;34m)\u001b[0m         \u001b[0;31m# No funciona.\u001b[0m\u001b[0;34m\u001b[0m\u001b[0;34m\u001b[0m\u001b[0m\n\u001b[0m\u001b[1;32m     13\u001b[0m \u001b[0mprint\u001b[0m\u001b[0;34m(\u001b[0m\u001b[0mf\u001b[0m\u001b[0;34m(\u001b[0m\u001b[0;36m1\u001b[0m\u001b[0;34m,\u001b[0m \u001b[0;36m2\u001b[0m\u001b[0;34m)\u001b[0m\u001b[0;34m)\u001b[0m      \u001b[0;31m# Tampoco funcionará.\u001b[0m\u001b[0;34m\u001b[0m\u001b[0;34m\u001b[0m\u001b[0m\n",
            "\u001b[0;31mTypeError\u001b[0m: g() takes 0 positional arguments but 1 was given"
          ]
        }
      ]
    },
    {
      "cell_type": "markdown",
      "metadata": {
        "id": "tdMnskb7Dw7u"
      },
      "source": [
        "## Funciones Incorporadas (builtins)\n"
      ]
    },
    {
      "cell_type": "code",
      "metadata": {
        "colab": {
          "base_uri": "https://localhost:8080/"
        },
        "id": "Gnnwjq6_Dw7u",
        "outputId": "02ab5320-35bb-471b-9b90-01ecef244465"
      },
      "source": [
        "# Algunas funciones ya son provistas por el interprete Python\n",
        "\n",
        "print(\"Funciones para conversión de Tipo:\")\n",
        "print(bool(0))   # convierte a boolean (True or False)\n",
        "print(float(42)) # convierte a real\n",
        "print(int(2.8))  # convierte a entero (int)\n",
        "\n",
        "print(\"Y algunas funciones matemáticas basicas:\")\n",
        "print(abs(-5))   # valor absoluto\n",
        "print(max(2,3))  # retorna el máximo valor\n",
        "print(min(2,3))  # retorna el mínimo valor\n",
        "print(pow(2,3))  # eleva a potencia dada (pow(x,y) == x**y)\n",
        "print(round(2.354, 1)) # redondea con el número de digitos"
      ],
      "execution_count": null,
      "outputs": [
        {
          "output_type": "stream",
          "text": [
            "Funciones para conversión de Tipo:\n",
            "False\n",
            "42.0\n",
            "2\n",
            "Y algunas funciones matemáticas basicas:\n",
            "5\n",
            "3\n",
            "2\n",
            "8\n",
            "2.4\n"
          ],
          "name": "stdout"
        }
      ]
    },
    {
      "cell_type": "markdown",
      "metadata": {
        "id": "ZOSEYo6TDw7v"
      },
      "source": [
        "## Funciones en otros módulos\n",
        "\n",
        "**Python tiene muchas funciones ya implementadas, pero no disponibles inmediatamente.**\n",
        "\n",
        "**Para usar estas funciones, debes importar un módulo.**\n",
        "\n",
        "**Podés encontrar estos módulos leyendo la [documentación online de Python](https://docs.python.org/3/).**\n",
        "\n"
      ]
    },
    {
      "cell_type": "markdown",
      "metadata": {
        "id": "ESQ-gik9Dw7v"
      },
      "source": [
        "**Llamando a una función sin importar el módulo**"
      ]
    },
    {
      "cell_type": "code",
      "metadata": {
        "colab": {
          "base_uri": "https://localhost:8080/",
          "height": 214
        },
        "id": "7AtglcjjDw7v",
        "outputId": "406f41d2-b04f-4bae-fcce-809bad04cb51"
      },
      "source": [
        "print(math.factorial(20))  # No importamos el módulo math previamente\n",
        "\n",
        "# Python output:\n",
        "#   NameError: name 'math' is not defined"
      ],
      "execution_count": null,
      "outputs": [
        {
          "output_type": "error",
          "ename": "NameError",
          "evalue": "ignored",
          "traceback": [
            "\u001b[0;31m---------------------------------------------------------------------------\u001b[0m",
            "\u001b[0;31mNameError\u001b[0m                                 Traceback (most recent call last)",
            "\u001b[0;32m<ipython-input-10-e50976dd48a6>\u001b[0m in \u001b[0;36m<module>\u001b[0;34m()\u001b[0m\n\u001b[0;32m----> 1\u001b[0;31m \u001b[0mprint\u001b[0m\u001b[0;34m(\u001b[0m\u001b[0mmath\u001b[0m\u001b[0;34m.\u001b[0m\u001b[0mfactorial\u001b[0m\u001b[0;34m(\u001b[0m\u001b[0;36m20\u001b[0m\u001b[0;34m)\u001b[0m\u001b[0;34m)\u001b[0m  \u001b[0;31m# No importamos el módulo math previamente\u001b[0m\u001b[0;34m\u001b[0m\u001b[0;34m\u001b[0m\u001b[0m\n\u001b[0m\u001b[1;32m      2\u001b[0m \u001b[0;34m\u001b[0m\u001b[0m\n\u001b[1;32m      3\u001b[0m \u001b[0;31m# Python output:\u001b[0m\u001b[0;34m\u001b[0m\u001b[0;34m\u001b[0m\u001b[0;34m\u001b[0m\u001b[0m\n\u001b[1;32m      4\u001b[0m \u001b[0;31m#   NameError: name 'math' is not defined\u001b[0m\u001b[0;34m\u001b[0m\u001b[0;34m\u001b[0m\u001b[0;34m\u001b[0m\u001b[0m\n",
            "\u001b[0;31mNameError\u001b[0m: name 'math' is not defined"
          ]
        }
      ]
    },
    {
      "cell_type": "markdown",
      "metadata": {
        "id": "v7cZ6s-mDw7v"
      },
      "source": [
        "**Llamando a la función importando el módulo**"
      ]
    },
    {
      "cell_type": "code",
      "metadata": {
        "colab": {
          "base_uri": "https://localhost:8080/"
        },
        "id": "DYUtTXshDw7w",
        "outputId": "869b1109-54e2-40d9-90fa-eddecc8c402c"
      },
      "source": [
        "import math\n",
        "print(math.factorial(20))  # mucho mejor...\n",
        "\n",
        "# Notar que el nombre del módulo es incluido antes que el nombre de la función separado por punto.\n"
      ],
      "execution_count": null,
      "outputs": [
        {
          "output_type": "stream",
          "text": [
            "2432902008176640000\n"
          ],
          "name": "stdout"
        }
      ]
    },
    {
      "cell_type": "markdown",
      "metadata": {
        "id": "xytYWDc2Dw7w"
      },
      "source": [
        "## Alcance de las variables (scope)\n",
        "\n",
        "**Las variables existene en un alcance especifico basado en donde ellas fueron definidas.**\n",
        "\n",
        "**Esto significa que no son visibles o no pueden ser usadas por fuera de ese alcance en otras partes del código.**"
      ]
    },
    {
      "cell_type": "code",
      "metadata": {
        "colab": {
          "base_uri": "https://localhost:8080/",
          "height": 265
        },
        "id": "-RDvV2pODw7w",
        "outputId": "c57df504-efec-453a-cac0-4baeda0df179"
      },
      "source": [
        "\n",
        "def f(x_scope_test):\n",
        "    print(\"x_scope_test:\", x_scope_test)\n",
        "    y_scope_test = 5\n",
        "    print(\"y_scope_test:\", y_scope_test)\n",
        "    return x_scope_test + y_scope_test\n",
        "\n",
        "print(f(4))\n",
        "print(x_scope_test) # No va a funcionar!\n",
        "print(y_scope_test) # tampoco funciona!"
      ],
      "execution_count": null,
      "outputs": [
        {
          "output_type": "stream",
          "text": [
            "x_scope_test: 4\n",
            "y_scope_test: 5\n",
            "9\n"
          ],
          "name": "stdout"
        },
        {
          "output_type": "error",
          "ename": "NameError",
          "evalue": "ignored",
          "traceback": [
            "\u001b[0;31m---------------------------------------------------------------------------\u001b[0m",
            "\u001b[0;31mNameError\u001b[0m                                 Traceback (most recent call last)",
            "\u001b[0;32m<ipython-input-12-27cc976e0741>\u001b[0m in \u001b[0;36m<module>\u001b[0;34m()\u001b[0m\n\u001b[1;32m      7\u001b[0m \u001b[0;34m\u001b[0m\u001b[0m\n\u001b[1;32m      8\u001b[0m \u001b[0mprint\u001b[0m\u001b[0;34m(\u001b[0m\u001b[0mf\u001b[0m\u001b[0;34m(\u001b[0m\u001b[0;36m4\u001b[0m\u001b[0;34m)\u001b[0m\u001b[0;34m)\u001b[0m\u001b[0;34m\u001b[0m\u001b[0;34m\u001b[0m\u001b[0m\n\u001b[0;32m----> 9\u001b[0;31m \u001b[0mprint\u001b[0m\u001b[0;34m(\u001b[0m\u001b[0mx_scope_test\u001b[0m\u001b[0;34m)\u001b[0m \u001b[0;31m# No va a funcionar!\u001b[0m\u001b[0;34m\u001b[0m\u001b[0;34m\u001b[0m\u001b[0m\n\u001b[0m\u001b[1;32m     10\u001b[0m \u001b[0mprint\u001b[0m\u001b[0;34m(\u001b[0m\u001b[0my_scope_test\u001b[0m\u001b[0;34m)\u001b[0m \u001b[0;31m# tampoco funciona!\u001b[0m\u001b[0;34m\u001b[0m\u001b[0;34m\u001b[0m\u001b[0m\n",
            "\u001b[0;31mNameError\u001b[0m: name 'x_scope_test' is not defined"
          ]
        }
      ]
    },
    {
      "cell_type": "markdown",
      "metadata": {
        "id": "uwuYNgxWDw7x"
      },
      "source": [
        "**Las variables en funciones tienen un alcance local.**\n",
        "\n",
        "**Solo existen dentro de la función y no tienen relación con las variables del mismo nombre en diferentes funciones.**"
      ]
    },
    {
      "cell_type": "code",
      "metadata": {
        "colab": {
          "base_uri": "https://localhost:8080/"
        },
        "id": "2fI-BaQdDw7x",
        "outputId": "c3ec0d47-93d6-4664-8588-c7b50b5b3a60"
      },
      "source": [
        "def f(x):\n",
        "    print(\"In f, x =\", x)\n",
        "    x += 5\n",
        "    return x\n",
        "\n",
        "def g(x):\n",
        "    y = f(x*2)\n",
        "    print(\"In g, x =\", x)\n",
        "    z = f(x*3)\n",
        "    print(\"In g, x =\", x)\n",
        "    return y + z\n",
        "\n",
        "print(g(2))\n",
        "\n",
        "# Otro ejemplo\n",
        "\n",
        "def f(x):\n",
        "    print(\"In f, x =\", x)\n",
        "    x += 7\n",
        "    return round(x / 3)\n",
        "\n",
        "def g(x):\n",
        "    x *= 10\n",
        "    return 2 * f(x)\n",
        "\n",
        "def h(x):\n",
        "    x += 3\n",
        "    return f(x+4) + g(x)\n",
        "\n",
        "print(h(f(1)))"
      ],
      "execution_count": null,
      "outputs": [
        {
          "output_type": "stream",
          "text": [
            "In f, x = 4\n",
            "In g, x = 2\n",
            "In f, x = 6\n",
            "In g, x = 2\n",
            "20\n",
            "In f, x = 1\n",
            "In f, x = 10\n",
            "In f, x = 60\n",
            "50\n"
          ],
          "name": "stdout"
        }
      ]
    },
    {
      "cell_type": "markdown",
      "metadata": {
        "id": "2LyD_pl-Dw7x"
      },
      "source": [
        "**Cuando definimos variables fuera de las funciones, estas tienen un alcance global (global scope) y pueden ser usadas en cualquier lado.**\n"
      ]
    },
    {
      "cell_type": "code",
      "metadata": {
        "colab": {
          "base_uri": "https://localhost:8080/"
        },
        "id": "JYiiRg7nDw7y",
        "outputId": "23f77f13-ba66-4b7a-acfa-42b7d47e8b04"
      },
      "source": [
        "# En general, deberían evitar usar variables globales.\n",
        "# Al usarlas nuestro código pierde calidad y estilo.\n",
        "# Aún así, se debe saber como funcionan, ya que se usaran en algún momento.\n",
        "\n",
        "g = 100\n",
        "\n",
        "def f(x):\n",
        "    return x + g\n",
        "\n",
        "print(f(5)) # 105\n",
        "print(f(6)) # 106\n",
        "print(g)    # 100\n",
        "\n",
        "# Otro ejemplo\n",
        "\n",
        "def f(x):\n",
        "    # Si modificamos la variable global debemos declararla como global.\n",
        "    # Sino, Python asumirá que es una variable local.\n",
        "    global g\n",
        "    g += 1\n",
        "    return x + g\n",
        "\n",
        "print(f(5)) # 106\n",
        "print(f(6)) # 108\n",
        "print(g)    # 102"
      ],
      "execution_count": null,
      "outputs": [
        {
          "output_type": "stream",
          "text": [
            "105\n",
            "106\n",
            "100\n",
            "106\n",
            "108\n",
            "102\n"
          ],
          "name": "stdout"
        }
      ]
    },
    {
      "cell_type": "markdown",
      "metadata": {
        "id": "XrpGBLSKDw7y"
      },
      "source": [
        "## Retornando Valores\n",
        "\n",
        "**Ejemplo básico**\n"
      ]
    },
    {
      "cell_type": "code",
      "metadata": {
        "colab": {
          "base_uri": "https://localhost:8080/"
        },
        "id": "U68WMoOxDw7y",
        "outputId": "7a8ee081-6069-4b56-98c2-b8d8d27fa3e0"
      },
      "source": [
        "def esPositivo(x):\n",
        "    return (x > 0)\n",
        "\n",
        "print(esPositivo(5))  # True\n",
        "print(esPositivo(-5)) # False\n",
        "print(esPositivo(0))  # False"
      ],
      "execution_count": null,
      "outputs": [
        {
          "output_type": "stream",
          "text": [
            "True\n",
            "False\n",
            "False\n"
          ],
          "name": "stdout"
        }
      ]
    },
    {
      "cell_type": "markdown",
      "metadata": {
        "id": "yMYB0pM3Dw7y"
      },
      "source": [
        "**La función terminará al encontrar un _return_**"
      ]
    },
    {
      "cell_type": "code",
      "metadata": {
        "colab": {
          "base_uri": "https://localhost:8080/"
        },
        "id": "D4DHnDuBDw7z",
        "outputId": "2defae49-771a-4ec0-e8b9-3f28edbe9735"
      },
      "source": [
        "def esPositivo(x):\n",
        "    print(\"Hola!\")    # Imprime \"Hola\"\n",
        "    return (x > 0)\n",
        "    print(\"Chau!\")    # No imprimirá nada, nunca se ejecutará (\"código muerto\"/\"dead code\")\n",
        "\n",
        "print(esPositivo(5))  # Imprime \"Hola\", luego True"
      ],
      "execution_count": null,
      "outputs": [
        {
          "output_type": "stream",
          "text": [
            "Hola!\n",
            "True\n"
          ],
          "name": "stdout"
        }
      ]
    },
    {
      "cell_type": "markdown",
      "metadata": {
        "id": "S9j22PMbDw7z"
      },
      "source": [
        "** Si no definimos un _return_ la función devuelve _None_**"
      ]
    },
    {
      "cell_type": "code",
      "metadata": {
        "colab": {
          "base_uri": "https://localhost:8080/"
        },
        "id": "9Csgw6vpDw7z",
        "outputId": "27e510f6-f994-4557-9205-0a8fc2ed4139"
      },
      "source": [
        "def f(x):\n",
        "    x + 42\n",
        "\n",
        "print(f(5)) # None"
      ],
      "execution_count": null,
      "outputs": [
        {
          "output_type": "stream",
          "text": [
            "None\n"
          ],
          "name": "stdout"
        }
      ]
    },
    {
      "cell_type": "markdown",
      "metadata": {
        "id": "fiZkb6LDDw7z"
      },
      "source": [
        "**Otro ejemplo**"
      ]
    },
    {
      "cell_type": "code",
      "metadata": {
        "colab": {
          "base_uri": "https://localhost:8080/"
        },
        "id": "920ZMPwmDw7z",
        "outputId": "97e11160-58a4-4a45-d076-09bd1a11cd7a"
      },
      "source": [
        "def f(x):\n",
        "    result = x + 42\n",
        "\n",
        "print(f(5)) # None"
      ],
      "execution_count": null,
      "outputs": [
        {
          "output_type": "stream",
          "text": [
            "None\n"
          ],
          "name": "stdout"
        }
      ]
    },
    {
      "cell_type": "markdown",
      "metadata": {
        "id": "i0WKfBkiDw70"
      },
      "source": [
        "## Imprimir vs. Retornar\n",
        "\n",
        "**Un error común es confundir _print_ y _return_ o imprimir y retornar**\n"
      ]
    },
    {
      "cell_type": "code",
      "metadata": {
        "colab": {
          "base_uri": "https://localhost:8080/",
          "height": 265
        },
        "id": "2_olyZGxDw70",
        "outputId": "77126cf9-48ca-466b-8440-4788feca8302"
      },
      "source": [
        "def cubo(x):\n",
        "    print(x**3)  # Aquí está el error!\n",
        "\n",
        "cubo(2)          # parece que funciona!\n",
        "print(cubo(3))   # Imprime None, raro, no?\n",
        "print(2*cubo(4)) # Error!"
      ],
      "execution_count": null,
      "outputs": [
        {
          "output_type": "stream",
          "text": [
            "8\n",
            "27\n",
            "None\n",
            "64\n"
          ],
          "name": "stdout"
        },
        {
          "output_type": "error",
          "ename": "TypeError",
          "evalue": "ignored",
          "traceback": [
            "\u001b[0;31m---------------------------------------------------------------------------\u001b[0m",
            "\u001b[0;31mTypeError\u001b[0m                                 Traceback (most recent call last)",
            "\u001b[0;32m<ipython-input-19-9213e989448c>\u001b[0m in \u001b[0;36m<module>\u001b[0;34m()\u001b[0m\n\u001b[1;32m      4\u001b[0m \u001b[0mcubo\u001b[0m\u001b[0;34m(\u001b[0m\u001b[0;36m2\u001b[0m\u001b[0;34m)\u001b[0m          \u001b[0;31m# parece que funciona!\u001b[0m\u001b[0;34m\u001b[0m\u001b[0;34m\u001b[0m\u001b[0m\n\u001b[1;32m      5\u001b[0m \u001b[0mprint\u001b[0m\u001b[0;34m(\u001b[0m\u001b[0mcubo\u001b[0m\u001b[0;34m(\u001b[0m\u001b[0;36m3\u001b[0m\u001b[0;34m)\u001b[0m\u001b[0;34m)\u001b[0m   \u001b[0;31m# Imprime None, raro, no?\u001b[0m\u001b[0;34m\u001b[0m\u001b[0;34m\u001b[0m\u001b[0m\n\u001b[0;32m----> 6\u001b[0;31m \u001b[0mprint\u001b[0m\u001b[0;34m(\u001b[0m\u001b[0;36m2\u001b[0m\u001b[0;34m*\u001b[0m\u001b[0mcubo\u001b[0m\u001b[0;34m(\u001b[0m\u001b[0;36m4\u001b[0m\u001b[0;34m)\u001b[0m\u001b[0;34m)\u001b[0m \u001b[0;31m# Error!\u001b[0m\u001b[0;34m\u001b[0m\u001b[0;34m\u001b[0m\u001b[0m\n\u001b[0m",
            "\u001b[0;31mTypeError\u001b[0m: unsupported operand type(s) for *: 'int' and 'NoneType'"
          ]
        }
      ]
    },
    {
      "cell_type": "markdown",
      "metadata": {
        "id": "2kAEuuHpDw70"
      },
      "source": [
        "**Una vez más**"
      ]
    },
    {
      "cell_type": "code",
      "metadata": {
        "colab": {
          "base_uri": "https://localhost:8080/"
        },
        "id": "qMKanenSDw70",
        "outputId": "d6d38bf7-46bd-4abe-ac5f-e17a273ac117"
      },
      "source": [
        "def cubo(x):\n",
        "    return (x**3)   # Ahora está mejor!\n",
        "\n",
        "cubo(2)             # parece que es ignorado, por qué?\n",
        "print(cubo(3))      # Funciona!\n",
        "print(2*cubo(4))    # Funciona!"
      ],
      "execution_count": null,
      "outputs": [
        {
          "output_type": "stream",
          "text": [
            "27\n",
            "128\n"
          ],
          "name": "stdout"
        }
      ]
    },
    {
      "cell_type": "markdown",
      "metadata": {
        "id": "E7y754T0Dw71"
      },
      "source": [
        "## Composición de funciones"
      ]
    },
    {
      "cell_type": "code",
      "metadata": {
        "colab": {
          "base_uri": "https://localhost:8080/"
        },
        "id": "3TEa1dkuDw71",
        "outputId": "45db13fc-13db-459f-86c6-c07d01edaaab"
      },
      "source": [
        "def f(w):\n",
        "    return 10*w\n",
        "\n",
        "def g(x, y):\n",
        "    return f(3*x) + y\n",
        "\n",
        "def h(z):\n",
        "    return f(g(z, f(z+1)))\n",
        "\n",
        "print(h(1))"
      ],
      "execution_count": null,
      "outputs": [
        {
          "output_type": "stream",
          "text": [
            "500\n"
          ],
          "name": "stdout"
        }
      ]
    },
    {
      "cell_type": "markdown",
      "metadata": {
        "id": "Uv6_mU8PDw71"
      },
      "source": [
        "## Funciones Auxiliares (helpers)"
      ]
    },
    {
      "cell_type": "code",
      "metadata": {
        "colab": {
          "base_uri": "https://localhost:8080/"
        },
        "id": "ZmWDWC5sDw71",
        "outputId": "15dabfe1-5058-452a-b9b8-93ed3ce54a50"
      },
      "source": [
        "# Regularmente escribimos funciones para resolver problemas.\n",
        "# Podemos también escribir funciones para guardar una acción que será usada muchas veces.\n",
        "# Esas funciones son llamadas \"helpers\" o funciones auxiliares.\n",
        "\n",
        "def ultimo_digito(n):\n",
        "    return n%10\n",
        "\n",
        "def max_ultimo_digito(x, y):\n",
        "    return max(ultimo_digito(x), ultimo_digito(y))\n",
        "\n",
        "print(max_ultimo_digito(134, 672)) # 4\n",
        "print(max_ultimo_digito(132, 674)) # sigue siendo 4"
      ],
      "execution_count": null,
      "outputs": [
        {
          "output_type": "stream",
          "text": [
            "4\n",
            "4\n"
          ],
          "name": "stdout"
        }
      ]
    },
    {
      "cell_type": "markdown",
      "metadata": {
        "id": "P-93KCMhDw71"
      },
      "source": [
        "## Funciones recomendadas"
      ]
    },
    {
      "cell_type": "code",
      "metadata": {
        "colab": {
          "base_uri": "https://localhost:8080/"
        },
        "id": "ylExNrZVDw72",
        "outputId": "665b8daa-4a36-4d15-c359-e6d6a0688e49"
      },
      "source": [
        "# Hay algunas funciones en módulo que definitivamente querrán usar\n",
        "\n",
        "# PRIMERO: la función builtin *round* tiene un comportamiento confuso cuando redondea 0.5\n",
        "# Usar nuestra función redondearMitadParaArriba para arreglar esto.\n",
        "\n",
        "def redondearMitadParaArriba(d):\n",
        "    # Round to nearest with ties going away from zero.\n",
        "    # You do not need to understand how this function works.\n",
        "    import decimal\n",
        "    rounding = decimal.ROUND_HALF_UP\n",
        "    return int(decimal.Decimal(d).to_integral_value(rounding=rounding))\n",
        "\n",
        "print(round(0.5)) # devuelve 0!\n",
        "print(round(1.5)) # ... y esto devuelve 2! que confuso!\n",
        "print(redondearMitadParaArriba(0.5)) # Ahora nuestra función siempre redondea 0.5 hacia arriba.\n",
        "print(redondearMitadParaArriba(1.5)) # Sigue redondeando para arriba.\n",
        "\n",
        "# SEGUNDO: cuando comparamos reales, == no funciona del todo bien.\n",
        "# Usaremos almostEqual para comparar reales\n",
        "\n",
        "print(0.1 + 0.1 == 0.2) # True, pero...\n",
        "d1 = 0.1 + 0.1 + 0.1\n",
        "d2 = 0.3\n",
        "print(d1 == d2) # False!\n",
        "print(d1)       # Imprime 0.30000000000000004 (ups!)\n",
        "print(d1 - d2)  # Imprime 5.55111512313e-17 (muy chico, pero no es cero!)\n",
        "# MORALEJA: nunca usar == con reales!\n",
        "\n",
        "# Python incluye una función builtin math.isclose(), pero esa función\n",
        "# tiene un comportamiento confuso cuando comparamos valores cercanos a 0.\n",
        "# En su lugar, haremos nuestra propia función de isclose:\n",
        "\n",
        "def casiIgual(x, y):\n",
        "    return abs(x - y) < 10**-9\n",
        "\n",
        "# Esto funcionará correctamente!\n",
        "print(casiIgual(0, 0.0000000000001))\n",
        "print(casiIgual(d1, d2))"
      ],
      "execution_count": null,
      "outputs": [
        {
          "output_type": "stream",
          "text": [
            "0\n",
            "2\n",
            "1\n",
            "2\n",
            "True\n",
            "False\n",
            "0.30000000000000004\n",
            "5.551115123125783e-17\n",
            "True\n",
            "True\n"
          ],
          "name": "stdout"
        }
      ]
    },
    {
      "cell_type": "markdown",
      "metadata": {
        "id": "Y9XocewoDw72"
      },
      "source": [
        "## Funciones Test\n",
        "\n",
        "**Una función rota para probar**\n"
      ]
    },
    {
      "cell_type": "code",
      "metadata": {
        "colab": {
          "base_uri": "https://localhost:8080/"
        },
        "id": "4I910Dj1Dw72",
        "outputId": "a137c4f1-5177-4c4a-fc5e-4b571c62b0fc"
      },
      "source": [
        "def ultimoDigito(n):\n",
        "    return n%10\n",
        "\n",
        "def testUltimoDigito():\n",
        "    print(\"Testing ultimoDigito()...\", end=\"\")\n",
        "    assert(ultimoDigito(5) == 5)\n",
        "    assert(ultimoDigito(123) == 3)\n",
        "    assert(ultimoDigito(100) == 0)\n",
        "    assert(ultimoDigito(999) == 9)\n",
        "    print(\"Passed!\")\n",
        "\n",
        "testUltimoDigito() # Passed!  Pero por qué está mal esto?"
      ],
      "execution_count": null,
      "outputs": [
        {
          "output_type": "stream",
          "text": [
            "Testing ultimoDigito()...Passed!\n"
          ],
          "name": "stdout"
        }
      ]
    },
    {
      "cell_type": "markdown",
      "metadata": {
        "id": "6ee9ZVHPDw73"
      },
      "source": [
        "**Una versión mejorada**"
      ]
    },
    {
      "cell_type": "code",
      "metadata": {
        "colab": {
          "base_uri": "https://localhost:8080/",
          "height": 333
        },
        "id": "CgB7d92PDw73",
        "outputId": "0088da80-ed03-4dfb-f653-9043d9ffc66b"
      },
      "source": [
        "def ultimoDigito(n):\n",
        "    return n%10\n",
        "\n",
        "def testUltimoDigito():\n",
        "    print(\"Testing ultimoDigito()...\", end=\"\")\n",
        "    assert(ultimoDigito(5) == 5)\n",
        "    assert(ultimoDigito(123) == 3)\n",
        "    assert(ultimoDigito(100) == 0)\n",
        "    assert(ultimoDigito(999) == 9)\n",
        "    assert(ultimoDigito(-123) == 3) # Agregamos este test\n",
        "    print(\"Passed!\")\n",
        "\n",
        "testUltimoDigito() # Crashed!  Entonces la función de Test funcionó!"
      ],
      "execution_count": null,
      "outputs": [
        {
          "output_type": "stream",
          "text": [
            "Testing ultimoDigito()..."
          ],
          "name": "stdout"
        },
        {
          "output_type": "error",
          "ename": "AssertionError",
          "evalue": "ignored",
          "traceback": [
            "\u001b[0;31m---------------------------------------------------------------------------\u001b[0m",
            "\u001b[0;31mAssertionError\u001b[0m                            Traceback (most recent call last)",
            "\u001b[0;32m<ipython-input-25-49f730871261>\u001b[0m in \u001b[0;36m<module>\u001b[0;34m()\u001b[0m\n\u001b[1;32m     11\u001b[0m     \u001b[0mprint\u001b[0m\u001b[0;34m(\u001b[0m\u001b[0;34m\"Passed!\"\u001b[0m\u001b[0;34m)\u001b[0m\u001b[0;34m\u001b[0m\u001b[0;34m\u001b[0m\u001b[0m\n\u001b[1;32m     12\u001b[0m \u001b[0;34m\u001b[0m\u001b[0m\n\u001b[0;32m---> 13\u001b[0;31m \u001b[0mtestUltimoDigito\u001b[0m\u001b[0;34m(\u001b[0m\u001b[0;34m)\u001b[0m \u001b[0;31m# Crashed!  Entonces la función de Test funcionó!\u001b[0m\u001b[0;34m\u001b[0m\u001b[0;34m\u001b[0m\u001b[0m\n\u001b[0m",
            "\u001b[0;32m<ipython-input-25-49f730871261>\u001b[0m in \u001b[0;36mtestUltimoDigito\u001b[0;34m()\u001b[0m\n\u001b[1;32m      8\u001b[0m     \u001b[0;32massert\u001b[0m\u001b[0;34m(\u001b[0m\u001b[0multimoDigito\u001b[0m\u001b[0;34m(\u001b[0m\u001b[0;36m100\u001b[0m\u001b[0;34m)\u001b[0m \u001b[0;34m==\u001b[0m \u001b[0;36m0\u001b[0m\u001b[0;34m)\u001b[0m\u001b[0;34m\u001b[0m\u001b[0;34m\u001b[0m\u001b[0m\n\u001b[1;32m      9\u001b[0m     \u001b[0;32massert\u001b[0m\u001b[0;34m(\u001b[0m\u001b[0multimoDigito\u001b[0m\u001b[0;34m(\u001b[0m\u001b[0;36m999\u001b[0m\u001b[0;34m)\u001b[0m \u001b[0;34m==\u001b[0m \u001b[0;36m9\u001b[0m\u001b[0;34m)\u001b[0m\u001b[0;34m\u001b[0m\u001b[0;34m\u001b[0m\u001b[0m\n\u001b[0;32m---> 10\u001b[0;31m     \u001b[0;32massert\u001b[0m\u001b[0;34m(\u001b[0m\u001b[0multimoDigito\u001b[0m\u001b[0;34m(\u001b[0m\u001b[0;34m-\u001b[0m\u001b[0;36m123\u001b[0m\u001b[0;34m)\u001b[0m \u001b[0;34m==\u001b[0m \u001b[0;36m3\u001b[0m\u001b[0;34m)\u001b[0m \u001b[0;31m# Agregamos este test\u001b[0m\u001b[0;34m\u001b[0m\u001b[0;34m\u001b[0m\u001b[0m\n\u001b[0m\u001b[1;32m     11\u001b[0m     \u001b[0mprint\u001b[0m\u001b[0;34m(\u001b[0m\u001b[0;34m\"Passed!\"\u001b[0m\u001b[0;34m)\u001b[0m\u001b[0;34m\u001b[0m\u001b[0;34m\u001b[0m\u001b[0m\n\u001b[1;32m     12\u001b[0m \u001b[0;34m\u001b[0m\u001b[0m\n",
            "\u001b[0;31mAssertionError\u001b[0m: "
          ]
        }
      ]
    }
  ]
}