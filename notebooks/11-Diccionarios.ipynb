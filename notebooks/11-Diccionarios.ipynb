{
 "cells": [
  {
   "cell_type": "markdown",
   "metadata": {},
   "source": [
    "# Diccionarios\n",
    "Un diccionario es una estructura de datos que mapea claves a valores,\n",
    "de la misma forma que una lista mapea índices a valores. Sin embargo,\n",
    "las claves de un diccionario pueden ser cualquier valor inmutable."
   ]
  },
  {
   "cell_type": "markdown",
   "metadata": {},
   "source": [
    "### Creando diccionarios"
   ]
  },
  {
   "cell_type": "markdown",
   "metadata": {},
   "source": [
    "Creando un diccionario vacío"
   ]
  },
  {
   "cell_type": "code",
   "execution_count": 50,
   "metadata": {},
   "outputs": [
    {
     "name": "stdout",
     "output_type": "stream",
     "text": [
      "{}\n",
      "{}\n"
     ]
    }
   ],
   "source": [
    "d = dict()\n",
    "print(d)    # imprime {}\n",
    "\n",
    "# Otra forma\n",
    "dd = { }\n",
    "print(dd)    # imprime {}"
   ]
  },
  {
   "cell_type": "markdown",
   "metadata": {},
   "source": [
    "Creando un diccionario a partir de una lista de pares clave-valor"
   ]
  },
  {
   "cell_type": "code",
   "execution_count": 51,
   "metadata": {},
   "outputs": [
    {
     "name": "stdout",
     "output_type": "stream",
     "text": [
      "{'vaca': 5, 'perro': 7, 'gato': 1}\n"
     ]
    }
   ],
   "source": [
    "pares = [(\"vaca\", 5), (\"perro\", 7), (\"gato\", 1)]\n",
    "d = dict(pares)\n",
    "print(d)    # orden impredecible"
   ]
  },
  {
   "cell_type": "markdown",
   "metadata": {},
   "source": [
    "Creando un diccionario enumerando los elementos"
   ]
  },
  {
   "cell_type": "code",
   "execution_count": 52,
   "metadata": {},
   "outputs": [
    {
     "name": "stdout",
     "output_type": "stream",
     "text": [
      "<class 'dict'>\n",
      "{'vaca': 5, 'perro': 7, 'gato': 1}\n"
     ]
    }
   ],
   "source": [
    "diccionario = {\"vaca\": 5, \"perro\": 7, \"gato\": 1}\n",
    "print(type(diccionario))\n",
    "print(diccionario)    "
   ]
  },
  {
   "cell_type": "markdown",
   "metadata": {},
   "source": [
    "### Usando a los diccionarios"
   ]
  },
  {
   "cell_type": "code",
   "execution_count": 53,
   "metadata": {},
   "outputs": [
    {
     "name": "stdout",
     "output_type": "stream",
     "text": [
      "3\n",
      "True\n",
      "False\n",
      "True\n",
      "False\n"
     ]
    }
   ],
   "source": [
    "# Podemos interactuar con los diccionario de una forma muy similar a las listas\n",
    "d = { \"a\" : 1, \"b\" : 2, \"c\" : 3 }\n",
    "\n",
    "print(len(d)) # muestra 3, el numero de pares clave-valor\n",
    "print(\"a\" in d) # muestra True\n",
    "print(2 in d) # muestra False - chequea las claves, no los valores\n",
    "print(2 not in d) # muestra True\n",
    "print(\"a\" not in d) # muestra False"
   ]
  },
  {
   "cell_type": "code",
   "execution_count": 54,
   "metadata": {},
   "outputs": [
    {
     "name": "stdout",
     "output_type": "stream",
     "text": [
      "1\n",
      "42\n",
      "a 1\n",
      "b 2\n",
      "c 3\n",
      "e GOL!!!!\n",
      "a 1\n",
      "b 2\n",
      "c 3\n"
     ]
    }
   ],
   "source": [
    "d = { \"a\" : 1, \"b\" : 2, \"c\" : 3 }\n",
    "\n",
    "print(d[\"a\"]) # encuentra el valor asociado con la clave dada. Da error si la clave no está en d\n",
    "print(d.get(\"z\", 42)) # encuentra el valor de la clave si la clave está en el diccionario,\n",
    "# o devuelve el segundo parámetro (default) si la clave no está en d\n",
    "\n",
    "d[\"e\"] = \"GOL!!!!\" # agrega un nuevo par clave-valor al diccionario o actualiza el valor de una clave actual\n",
    "\n",
    "for clave in d:    #itera sobre las claves, e imprime las claves y los valores correspondientes\n",
    "    print(clave, d[clave]) \n",
    "\n",
    "del d[\"e\"] # elimina el par clave-valor especificado del diccionario. Da error si la clave no está en d\n",
    "\n",
    "for clave, valor in d.items(): #itera sobre clave-valor\n",
    "    print(clave, valor)"
   ]
  },
  {
   "cell_type": "markdown",
   "metadata": {},
   "source": [
    "### Propiedades de los Diccionarios  \n",
    "1. Los Diccionarios mapean Claves a Valores"
   ]
  },
  {
   "cell_type": "code",
   "execution_count": 55,
   "metadata": {},
   "outputs": [
    {
     "name": "stdout",
     "output_type": "stream",
     "text": [
      "32\n"
     ]
    }
   ],
   "source": [
    "edades = dict()\n",
    "clave = \"batman\"\n",
    "valor = 32\n",
    "edades[clave] = valor \n",
    "print(edades[clave])"
   ]
  },
  {
   "cell_type": "markdown",
   "metadata": {},
   "source": [
    "2. Las claves son elementos de un conjunto"
   ]
  },
  {
   "cell_type": "code",
   "execution_count": 56,
   "metadata": {},
   "outputs": [
    {
     "name": "stdout",
     "output_type": "stream",
     "text": [
      "{8: 300, 2: 100, 4: 200}\n"
     ]
    }
   ],
   "source": [
    "d = dict()\n",
    "d[8] = 300\n",
    "d[2] = 100\n",
    "d[4] = 200\n",
    "print(d) #orden impredecible"
   ]
  },
  {
   "cell_type": "code",
   "execution_count": 57,
   "metadata": {},
   "outputs": [
    {
     "name": "stdout",
     "output_type": "stream",
     "text": [
      "{2: 400}\n"
     ]
    }
   ],
   "source": [
    "d = dict()\n",
    "d[2] = 100\n",
    "d[2] = 200\n",
    "d[2] = 400\n",
    "print(d) #la claves son únicas"
   ]
  },
  {
   "cell_type": "code",
   "execution_count": 58,
   "metadata": {},
   "outputs": [
    {
     "ename": "TypeError",
     "evalue": "unhashable type: 'list'",
     "output_type": "error",
     "traceback": [
      "\u001b[1;31m---------------------------------------------------------------------------\u001b[0m",
      "\u001b[1;31mTypeError\u001b[0m                                 Traceback (most recent call last)",
      "\u001b[1;32m<ipython-input-58-787e983b2b22>\u001b[0m in \u001b[0;36m<module>\u001b[1;34m\u001b[0m\n\u001b[0;32m      1\u001b[0m \u001b[0md\u001b[0m \u001b[1;33m=\u001b[0m \u001b[0mdict\u001b[0m\u001b[1;33m(\u001b[0m\u001b[1;33m)\u001b[0m\u001b[1;33m\u001b[0m\u001b[1;33m\u001b[0m\u001b[0m\n\u001b[0;32m      2\u001b[0m \u001b[0ma\u001b[0m \u001b[1;33m=\u001b[0m \u001b[1;33m[\u001b[0m\u001b[1;36m1\u001b[0m\u001b[1;33m]\u001b[0m \u001b[1;31m# las listas son mutables\u001b[0m\u001b[1;33m\u001b[0m\u001b[1;33m\u001b[0m\u001b[0m\n\u001b[1;32m----> 3\u001b[1;33m \u001b[0md\u001b[0m\u001b[1;33m[\u001b[0m\u001b[0ma\u001b[0m\u001b[1;33m]\u001b[0m \u001b[1;33m=\u001b[0m \u001b[1;36m42\u001b[0m \u001b[1;31m# da error, porque las claves del diccionario deben ser inmutables\u001b[0m\u001b[1;33m\u001b[0m\u001b[1;33m\u001b[0m\u001b[0m\n\u001b[0m",
      "\u001b[1;31mTypeError\u001b[0m: unhashable type: 'list'"
     ]
    }
   ],
   "source": [
    "d = dict()\n",
    "a = [1] # las listas son mutables\n",
    "d[a] = 42 # da error, porque las claves del diccionario deben ser inmutables"
   ]
  },
  {
   "cell_type": "markdown",
   "metadata": {},
   "source": [
    "3. Los valores del diccionario no tienen restricciones"
   ]
  },
  {
   "cell_type": "code",
   "execution_count": 59,
   "metadata": {},
   "outputs": [
    {
     "name": "stdout",
     "output_type": "stream",
     "text": [
      "[1, 2]\n",
      "[1, 2, 3]\n"
     ]
    }
   ],
   "source": [
    "# los valores pueden cambiar\n",
    "d = dict()\n",
    "a = [1,2]\n",
    "d[\"batman\"] = a\n",
    "print(d[\"batman\"])\n",
    "a += [3]\n",
    "print(d[\"batman\"])      "
   ]
  }
 ],
 "metadata": {
  "kernelspec": {
   "display_name": "Python 3",
   "language": "python",
   "name": "python3"
  },
  "language_info": {
   "codemirror_mode": {
    "name": "ipython",
    "version": 3
   },
   "file_extension": ".py",
   "mimetype": "text/x-python",
   "name": "python",
   "nbconvert_exporter": "python",
   "pygments_lexer": "ipython3",
   "version": "3.9.0"
  },
  "orig_nbformat": 4
 },
 "nbformat": 4,
 "nbformat_minor": 2
}
