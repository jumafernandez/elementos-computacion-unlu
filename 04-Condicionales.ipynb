{
  "nbformat": 4,
  "nbformat_minor": 0,
  "metadata": {
    "language_info": {
      "name": "python",
      "codemirror_mode": {
        "name": "ipython",
        "version": 3
      },
      "version": "3.7.5-final"
    },
    "orig_nbformat": 2,
    "file_extension": ".py",
    "mimetype": "text/x-python",
    "name": "python",
    "npconvert_exporter": "python",
    "pygments_lexer": "ipython3",
    "version": 3,
    "kernelspec": {
      "name": "python3",
      "display_name": "Python 3"
    },
    "colab": {
      "name": "04-Condicionales.ipynb",
      "provenance": [],
      "include_colab_link": true
    }
  },
  "cells": [
    {
      "cell_type": "markdown",
      "metadata": {
        "id": "view-in-github",
        "colab_type": "text"
      },
      "source": [
        "<a href=\"https://colab.research.google.com/github/introprog-unlu/2021/blob/main/nbs_laboratorio/04-Condicionales.ipynb\" target=\"_parent\"><img src=\"https://colab.research.google.com/assets/colab-badge.svg\" alt=\"Open In Colab\"/></a>"
      ]
    },
    {
      "cell_type": "markdown",
      "metadata": {
        "id": "Fs2nCmd6BaYh"
      },
      "source": [
        "# Condicionales\n",
        "---\n",
        "\n",
        "**El bloque _if_:**"
      ]
    },
    {
      "cell_type": "code",
      "metadata": {
        "id": "XsyKt1q1BaYo",
        "colab": {
          "base_uri": "https://localhost:8080/"
        },
        "outputId": "6ec77406-3c70-45eb-8a4f-e067e1df79ba"
      },
      "source": [
        "def f(x):\n",
        "    print(\"A\", end=\"\")\n",
        "    if (x == 0):\n",
        "        print(\"B\", end=\"\")\n",
        "        print(\"C\", end=\"\")\n",
        "    print(\"D\")\n",
        "\n",
        "f(0)\n",
        "f(1)"
      ],
      "execution_count": null,
      "outputs": [
        {
          "output_type": "stream",
          "text": [
            "ABCD\n",
            "AD\n"
          ],
          "name": "stdout"
        }
      ]
    },
    {
      "cell_type": "markdown",
      "metadata": {
        "id": "I37NRl16BaYp"
      },
      "source": [
        "**Un ejemplo más interesante:**"
      ]
    },
    {
      "cell_type": "code",
      "metadata": {
        "id": "53o1tywfBaYp",
        "colab": {
          "base_uri": "https://localhost:8080/"
        },
        "outputId": "0678d434-9afc-4ae5-d156-932399f6a3e4"
      },
      "source": [
        "# En estos ejemplos se define una función abs(n),\n",
        "# Es un buen ejemplo, pero recordemos que ya tenemos el abs de Python (builtin).\n",
        "\n",
        "def abs1(n):\n",
        "    if (n < 0):\n",
        "        n = -n\n",
        "    return n\n",
        "\n",
        "# otra vez, pero la misma línea indentada.\n",
        "\n",
        "def abs2(n):\n",
        "    if (n < 0): n = -n # Solo indentamos así líneas muy cortas.\n",
        "    return n\n",
        "\n",
        "# otra vez, pero con varios returns\n",
        "\n",
        "def abs3(n):\n",
        "    if (n < 0):\n",
        "        n = -n\n",
        "    return n\n",
        "\n",
        "# además: se puede hacer con aritmética booleana, pero no!\n",
        "\n",
        "def abs4(n):\n",
        "    return (n < 0)*(-n) + (n>=0)*(n) # esto es horrible!\n",
        "    \n",
        "# ahora vemos como funciona esto:\n",
        "\n",
        "print(\"abs1(5) =\", abs1(5), \"and abs1(-5) =\", abs1(-5))\n",
        "print(\"abs2(5) =\", abs2(5), \"and abs2(-5) =\", abs2(-5))\n",
        "print(\"abs3(5) =\", abs3(5), \"and abs3(-5) =\", abs3(-5))\n",
        "print(\"abs4(5) =\", abs4(5), \"and abs4(-5) =\", abs4(-5))"
      ],
      "execution_count": null,
      "outputs": [
        {
          "output_type": "stream",
          "text": [
            "abs1(5) = 5 and abs1(-5) = 5\n",
            "abs2(5) = 5 and abs2(-5) = 5\n",
            "abs3(5) = 5 and abs3(-5) = 5\n",
            "abs4(5) = 5 and abs4(-5) = 5\n"
          ],
          "name": "stdout"
        }
      ]
    },
    {
      "cell_type": "markdown",
      "metadata": {
        "id": "sTRQoh7SBaYq"
      },
      "source": [
        "**El bloque _if-else_:**\n"
      ]
    },
    {
      "cell_type": "code",
      "metadata": {
        "id": "ld0A5pxBBaYq",
        "colab": {
          "base_uri": "https://localhost:8080/"
        },
        "outputId": "67129bce-14dc-401c-f305-0d1294cf4dad"
      },
      "source": [
        "def f(x):\n",
        "    print(\"A\", end=\"\")\n",
        "    if (x == 0):\n",
        "        print(\"B\", end=\"\")\n",
        "        print(\"C\", end=\"\")\n",
        "    else:\n",
        "        print(\"D\", end=\"\")\n",
        "        if (x == 1):\n",
        "            print(\"E\", end=\"\")\n",
        "        else:\n",
        "            print(\"F\", end=\"\")\n",
        "    print(\"G\")\n",
        "\n",
        "f(0)\n",
        "f(1)\n",
        "f(2)"
      ],
      "execution_count": null,
      "outputs": [
        {
          "output_type": "stream",
          "text": [
            "ABCG\n",
            "ADEG\n",
            "ADFG\n"
          ],
          "name": "stdout"
        }
      ]
    },
    {
      "cell_type": "markdown",
      "metadata": {
        "id": "3gpGp9cgBaYq"
      },
      "source": [
        "**Volviendo a _abs(n)_:**"
      ]
    },
    {
      "cell_type": "code",
      "metadata": {
        "id": "ogyJpWiRBaYq",
        "colab": {
          "base_uri": "https://localhost:8080/"
        },
        "outputId": "12911647-e0b8-4694-d852-c7cc438df97b"
      },
      "source": [
        "# Prohibido en IntroProg\n",
        "def abs5(n):\n",
        "    if (n >= 0):\n",
        "        return n\n",
        "    else:\n",
        "        return -n\n",
        "\n",
        "# o, si prefieren...\n",
        "\n",
        "def abs6(n):\n",
        "    if (n >= 0):\n",
        "        sign = +1\n",
        "    else:\n",
        "        sign = -1\n",
        "    return sign * n\n",
        "\n",
        "print(\"abs5(5) =\", abs5(5), \"and abs5(-5) =\", abs5(-5))\n",
        "print(\"abs6(5) =\", abs6(5), \"and abs6(-5) =\", abs6(-5))"
      ],
      "execution_count": null,
      "outputs": [
        {
          "output_type": "stream",
          "text": [
            "abs5(5) = 5 and abs5(-5) = 5\n",
            "abs6(5) = 5 and abs6(-5) = 5\n"
          ],
          "name": "stdout"
        }
      ]
    },
    {
      "cell_type": "markdown",
      "metadata": {
        "id": "CENWg5FzBaYr"
      },
      "source": [
        "**El bloque _if-elif-else_:**"
      ]
    },
    {
      "cell_type": "code",
      "metadata": {
        "id": "SBTJ4ho2BaYr",
        "colab": {
          "base_uri": "https://localhost:8080/"
        },
        "outputId": "94b8f90e-fa10-4263-d216-556bc041593b"
      },
      "source": [
        "def f(x):\n",
        "    print(\"A\", end=\"\")\n",
        "    if (x == 0):\n",
        "        print(\"B\", end=\"\")\n",
        "        print(\"C\", end=\"\")\n",
        "    elif (x == 1):\n",
        "        print(\"D\", end=\"\")\n",
        "    else:\n",
        "        print(\"E\", end=\"\")\n",
        "        if (x == 2):\n",
        "            print(\"F\", end=\"\")\n",
        "        else:\n",
        "            print(\"G\", end=\"\")\n",
        "    print(\"H\")\n",
        "\n",
        "f(0)\n",
        "f(1)\n",
        "f(2)\n",
        "f(3)"
      ],
      "execution_count": null,
      "outputs": [
        {
          "output_type": "stream",
          "text": [
            "ABCH\n",
            "ADH\n",
            "AEFH\n",
            "AEGH\n"
          ],
          "name": "stdout"
        }
      ]
    },
    {
      "cell_type": "markdown",
      "metadata": {
        "id": "rROAMg0SBaYr"
      },
      "source": [
        "**Un ejemplo más interesante:**"
      ]
    },
    {
      "cell_type": "code",
      "metadata": {
        "id": "LPzI-c7DBaYs",
        "colab": {
          "base_uri": "https://localhost:8080/"
        },
        "outputId": "8b6bf62e-1c69-4253-b42d-5d003e02ca2d"
      },
      "source": [
        "def cantidadDeRaices(a, b, c):\n",
        "    # Retorna la cantidad de raices (ceros) de un polinomio de grado 2.\n",
        "    # y = a*x**2 + b*x + c\n",
        "    raices = 0    \n",
        "    d = b**2 - 4*a*c\n",
        "    if (d > 0):\n",
        "        raices = 2\n",
        "    elif (d == 0):\n",
        "        raices = 1\n",
        "    else:\n",
        "        raices = 0\n",
        "    \n",
        "    return raices\n",
        "\n",
        "print(\"y = 4*x**2 + 5*x + 1 tiene\", cantidadDeRaices(4,5,1), \"raices(s).\")\n",
        "print(\"y = 4*x**2 + 4*x + 1 tiene\", cantidadDeRaices(4,4,1), \"raices(s).\")\n",
        "print(\"y = 4*x**2 + 3*x + 1 tiene\", cantidadDeRaices(4,3,1), \"raices(s).\")"
      ],
      "execution_count": 2,
      "outputs": [
        {
          "output_type": "stream",
          "text": [
            "y = 4*x**2 + 5*x + 1 tiene 2 raices(s).\n",
            "y = 4*x**2 + 4*x + 1 tiene 1 raices(s).\n",
            "y = 4*x**2 + 3*x + 1 tiene 0 raices(s).\n"
          ],
          "name": "stdout"
        }
      ]
    },
    {
      "cell_type": "markdown",
      "metadata": {
        "id": "KMycDhkNBaYs"
      },
      "source": [
        "**Otro ejemplo:**"
      ]
    },
    {
      "cell_type": "code",
      "metadata": {
        "id": "t2FD-BiIBaYs",
        "colab": {
          "base_uri": "https://localhost:8080/"
        },
        "outputId": "dbe87846-5b1a-4284-f555-4aba77ef66c5"
      },
      "source": [
        "def obtenerNivel(puntos):\n",
        "    if (puntos >= 90):\n",
        "        puntos = \"A\"\n",
        "    elif (puntos >= 80):\n",
        "        puntos = \"B\"\n",
        "    elif (puntos >= 70):\n",
        "        puntos = \"C\"\n",
        "    elif (puntos >= 60):\n",
        "        puntos = \"D\"\n",
        "    else:\n",
        "        puntos = \"F\"\n",
        "    return puntos\n",
        "\n",
        "print(\"103 -->\", obtenerNivel(103))\n",
        "print(\" 88 -->\", obtenerNivel(88))\n",
        "print(\" 70 -->\", obtenerNivel(70))\n",
        "print(\" 61 -->\", obtenerNivel(61))\n",
        "print(\" 22 -->\", obtenerNivel(22))"
      ],
      "execution_count": null,
      "outputs": [
        {
          "output_type": "stream",
          "text": [
            "103 --> A\n",
            " 88 --> B\n",
            " 70 --> C\n",
            " 61 --> D\n",
            " 22 --> F\n"
          ],
          "name": "stdout"
        }
      ]
    },
    {
      "cell_type": "markdown",
      "metadata": {
        "id": "Cg26YJPSBaYs"
      },
      "source": [
        "**Uso de _if-else_ como expresión:**"
      ]
    },
    {
      "cell_type": "code",
      "metadata": {
        "id": "EV9ojtueBaYt",
        "colab": {
          "base_uri": "https://localhost:8080/"
        },
        "outputId": "dc9c27e3-22a4-46db-b151-a8b51b3b05fe"
      },
      "source": [
        "# expresión if-else (no es un bloque if-else!)\n",
        "\n",
        "def abs7(n):\n",
        "    return n if (n >= 0) else -n\n",
        "\n",
        "print(\"abs7(5) =\", abs7(5), \"and abs7(-5) =\", abs7(-5))"
      ],
      "execution_count": null,
      "outputs": [
        {
          "output_type": "stream",
          "text": [
            "abs7(5) = 5 and abs7(-5) = 5\n"
          ],
          "name": "stdout"
        }
      ]
    },
    {
      "cell_type": "markdown",
      "metadata": {
        "id": "nkHGi3QjBaYt"
      },
      "source": [
        "---\n",
        "\n",
        "**Uso incorrecto**\n",
        "\n",
        "**_NOTA:_ Esta sección es sobre _estilo_ y no sobre _correctitud_. Todos lo ejemplos funcionan, pero algunos son más ingeniosos que otros.**"
      ]
    },
    {
      "cell_type": "markdown",
      "metadata": {
        "id": "i4bz_pMhBaYt"
      },
      "source": [
        "**Negando condiciones:**"
      ]
    },
    {
      "cell_type": "code",
      "metadata": {
        "id": "9vpvdtUZBaYt",
        "colab": {
          "base_uri": "https://localhost:8080/"
        },
        "outputId": "464e0fd1-a26a-41a3-a2d3-fcba267d1391"
      },
      "source": [
        "# Incorrecto:\n",
        "b = True\n",
        "if (not b):\n",
        "    print('NO')\n",
        "else:\n",
        "    print('SI')"
      ],
      "execution_count": null,
      "outputs": [
        {
          "output_type": "stream",
          "text": [
            "SI\n"
          ],
          "name": "stdout"
        }
      ]
    },
    {
      "cell_type": "code",
      "metadata": {
        "id": "yatwsIauBaYt",
        "colab": {
          "base_uri": "https://localhost:8080/"
        },
        "outputId": "cd9f23f3-6748-4eff-e7c4-79124cec77ec"
      },
      "source": [
        "# Correcto:\n",
        "b = True\n",
        "if (b):\n",
        "    print('SI')\n",
        "else:\n",
        "    print('NO')"
      ],
      "execution_count": null,
      "outputs": [
        {
          "output_type": "stream",
          "text": [
            "SI\n"
          ],
          "name": "stdout"
        }
      ]
    },
    {
      "cell_type": "markdown",
      "metadata": {
        "id": "3XF2ZCLtBaYu"
      },
      "source": [
        "**Clausula _if_ vacia:**"
      ]
    },
    {
      "cell_type": "code",
      "metadata": {
        "id": "QlO4WJCKBaYu",
        "colab": {
          "base_uri": "https://localhost:8080/"
        },
        "outputId": "5a0aef55-bf1a-474a-9e6a-95499a67191b"
      },
      "source": [
        "# Mal:\n",
        "b = False\n",
        "if (b):\n",
        "    pass\n",
        "else:\n",
        "    print('no')"
      ],
      "execution_count": null,
      "outputs": [
        {
          "output_type": "stream",
          "text": [
            "no\n"
          ],
          "name": "stdout"
        }
      ]
    },
    {
      "cell_type": "code",
      "metadata": {
        "id": "ece1qgH2BaYu",
        "colab": {
          "base_uri": "https://localhost:8080/"
        },
        "outputId": "01afaf1e-ae63-4bb7-9d3c-4fa07fcca8d7"
      },
      "source": [
        "# Bien:\n",
        "b = False\n",
        "if (not b):\n",
        "    print('no')"
      ],
      "execution_count": null,
      "outputs": [
        {
          "output_type": "stream",
          "text": [
            "no\n"
          ],
          "name": "stdout"
        }
      ]
    },
    {
      "cell_type": "markdown",
      "metadata": {
        "id": "3sUKPDi7BaYu"
      },
      "source": [
        "**Usando _if_ en vez de _and_:**"
      ]
    },
    {
      "cell_type": "code",
      "metadata": {
        "id": "185Qj99pBaYu",
        "colab": {
          "base_uri": "https://localhost:8080/"
        },
        "outputId": "c0d2969a-d467-4e58-b1d7-38723f05619c"
      },
      "source": [
        "# Bien:\n",
        "b1 = True\n",
        "b2 = True\n",
        "if (b1):\n",
        "    if (b2):\n",
        "        print('ambos!')"
      ],
      "execution_count": null,
      "outputs": [
        {
          "output_type": "stream",
          "text": [
            "ambos!\n"
          ],
          "name": "stdout"
        }
      ]
    },
    {
      "cell_type": "code",
      "metadata": {
        "id": "ne5hwFM3BaYv",
        "colab": {
          "base_uri": "https://localhost:8080/"
        },
        "outputId": "371f3d3b-9dfb-4e49-96e4-2602be3e5338"
      },
      "source": [
        "# Bien:\n",
        "b1 = True\n",
        "b2 = True\n",
        "if (b1 and b2):\n",
        "        print('ambos!')"
      ],
      "execution_count": null,
      "outputs": [
        {
          "output_type": "stream",
          "text": [
            "ambos!\n"
          ],
          "name": "stdout"
        }
      ]
    },
    {
      "cell_type": "markdown",
      "metadata": {
        "id": "HNwb2BwRBaYv"
      },
      "source": [
        "**Usando _if_ en vez de _else_:**"
      ]
    },
    {
      "cell_type": "code",
      "metadata": {
        "id": "1UuTr2WCBaYv",
        "colab": {
          "base_uri": "https://localhost:8080/"
        },
        "outputId": "c922f12d-4773-4f69-ec9e-52cb8157a079"
      },
      "source": [
        "# Incorrecto:\n",
        "b = True\n",
        "if (b):\n",
        "    print('SI')\n",
        "if (not b):\n",
        "    print('NO')"
      ],
      "execution_count": null,
      "outputs": [
        {
          "output_type": "stream",
          "text": [
            "SI\n"
          ],
          "name": "stdout"
        }
      ]
    },
    {
      "cell_type": "code",
      "metadata": {
        "id": "rIbU6Q3HBaYv",
        "colab": {
          "base_uri": "https://localhost:8080/"
        },
        "outputId": "c8d6517c-0d4f-4cb3-a12e-5a3eeb819246"
      },
      "source": [
        "# Correcto:\n",
        "b = True\n",
        "if (b):\n",
        "    print('SI')\n",
        "else:\n",
        "    print('NO')"
      ],
      "execution_count": null,
      "outputs": [
        {
          "output_type": "stream",
          "text": [
            "SI\n"
          ],
          "name": "stdout"
        }
      ]
    },
    {
      "cell_type": "markdown",
      "metadata": {
        "id": "2vSHgUE4BaYv"
      },
      "source": [
        "**Otro ejemplo:**"
      ]
    },
    {
      "cell_type": "code",
      "metadata": {
        "id": "TwHTEWwoBaYw",
        "colab": {
          "base_uri": "https://localhost:8080/"
        },
        "outputId": "99c58f8c-477b-42b2-f804-9b721e984c77"
      },
      "source": [
        "# Incorrecto:\n",
        "x = 10\n",
        "if (x < 5):\n",
        "    print('pequeño')\n",
        "if ((x >= 5) and (x < 10)):\n",
        "    print('mediano')\n",
        "if ((x >= 10) and (x < 15)):\n",
        "    print('grande')\n",
        "if (x >= 15):\n",
        "    print('muy grande')"
      ],
      "execution_count": null,
      "outputs": [
        {
          "output_type": "stream",
          "text": [
            "grande\n"
          ],
          "name": "stdout"
        }
      ]
    },
    {
      "cell_type": "code",
      "metadata": {
        "id": "n9itBNk7BaYw",
        "colab": {
          "base_uri": "https://localhost:8080/"
        },
        "outputId": "53d588e3-3bde-4eed-c3ce-8c93dc1084bd"
      },
      "source": [
        "# Correcto:\n",
        "x = 10\n",
        "if (x < 5):\n",
        "    print('pequeño')\n",
        "elif (x < 10):\n",
        "    print('mediano')\n",
        "elif (x < 15):\n",
        "    print('grande')\n",
        "else:\n",
        "    print('muy grande')"
      ],
      "execution_count": null,
      "outputs": [
        {
          "output_type": "stream",
          "text": [
            "grande\n"
          ],
          "name": "stdout"
        }
      ]
    },
    {
      "cell_type": "markdown",
      "metadata": {
        "id": "7zTQmE4ZBaYw"
      },
      "source": [
        "**...y otro más:**"
      ]
    },
    {
      "cell_type": "code",
      "metadata": {
        "id": "djWqhnkrBaYw",
        "colab": {
          "base_uri": "https://localhost:8080/"
        },
        "outputId": "dadb95a5-72ab-4b3a-d129-ff1a2c86a62d"
      },
      "source": [
        "# Incorrecto:\n",
        "c = 'a'\n",
        "if ((c >= 'A') and (c <= 'Z')):\n",
        "    print('Mayúscula!')\n",
        "if ((c >= 'a') and (c <= 'z')):\n",
        "    print('Minúscula!')\n",
        "if ((c < 'A') or\n",
        "    ((c > 'Z') and (c < 'a')) or (c > 'z')):\n",
        "    print ('no es una letra!')"
      ],
      "execution_count": null,
      "outputs": [
        {
          "output_type": "stream",
          "text": [
            "Minúscula!\n"
          ],
          "name": "stdout"
        }
      ]
    },
    {
      "cell_type": "code",
      "metadata": {
        "id": "bZdNPqaNBaYw",
        "colab": {
          "base_uri": "https://localhost:8080/"
        },
        "outputId": "9829d8a7-1bb8-4ced-854a-0dd15bacbab5"
      },
      "source": [
        "# Correcto:\n",
        "c = 'a'\n",
        "if ((c >= 'A') and (c <= 'Z')):\n",
        "    print('Mayúscula!')\n",
        "elif ((c >= 'a') and (c <= 'z')):\n",
        "    print('Minúscula!')\n",
        "else:\n",
        "    print('no es una letra!')"
      ],
      "execution_count": null,
      "outputs": [
        {
          "output_type": "stream",
          "text": [
            "Minúscula!\n"
          ],
          "name": "stdout"
        }
      ]
    },
    {
      "cell_type": "markdown",
      "metadata": {
        "id": "ZDxM3Sx6BaYx"
      },
      "source": [
        "**Usando _\"lógica aritmética\"_ en vez de _\"lógica booleana\"_:**"
      ]
    },
    {
      "cell_type": "code",
      "metadata": {
        "id": "zbCmg2-6BaYx"
      },
      "source": [
        "# Incorrecto:\n",
        "x = 42\n",
        "y = ((x > 0) and 99)"
      ],
      "execution_count": null,
      "outputs": []
    },
    {
      "cell_type": "code",
      "metadata": {
        "id": "CxYEM6pLBaYx"
      },
      "source": [
        "# Correcto:\n",
        "x = 42\n",
        "if (x > 0):\n",
        "    y = 99"
      ],
      "execution_count": null,
      "outputs": []
    }
  ]
}