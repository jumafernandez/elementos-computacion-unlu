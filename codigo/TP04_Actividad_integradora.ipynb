{
  "nbformat": 4,
  "nbformat_minor": 0,
  "metadata": {
    "colab": {
      "provenance": [],
      "authorship_tag": "ABX9TyM8C79RW7Xby4g0QyH63rP8",
      "include_colab_link": true
    },
    "kernelspec": {
      "name": "python3",
      "display_name": "Python 3"
    },
    "language_info": {
      "name": "python"
    }
  },
  "cells": [
    {
      "cell_type": "markdown",
      "metadata": {
        "id": "view-in-github",
        "colab_type": "text"
      },
      "source": [
        "<a href=\"https://colab.research.google.com/github/jumafernandez/elementos-computacion-unlu/blob/main/codigo/TP04_Actividad_integradora.ipynb\" target=\"_parent\"><img src=\"https://colab.research.google.com/assets/colab-badge.svg\" alt=\"Open In Colab\"/></a>"
      ]
    },
    {
      "cell_type": "markdown",
      "source": [
        "# Elementos de Computación: Actividad integradora\n",
        "\n",
        "## Introducción\n",
        "\n",
        "En esta oportunidad vamos a trabajar con una actividad integradora sobre estructuras de control de flujo, implementadas en Python.\n",
        "Para ello, vamos a procesar un conjunto de datos recopilados de estacionamientos de la Ciudad de Birmingham que cuentan con cuatro atributos:\n",
        "- SystemCodeNumber: ID del estacionamiento (string),\n",
        "- Capacity: Capacidad del estacionamiento (integer),  \n",
        "- Occupancy: Cantidad de plazas ocupadas (integer),\n",
        "- LastUpdated: Fecha y hora de la medición (timestamp).\n",
        "Una lectura de datos, que equivale a una línea tiene un formato csv (separado por comas) como el del ejemplo **“BHMBCCMKT01,577,61,2016-10-04 07:59:42”**.\n",
        "\n",
        "Tenga en cuenta que el equipo docente provee esta notebook colab con los comandos iniciales para procesar este archivo.\n",
        "\n",
        "\n"
      ],
      "metadata": {
        "id": "b9h54kfpVWMp"
      }
    },
    {
      "cell_type": "markdown",
      "source": [
        "## Lectura de datos\n",
        "\n",
        "En primer lugar, compartimos el código para la lectura de los datos desde el sitio donde está publicado el dataset: [ [URL](https://archive.ics.uci.edu/dataset/482/parking+birmingham) ]."
      ],
      "metadata": {
        "id": "d7r01S9JVqjo"
      }
    },
    {
      "cell_type": "markdown",
      "source": [
        "Ahora importamos el módulo request desde la librería urllib y descargamos el dataset zipeado desde el sitio web."
      ],
      "metadata": {
        "id": "m7f0lj2rWgFR"
      }
    },
    {
      "cell_type": "code",
      "execution_count": 1,
      "metadata": {
        "colab": {
          "base_uri": "https://localhost:8080/"
        },
        "id": "CmTTsI93VRyQ",
        "outputId": "5661619a-37e1-4bfc-f993-9216f3a2e207"
      },
      "outputs": [
        {
          "output_type": "stream",
          "name": "stdout",
          "text": [
            "Archivo 'parking_birmingham.zip' descargado correctamente.\n"
          ]
        }
      ],
      "source": [
        "import urllib.request\n",
        "\n",
        "url = \"https://archive.ics.uci.edu/static/public/482/parking+birmingham.zip\"\n",
        "file_name = \"parking_birmingham.zip\"\n",
        "\n",
        "urllib.request.urlretrieve(url, file_name)\n",
        "print(f\"Archivo '{file_name}' descargado correctamente.\")"
      ]
    },
    {
      "cell_type": "markdown",
      "source": [
        "Verificamos que esté el archivo:"
      ],
      "metadata": {
        "id": "ceoqxOZyYE-6"
      }
    },
    {
      "cell_type": "code",
      "source": [
        "!ls -a"
      ],
      "metadata": {
        "colab": {
          "base_uri": "https://localhost:8080/"
        },
        "id": "tcRRSP53YHZQ",
        "outputId": "1d0604c9-4dd9-42ad-835d-8d05b44d46b1"
      },
      "execution_count": 2,
      "outputs": [
        {
          "output_type": "stream",
          "name": "stdout",
          "text": [
            ".  ..  .config\tdata  parking_birmingham.zip  sample_data\n"
          ]
        }
      ]
    },
    {
      "cell_type": "markdown",
      "source": [
        "Descomprimimos el archivo y vamos a abrirlo para procesarlo."
      ],
      "metadata": {
        "id": "yfF4yVbjWsJj"
      }
    },
    {
      "cell_type": "code",
      "source": [
        "import zipfile\n",
        "import os\n",
        "\n",
        "with zipfile.ZipFile(file_name, 'r') as zip_ref:\n",
        "    zip_ref.extractall('data')  # Cambia 'data' por la ruta donde deseas extraer los archivos\n",
        "\n",
        "print(\"Archivos descomprimidos correctamente.\")"
      ],
      "metadata": {
        "colab": {
          "base_uri": "https://localhost:8080/"
        },
        "id": "1lrJDnemWxC9",
        "outputId": "bb1831c8-5a21-4208-b483-ab06b48d12da"
      },
      "execution_count": 3,
      "outputs": [
        {
          "output_type": "stream",
          "name": "stdout",
          "text": [
            "Archivos descomprimidos correctamente.\n"
          ]
        }
      ]
    },
    {
      "cell_type": "markdown",
      "source": [
        "Verificamos que esté el archivo descomprimido:"
      ],
      "metadata": {
        "id": "GE4tfYaGCaui"
      }
    },
    {
      "cell_type": "code",
      "source": [
        "!ls data -a"
      ],
      "metadata": {
        "colab": {
          "base_uri": "https://localhost:8080/"
        },
        "id": "is-zlDPnCUTJ",
        "outputId": "038ffdc0-2724-4e52-8625-e4b723d0506b"
      },
      "execution_count": 4,
      "outputs": [
        {
          "output_type": "stream",
          "name": "stdout",
          "text": [
            ".  ..  dataset.csv\n"
          ]
        }
      ]
    },
    {
      "cell_type": "markdown",
      "source": [
        "Importo los módulos que voy a utilizar:"
      ],
      "metadata": {
        "id": "MvYiMsvfTkla"
      }
    },
    {
      "cell_type": "code",
      "source": [
        "from datetime import datetime"
      ],
      "metadata": {
        "id": "Eo-n7UWZTkIA"
      },
      "execution_count": 5,
      "outputs": []
    },
    {
      "cell_type": "markdown",
      "source": [
        "Inicializo los acumuladores y contadores que vamos a utilizar:"
      ],
      "metadata": {
        "id": "rN_lAyYkZUde"
      }
    },
    {
      "cell_type": "code",
      "source": [
        "# Inicializo acumuladores y contadores\n",
        "nro_fila = 0\n",
        "autos_NIA = 0\n",
        "disponibilidad_NIA = 0\n",
        "capacidad_NIA = 0\n",
        "\n",
        "# Mayor cantidad de autos estacionados\n",
        "mayor_cantidad_autos = 0\n",
        "fecha_mayor_cantidad_autos = ''\n",
        "estacionamiento_mayor_cantidad_autos = ''\n",
        "\n",
        "# Menor cantidad de autos estacionados\n",
        "menor_cantidad_autos = 0\n",
        "fecha_menor_cantidad_autos = ''\n",
        "estacionamiento_menor_cantidad_autos = ''\n",
        "\n",
        "# Acumuladores para los estacionamientos\n",
        "# Se escogen únicamente los que se describen a continuación:\n",
        "# Broad Street, Bull Ring, NIA Car Parks, NIA North, Shopping\n",
        "\n",
        "# Broad Street\n",
        "contador_broad_street = 0\n",
        "autos_estacionados_broad_street = 0\n",
        "plazas_disponibles_broad_street = 0\n",
        "\n",
        "# Bull Ring\n",
        "contador_bull_ring = 0\n",
        "autos_estacionados_bull_ring = 0\n",
        "plazas_disponibles_bull_ring = 0\n",
        "\n",
        "# NIA Car Parks\n",
        "contador_nia_car_parks = 0\n",
        "autos_estacionados_nia_car_parks = 0\n",
        "plazas_disponibles_nia_car_parks = 0\n",
        "\n",
        "# NIA North\n",
        "contador_nia_north = 0\n",
        "autos_estacionados_nia_north = 0\n",
        "plazas_disponibles_nia_north = 0\n",
        "\n",
        "# Shopping\n",
        "contador_shopping = 0\n",
        "autos_estacionados_shopping = 0\n",
        "plazas_disponibles_shopping = 0"
      ],
      "metadata": {
        "id": "GOvbjQAbZY2P"
      },
      "execution_count": 6,
      "outputs": []
    },
    {
      "cell_type": "code",
      "source": [
        "with open('data/dataset.csv', 'r') as file:\n",
        "    for line in file:\n",
        "\n",
        "        # Por cada línea inicializo las variables con los datos (las variables están separadas por comas)\n",
        "        nombre_estacionamiento, capacidad_estacionamiento, tasa_ocupacion, fecha_hora_medicion = line.strip().split(',')\n",
        "\n",
        "        # Print para debug\n",
        "        #print(f'Estacionamiento: {nombre_estacionamiento}, Capacidad: {capacidad_estacionamiento}, Ocupación: {tasa_ocupacion}, Medición: {fecha_hora_medicion}')\n",
        "\n",
        "        # Por cada lectura sumo uno al contador de filas\n",
        "        nro_fila = nro_fila + 1\n",
        "\n",
        "        # Hago el casteo de tipos para todas las filas a excepción del encabezado\n",
        "        if nro_fila != 1:\n",
        "            capacidad_estacionamiento = int(capacidad_estacionamiento)\n",
        "            tasa_ocupacion = int(tasa_ocupacion)\n",
        "            fecha_medicion = datetime.strptime(fecha_hora_medicion, \"%Y-%m-%d %H:%M:%S\")\n",
        "\n",
        "            # Inicializo los mayores-menores con los datos de la primera fila de datos (la segunda del archivo)\n",
        "            if nro_fila == 2:\n",
        "\n",
        "                # Esto es para la búsqueda de la mayor y menor fecha\n",
        "                fecha_menor = fecha_medicion\n",
        "                fecha_mayor = fecha_medicion\n",
        "\n",
        "                # Esto es para la búsqueda de la mayor y menor tasa de ocupación\n",
        "                mayor = tasa_ocupacion\n",
        "                menor = tasa_ocupacion\n",
        "\n",
        "            # Con todas las demás filas hago las búsquedas\n",
        "            else:\n",
        "\n",
        "                # Búsqueda de la menor fecha\n",
        "                if fecha_medicion < fecha_menor:\n",
        "                    fecha_menor = fecha_medicion\n",
        "\n",
        "                # Búsqueda de la mayor fecha\n",
        "                if fecha_medicion > fecha_mayor:\n",
        "                    fecha_mayor = fecha_medicion\n",
        "\n",
        "                # Búsqueda de la mayor tasa de ocupación\n",
        "                if mayor > tasa_ocupacion:\n",
        "                    mayor = tasa_ocupacion\n",
        "\n",
        "                # Búsqueda de la menor tasa de ocupación\n",
        "                if menor < tasa_ocupacion:\n",
        "                    menor = tasa_ocupacion\n",
        "\n",
        "                # Busca el estacionamiento y fecha de mayor ocupación\n",
        "                if tasa_ocupacion > mayor_cantidad_autos:\n",
        "                    mayor_cantidad_autos = tasa_ocupacion\n",
        "                    fecha_mayor_cantidad_autos = fecha_medicion\n",
        "                    estacionamiento_mayor_cantidad_autos = nombre_estacionamiento\n",
        "\n",
        "                # Busca el estacionamiento y fecha de menor ocupación\n",
        "                if tasa_ocupacion < menor_cantidad_autos:\n",
        "                    menor_cantidad_autos = tasa_ocupacion\n",
        "                    fecha_menor_cantidad_autos = fecha_medicion\n",
        "                    estacionamiento_menor_cantidad_autos = nombre_estacionamiento\n",
        "\n",
        "                # Punto 7) cantidad y capacidad por estacionamiento\n",
        "                # Lo resuelvo con un if encadenado\n",
        "                if nombre_estacionamiento == 'Broad Street':\n",
        "                    # Sumo a los contadores/acumuladores\n",
        "                    contador_broad_street += 1\n",
        "                    autos_estacionados_broad_street += tasa_ocupacion\n",
        "                    plazas_disponibles_broad_street += capacidad_estacionamiento\n",
        "\n",
        "                elif nombre_estacionamiento == 'Bull Ring':\n",
        "                    # Sumo a los contadores/acumuladores\n",
        "                    contador_bull_ring += 1\n",
        "                    autos_estacionados_bull_ring += tasa_ocupacion\n",
        "                    plazas_disponibles_bull_ring += capacidad_estacionamiento\n",
        "\n",
        "                elif nombre_estacionamiento == 'NIA Car Parks':\n",
        "                    # Sumo a los contadores/acumuladores\n",
        "                    contador_nia_car_parks += 1\n",
        "                    autos_estacionados_nia_car_parks += tasa_ocupacion\n",
        "                    plazas_disponibles_nia_car_parks += capacidad_estacionamiento\n",
        "\n",
        "                elif nombre_estacionamiento == 'NIA North':\n",
        "                    # Sumo a los contadores/acumuladores\n",
        "                    contador_nia_north += 1\n",
        "                    autos_estacionados_nia_north += tasa_ocupacion\n",
        "                    plazas_disponibles_nia_north += capacidad_estacionamiento\n",
        "\n",
        "                elif nombre_estacionamiento == 'Shopping':\n",
        "                    # Sumo a los contadores/acumuladores\n",
        "                    contador_shopping += 1\n",
        "                    autos_estacionados_shopping += tasa_ocupacion\n",
        "                    plazas_disponibles_shopping += capacidad_estacionamiento\n",
        "\n",
        "\n",
        "            # Respuesta a las consignas 1) a) b)\n",
        "            if nombre_estacionamiento == \"NIA South\":\n",
        "                autos_NIA = autos_NIA + tasa_ocupacion\n",
        "                disponibilidad_NIA = capacidad_estacionamiento - tasa_ocupacion\n",
        "                capacidad_NIA = capacidad_NIA + capacidad_estacionamiento\n"
      ],
      "metadata": {
        "id": "_uGMA73MCq4d"
      },
      "execution_count": 7,
      "outputs": []
    },
    {
      "cell_type": "markdown",
      "source": [
        "Resultados encontrados:"
      ],
      "metadata": {
        "id": "UizlnOjYNYbN"
      }
    },
    {
      "cell_type": "code",
      "source": [
        "print('RESPUESTAS A LAS CONSIGNAS:')\n",
        "\n",
        "# Respuesta a 1)\n",
        "print(f'Los autos estacionados en NIA South fueron {autos_NIA}.')\n",
        "print(f'La disponibilidad de autos en NIA South fueron {disponibilidad_NIA}.')\n",
        "print(f'% Ocupación: {autos_NIA/capacidad_NIA*100}')\n",
        "print(f'% Disponibilidad: {disponibilidad_NIA/capacidad_NIA*100}')\n",
        "\n",
        "# Respuesta a 2)\n",
        "print(f'\\nLa fecha menor es {fecha_menor}.')\n",
        "\n",
        "# Respuesta a 3)\n",
        "print(f'\\nLa fecha menor es {fecha_mayor}.')\n",
        "\n",
        "# Respuesta a 4)\n",
        "print(f'\\nEstacionamiento con mayor ocupación: {nombre_estacionamiento}.')\n",
        "print(f'Día de medición: {fecha_mayor_cantidad_autos}.')\n",
        "print(f'Cantidad de autos estacionados: {mayor_cantidad_autos}.')\n",
        "\n",
        "# Respuesta a 5)\n",
        "print(f'\\nEstacionamiento con menor ocupación: {nombre_estacionamiento}.')\n",
        "print(f'Día de medición: {fecha_menor_cantidad_autos}.')\n",
        "print(f'Cantidad de autos estacionados: {menor_cantidad_autos}.')\n",
        "\n",
        "# Respuestas a 6) y 7)\n",
        "print(f'\\nBroad Street: ')\n",
        "print(f'Cantidad de días registrados: {contador_broad_street}.')\n",
        "print(f'Autos estacionados: {autos_estacionados_broad_street}.')\n",
        "print(f'Plazas disponibles: {plazas_disponibles_broad_street}.')\n",
        "print(f'Tasa de ocupación: {round(autos_estacionados_broad_street/plazas_disponibles_broad_street, 2)}.')\n",
        "\n",
        "print(f'\\nBull Ring: ')\n",
        "print(f'Cantidad de días registrados: {contador_bull_ring}.')\n",
        "print(f'Autos estacionados: {autos_estacionados_bull_ring}.')\n",
        "print(f'Plazas disponibles: {plazas_disponibles_bull_ring}.')\n",
        "print(f'Tasa de ocupación: {round(autos_estacionados_bull_ring/plazas_disponibles_bull_ring, 2)}.')\n",
        "\n",
        "print(f'\\nNIA Car Parks: ')\n",
        "print(f'Cantidad de días registrados: {contador_nia_car_parks}.')\n",
        "print(f'Autos estacionados: {autos_estacionados_nia_car_parks}.')\n",
        "print(f'Plazas disponibles: {plazas_disponibles_nia_car_parks}.')\n",
        "print(f'Tasa de ocupación: {round(autos_estacionados_nia_car_parks/plazas_disponibles_nia_car_parks, 2)}.')\n",
        "\n",
        "print(f'\\nNIA North: ')\n",
        "print(f'Cantidad de días registrados: {contador_nia_north}.')\n",
        "print(f'Autos estacionados: {autos_estacionados_nia_north}.')\n",
        "print(f'Plazas disponibles: {plazas_disponibles_nia_north}.')\n",
        "print(f'Tasa de ocupación: {round(autos_estacionados_nia_north/plazas_disponibles_nia_north, 2)}.')\n",
        "\n",
        "print(f'\\nShopping: ')\n",
        "print(f'Cantidad de días registrados: {contador_shopping}.')\n",
        "print(f'Autos estacionados: {autos_estacionados_shopping}.')\n",
        "print(f'Plazas disponibles: {plazas_disponibles_shopping}.')\n",
        "print(f'Tasa de ocupación: {round(autos_estacionados_shopping/plazas_disponibles_shopping, 2)}.')\n"
      ],
      "metadata": {
        "colab": {
          "base_uri": "https://localhost:8080/"
        },
        "id": "S4jsnBfuNaFZ",
        "outputId": "57b030e1-fbd6-4729-afe2-b80ed56397ce"
      },
      "execution_count": 8,
      "outputs": [
        {
          "output_type": "stream",
          "name": "stdout",
          "text": [
            "RESPUESTAS A LAS CONSIGNAS:\n",
            "Los autos estacionados en NIA South fueron 236414.\n",
            "La disponibilidad de autos en NIA South fueron 624.\n",
            "% Ocupación: 24.918419144307467\n",
            "% Disponibilidad: 0.06577061234126516\n",
            "\n",
            "La fecha menor es 2016-10-04 07:46:28.\n",
            "\n",
            "La fecha menor es 2016-12-19 16:30:35.\n",
            "\n",
            "Estacionamiento con mayor ocupación: Shopping.\n",
            "Día de medición: 2016-11-26 15:28:04.\n",
            "Cantidad de autos estacionados: 4327.\n",
            "\n",
            "Estacionamiento con menor ocupación: Shopping.\n",
            "Día de medición: 2016-10-28 13:02:43.\n",
            "Cantidad de autos estacionados: -8.\n",
            "\n",
            "Broad Street: \n",
            "Cantidad de días registrados: 1312.\n",
            "Autos estacionados: 572241.\n",
            "Plazas disponibles: 905280.\n",
            "Tasa de ocupación: 0.63.\n",
            "\n",
            "Bull Ring: \n",
            "Cantidad de días registrados: 1186.\n",
            "Autos estacionados: 1725473.\n",
            "Plazas disponibles: 3620858.\n",
            "Tasa de ocupación: 0.48.\n",
            "\n",
            "NIA Car Parks: \n",
            "Cantidad de días registrados: 1204.\n",
            "Autos estacionados: 249543.\n",
            "Plazas disponibles: 1526672.\n",
            "Tasa de ocupación: 0.16.\n",
            "\n",
            "NIA North: \n",
            "Cantidad de días registrados: 162.\n",
            "Autos estacionados: 5739.\n",
            "Plazas disponibles: 77760.\n",
            "Tasa de ocupación: 0.07.\n",
            "\n",
            "Shopping: \n",
            "Cantidad de días registrados: 1312.\n",
            "Autos estacionados: 1399823.\n",
            "Plazas disponibles: 2519040.\n",
            "Tasa de ocupación: 0.56.\n"
          ]
        }
      ]
    },
    {
      "cell_type": "markdown",
      "source": [
        "Se determina cual es el estacionamiento que más autos alojó:"
      ],
      "metadata": {
        "id": "Z1RwDp8ocyN4"
      }
    },
    {
      "cell_type": "code",
      "source": [
        "if (autos_estacionados_broad_street > autos_estacionados_bull_ring) and (autos_estacionados_broad_street > autos_estacionados_nia_car_parks) and (autos_estacionados_broad_street > autos_estacionados_nia_north)  and (autos_estacionados_broad_street > autos_estacionados_shopping):\n",
        "    print(f'El estacionamiento con mayor cantidad de autos estacionados es Broad Street con {autos_estacionados_broad_street} autos.')\n",
        "\n",
        "elif (autos_estacionados_bull_ring > autos_estacionados_broad_street) and (autos_estacionados_bull_ring > autos_estacionados_nia_car_parks) and (autos_estacionados_bull_ring > autos_estacionados_nia_north)  and (autos_estacionados_bull_ring > autos_estacionados_shopping):\n",
        "    print(f'El estacionamiento con mayor cantidad de autos estacionados es Bull Ring con {autos_estacionados_bull_ring} autos.')\n",
        "\n",
        "elif (autos_estacionados_nia_car_parks > autos_estacionados_broad_street) and (autos_estacionados_nia_car_parks > autos_estacionados_bull_ring) and (autos_estacionados_nia_car_parks > autos_estacionados_nia_north)  and (autos_estacionados_nia_car_parks > autos_estacionados_shopping):\n",
        "    print(f'El estacionamiento con mayor cantidad de autos estacionados es Nia Car Parks con {autos_estacionados_nia_car_parks} autos.')\n",
        "\n",
        "elif (autos_estacionados_nia_north > autos_estacionados_broad_street) and (autos_estacionados_nia_north > autos_estacionados_bull_ring) and (autos_estacionados_nia_north > autos_estacionados_nia_car_parks)  and (autos_estacionados_nia_north > autos_estacionados_shopping):\n",
        "    print(f'El estacionamiento con mayor cantidad de autos estacionados es Nia North con {autos_estacionados_nia_north} autos.')\n",
        "\n",
        "elif (autos_estacionados_shopping > autos_estacionados_broad_street) and (autos_estacionados_shopping > autos_estacionados_bull_ring) and (autos_estacionados_shopping > autos_estacionados_nia_car_parks)  and (autos_estacionados_shopping > autos_estacionados_nia_north):\n",
        "    print(f'El estacionamiento con mayor cantidad de autos estacionados es Shopping con {autos_estacionados_shopping} autos.')\n"
      ],
      "metadata": {
        "colab": {
          "base_uri": "https://localhost:8080/"
        },
        "id": "rqYLPZEOcyg1",
        "outputId": "e13cc96d-c28d-4038-f57a-7b655c7f9868"
      },
      "execution_count": 9,
      "outputs": [
        {
          "output_type": "stream",
          "name": "stdout",
          "text": [
            "El estacionamiento con mayor cantidad de autos estacionados es Bull Ring con 1725473 autos.\n"
          ]
        }
      ]
    }
  ]
}