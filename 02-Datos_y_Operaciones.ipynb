{
  "nbformat": 4,
  "nbformat_minor": 0,
  "metadata": {
    "kernelspec": {
      "display_name": "Python 3",
      "language": "python",
      "name": "python3"
    },
    "language_info": {
      "codemirror_mode": {
        "name": "ipython",
        "version": 3
      },
      "file_extension": ".py",
      "mimetype": "text/x-python",
      "name": "python",
      "nbconvert_exporter": "python",
      "pygments_lexer": "ipython3",
      "version": "3.7.5"
    },
    "toc": {
      "base_numbering": 1,
      "nav_menu": {},
      "number_sections": true,
      "sideBar": true,
      "skip_h1_title": true,
      "title_cell": "Contenido",
      "title_sidebar": "Contenido",
      "toc_cell": false,
      "toc_position": {
        "height": "calc(100% - 180px)",
        "left": "10px",
        "top": "150px",
        "width": "384px"
      },
      "toc_section_display": true,
      "toc_window_display": true
    },
    "colab": {
      "name": "02-Datos_y_Operaciones.ipynb",
      "provenance": [],
      "include_colab_link": true
    }
  },
  "cells": [
    {
      "cell_type": "markdown",
      "metadata": {
        "id": "view-in-github",
        "colab_type": "text"
      },
      "source": [
        "<a href=\"https://colab.research.google.com/github/jumafernandez/nbs_laboratorio_ec/blob/main/02-Datos_y_Operaciones.ipynb\" target=\"_parent\"><img src=\"https://colab.research.google.com/assets/colab-badge.svg\" alt=\"Open In Colab\"/></a>"
      ]
    },
    {
      "cell_type": "markdown",
      "metadata": {
        "id": "uyOfNxHrMiB0"
      },
      "source": [
        "# Datos y Operaciones\n",
        "---\n",
        "\n",
        "\n",
        "\n"
      ]
    },
    {
      "cell_type": "markdown",
      "metadata": {
        "id": "Sc0-NWsNMiB7"
      },
      "source": [
        "## Algunos tipos de datos de Python (Builtin Types)\n",
        "\n"
      ]
    },
    {
      "cell_type": "code",
      "metadata": {
        "id": "kHhaZ6GVMiB7",
        "colab": {
          "base_uri": "https://localhost:8080/"
        },
        "outputId": "a57fe3e1-e407-4ce5-8229-efd04a89838b"
      },
      "source": [
        "print(\"Algunos tipos basicos de Python:\")\n",
        "print(type(2))           # int - entero\n",
        "print(type(2.2))         # float - punto flotante o real\n",
        "print(type(2 < 2.2))     # bool (boolean) - booleano\n",
        "print(type(type(42)))    # type - tipo (?)\n",
        "\n",
        "print(\"#####################################################\")\n",
        "\n",
        "print(\"Algunos otros que usaremos más adelante...\")\n",
        "print(type(\"2.2\"))       # str (string or text) - cadena de caracteres\n",
        "print(type([1,2,3]))     # list - lista\n",
        "print(type((1,2,3)))     # tuple - tupla\n",
        "print(type({1,2}))       # set - conjunto\n",
        "print(type({1:42}))      # dict (dictionary or map) - diccionario\n",
        "print(type(2+3j))        # complex  (complex number) - números complejos"
      ],
      "execution_count": null,
      "outputs": [
        {
          "output_type": "stream",
          "text": [
            "Algunos tipos basicos de Python:\n",
            "<class 'int'>\n",
            "<class 'float'>\n",
            "<class 'bool'>\n",
            "<class 'type'>\n",
            "#####################################################\n",
            "Algunos otros que usaremos más adelante...\n",
            "<class 'str'>\n",
            "<class 'list'>\n",
            "<class 'tuple'>\n",
            "<class 'set'>\n",
            "<class 'dict'>\n",
            "<class 'complex'>\n"
          ],
          "name": "stdout"
        }
      ]
    },
    {
      "cell_type": "markdown",
      "metadata": {
        "id": "FH0fZ3MTMiB8"
      },
      "source": [
        "<a id='builtin-constants'></a>\n",
        "## Algunas Constantes de Python (Builtin Constants)\n"
      ]
    },
    {
      "cell_type": "code",
      "metadata": {
        "id": "z0d1SFMwMiB9",
        "colab": {
          "base_uri": "https://localhost:8080/"
        },
        "outputId": "dd62f75c-5762-47b4-bea0-32125a3b2080"
      },
      "source": [
        "print(\"Algunas constantes incorporadas:\")\n",
        "print(True)\n",
        "print(False)\n",
        "print(None)\n",
        "\n",
        "print(\"...y algunas otras constantes en el módulo math:\")\n",
        "import math\n",
        "\n",
        "print(math.pi)\n",
        "print(math.e)"
      ],
      "execution_count": null,
      "outputs": [
        {
          "output_type": "stream",
          "text": [
            "Algunas constantes incorporadas:\n",
            "True\n",
            "False\n",
            "None\n",
            "...y algunas otras constantes en el módulo math:\n",
            "3.141592653589793\n",
            "2.718281828459045\n"
          ],
          "name": "stdout"
        }
      ]
    },
    {
      "cell_type": "markdown",
      "metadata": {
        "id": "zfDGsLNrMiB9"
      },
      "source": [
        "<a id='builtin-operators'></a>\n",
        "## Algunos Operadores de Python (Builtin Operators)\n",
        "\n",
        "\n",
        "| **Categoria**     | **Operador**                                      |\n",
        "|-------------------|:-------------------------------------------------:|\n",
        "| **Aritmérico**    | \t+, -, *, /, //, \\**, %, - (unario), + (unario)  |\n",
        "| **Relacional**    | \t<, <=, >=, >, ==, !=                            |\n",
        "| **De Asignación** | \t+=, -=, *=, /=, //=, \\**=, %=, <<=, >>=         |\n",
        "| **Lógico**        |  and, or, not                                     |\n",
        "\n",
        "**_Nota: por ahora no cubriremos los operadores bit a bit (<<, >>, &, |, ^, ~, &=, |=, ^=)._**"
      ]
    },
    {
      "cell_type": "markdown",
      "metadata": {
        "id": "Vg0X_w0NMiB9"
      },
      "source": [
        "<a id='integer-division'></a>\n",
        "## División Entera (Integer Division)\n",
        "\n",
        "\n"
      ]
    },
    {
      "cell_type": "code",
      "metadata": {
        "id": "rXJd24HFMiB-",
        "colab": {
          "base_uri": "https://localhost:8080/"
        },
        "outputId": "be36877f-7610-476f-f81b-bc0d00a79441"
      },
      "source": [
        "print(\"El operador / hace la división real, punto flotante o 'común' (float division):\")\n",
        "print(\" 5/3  =\", ( 5/3))\n",
        "print()\n",
        "print(\"El operador // hace la división entera (integer division):\")\n",
        "print(\" 5//3 =\", ( 5//3))\n",
        "print(\" 2//3 =\", ( 2//3))\n",
        "print(\"-1//3 =\", (-1//3))\n",
        "print(\"-4//3 =\", (-4//3))"
      ],
      "execution_count": null,
      "outputs": [
        {
          "output_type": "stream",
          "text": [
            "El operador / hace la división real, punto flotante o 'común' (float division):\n",
            " 5/3  = 1.6666666666666667\n",
            "\n",
            "El operador // hace la división entera (integer division):\n",
            " 5//3 = 1\n",
            " 2//3 = 0\n",
            "-1//3 = -1\n",
            "-4//3 = -2\n"
          ],
          "name": "stdout"
        }
      ]
    },
    {
      "cell_type": "markdown",
      "metadata": {
        "id": "x6l7KPXlMiB-"
      },
      "source": [
        "<a id='modulus'></a>\n",
        "## Módulo o Resto - Operador (%)\n",
        "\n"
      ]
    },
    {
      "cell_type": "code",
      "metadata": {
        "id": "foLPq9ltMiB-",
        "colab": {
          "base_uri": "https://localhost:8080/",
          "height": 282
        },
        "outputId": "cd010741-a719-48bc-a4eb-2ea52061f82f"
      },
      "source": [
        "print(\" 6 % 3 =\", ( 6%3))\n",
        "print(\" 5 % 3 =\", ( 5%3))\n",
        "print(\" 2 % 3 =\", ( 2%3))\n",
        "print(\" 0 % 3 =\", ( 0%3))\n",
        "print(\"-4 % 3 =\", (-4%3))\n",
        "print(\" 3 % 0 =\", ( 3%0))"
      ],
      "execution_count": null,
      "outputs": [
        {
          "output_type": "stream",
          "text": [
            " 6 % 3 = 0\n",
            " 5 % 3 = 2\n",
            " 2 % 3 = 2\n",
            " 0 % 3 = 0\n",
            "-4 % 3 = 2\n"
          ],
          "name": "stdout"
        },
        {
          "output_type": "error",
          "ename": "ZeroDivisionError",
          "evalue": "ignored",
          "traceback": [
            "\u001b[0;31m---------------------------------------------------------------------------\u001b[0m",
            "\u001b[0;31mZeroDivisionError\u001b[0m                         Traceback (most recent call last)",
            "\u001b[0;32m<ipython-input-4-76c105b703e7>\u001b[0m in \u001b[0;36m<module>\u001b[0;34m()\u001b[0m\n\u001b[1;32m      4\u001b[0m \u001b[0mprint\u001b[0m\u001b[0;34m(\u001b[0m\u001b[0;34m\" 0 % 3 =\"\u001b[0m\u001b[0;34m,\u001b[0m \u001b[0;34m(\u001b[0m \u001b[0;36m0\u001b[0m\u001b[0;34m%\u001b[0m\u001b[0;36m3\u001b[0m\u001b[0;34m)\u001b[0m\u001b[0;34m)\u001b[0m\u001b[0;34m\u001b[0m\u001b[0;34m\u001b[0m\u001b[0m\n\u001b[1;32m      5\u001b[0m \u001b[0mprint\u001b[0m\u001b[0;34m(\u001b[0m\u001b[0;34m\"-4 % 3 =\"\u001b[0m\u001b[0;34m,\u001b[0m \u001b[0;34m(\u001b[0m\u001b[0;34m-\u001b[0m\u001b[0;36m4\u001b[0m\u001b[0;34m%\u001b[0m\u001b[0;36m3\u001b[0m\u001b[0;34m)\u001b[0m\u001b[0;34m)\u001b[0m\u001b[0;34m\u001b[0m\u001b[0;34m\u001b[0m\u001b[0m\n\u001b[0;32m----> 6\u001b[0;31m \u001b[0mprint\u001b[0m\u001b[0;34m(\u001b[0m\u001b[0;34m\" 3 % 0 =\"\u001b[0m\u001b[0;34m,\u001b[0m \u001b[0;34m(\u001b[0m \u001b[0;36m3\u001b[0m\u001b[0;34m%\u001b[0m\u001b[0;36m0\u001b[0m\u001b[0;34m)\u001b[0m\u001b[0;34m)\u001b[0m\u001b[0;34m\u001b[0m\u001b[0;34m\u001b[0m\u001b[0m\n\u001b[0m",
            "\u001b[0;31mZeroDivisionError\u001b[0m: integer division or modulo by zero"
          ]
        }
      ]
    },
    {
      "cell_type": "markdown",
      "metadata": {
        "id": "Dlfvuxe-MiB-"
      },
      "source": [
        "<a id='more-of-modulus'></a>\n",
        "## Más sobre el Módulo o el resto - Operador (%)\n",
        "\n",
        "**Verifique que (x % y) es equivalente a (x - (x//y) * y):**\n"
      ]
    },
    {
      "cell_type": "code",
      "metadata": {
        "id": "2ccH1Q4gMiB_",
        "colab": {
          "base_uri": "https://localhost:8080/"
        },
        "outputId": "ada1b753-5d99-4834-9d84-964d900d8f37"
      },
      "source": [
        "def mod(x, y):\n",
        "  return x - (x//y)*y\n",
        "\n",
        "print(41 % 14, mod(41,14))\n",
        "print(14 % 41, mod(14,41))\n",
        "print(-32 % 9, mod(-32,9))\n",
        "print(32 % -9, mod(32,-9))"
      ],
      "execution_count": null,
      "outputs": [
        {
          "output_type": "stream",
          "text": [
            "13 13\n",
            "14 14\n",
            "4 4\n",
            "-4 -4\n"
          ],
          "name": "stdout"
        }
      ]
    },
    {
      "cell_type": "markdown",
      "metadata": {
        "id": "3qUXhHCXMiB_"
      },
      "source": [
        "<a id='semantics'></a>\n",
        "## Los tipos (_types_) afectan la Semantica\n",
        "\n"
      ]
    },
    {
      "cell_type": "code",
      "metadata": {
        "id": "o3ZzKjwAMiB_",
        "colab": {
          "base_uri": "https://localhost:8080/",
          "height": 265
        },
        "outputId": "ebbee4d5-8cde-4b87-daab-bf7513169511"
      },
      "source": [
        "print(3 * 2)\n",
        "print(3 * \"abc\")\n",
        "print(3 + 2)\n",
        "print(\"abc\" + \"def\")\n",
        "print(3 + \"def\")"
      ],
      "execution_count": null,
      "outputs": [
        {
          "output_type": "stream",
          "text": [
            "6\n",
            "abcabcabc\n",
            "5\n",
            "abcdef\n"
          ],
          "name": "stdout"
        },
        {
          "output_type": "error",
          "ename": "TypeError",
          "evalue": "ignored",
          "traceback": [
            "\u001b[0;31m---------------------------------------------------------------------------\u001b[0m",
            "\u001b[0;31mTypeError\u001b[0m                                 Traceback (most recent call last)",
            "\u001b[0;32m<ipython-input-6-2363ba005a96>\u001b[0m in \u001b[0;36m<module>\u001b[0;34m()\u001b[0m\n\u001b[1;32m      3\u001b[0m \u001b[0mprint\u001b[0m\u001b[0;34m(\u001b[0m\u001b[0;36m3\u001b[0m \u001b[0;34m+\u001b[0m \u001b[0;36m2\u001b[0m\u001b[0;34m)\u001b[0m\u001b[0;34m\u001b[0m\u001b[0;34m\u001b[0m\u001b[0m\n\u001b[1;32m      4\u001b[0m \u001b[0mprint\u001b[0m\u001b[0;34m(\u001b[0m\u001b[0;34m\"abc\"\u001b[0m \u001b[0;34m+\u001b[0m \u001b[0;34m\"def\"\u001b[0m\u001b[0;34m)\u001b[0m\u001b[0;34m\u001b[0m\u001b[0;34m\u001b[0m\u001b[0m\n\u001b[0;32m----> 5\u001b[0;31m \u001b[0mprint\u001b[0m\u001b[0;34m(\u001b[0m\u001b[0;36m3\u001b[0m \u001b[0;34m+\u001b[0m \u001b[0;34m\"def\"\u001b[0m\u001b[0;34m)\u001b[0m\u001b[0;34m\u001b[0m\u001b[0;34m\u001b[0m\u001b[0m\n\u001b[0m",
            "\u001b[0;31mTypeError\u001b[0m: unsupported operand type(s) for +: 'int' and 'str'"
          ]
        }
      ]
    },
    {
      "cell_type": "markdown",
      "metadata": {
        "id": "02iLnL5xMiCA"
      },
      "source": [
        "<a id='operator-order'></a>\n",
        "## Orden de Operadores (Precedencia y Asociatividad)\n",
        "\n"
      ]
    },
    {
      "cell_type": "code",
      "metadata": {
        "id": "RyTWkxfTMiCA",
        "colab": {
          "base_uri": "https://localhost:8080/"
        },
        "outputId": "a7a1bc32-ee0a-45b3-ab85-80fb7b27d8a5"
      },
      "source": [
        "print(\"Precedencia:\")\n",
        "print(2+3*4)  # imprime 14, no 20\n",
        "print(5+4%3)  # imprime  6, no 0 (% tiene la misma precedencia que *, /, y //)\n",
        "print(2**3*4) # imprime 32, no 4096 (** tiene mayor precedencia que *, /, //, y %)\n",
        "\n",
        "print()\n",
        "\n",
        "print(\"Asociatividad:\")\n",
        "print(5-4-3)   # imprime -2, no 4        (- asocia de izquierda a derecha)\n",
        "print(4**3**2) # imprime 262144, no 4096 (** asocia de derecha a izqueirda)"
      ],
      "execution_count": null,
      "outputs": [
        {
          "output_type": "stream",
          "text": [
            "Precedencia:\n",
            "14\n",
            "6\n",
            "32\n",
            "\n",
            "Asociatividad:\n",
            "-2\n",
            "262144\n"
          ],
          "name": "stdout"
        }
      ]
    },
    {
      "cell_type": "markdown",
      "metadata": {
        "id": "peGGE4uzMiCA"
      },
      "source": [
        "<a id='approximate-values'></a>\n",
        "## Números Reales - Valores Aproximados\n",
        "\n"
      ]
    },
    {
      "cell_type": "code",
      "metadata": {
        "id": "V2ln18aYMiCA",
        "colab": {
          "base_uri": "https://localhost:8080/"
        },
        "outputId": "19dae383-c398-4b71-9aac-0d37ff783188"
      },
      "source": [
        "print(0.1 + 0.1 == 0.2)        # Verdadero, pero...\n",
        "print(0.1 + 0.1 + 0.1 == 0.3)  # Falso!\n",
        "print(0.1 + 0.1 + 0.1)         # Imprime 0.30000000000000004 (ups!)\n",
        "print((0.1 + 0.1 + 0.1) - 0.3) # Imprime 5.55111512313e-17 (casi..., pero no es cero!)"
      ],
      "execution_count": null,
      "outputs": [
        {
          "output_type": "stream",
          "text": [
            "True\n",
            "False\n",
            "0.30000000000000004\n",
            "5.551115123125783e-17\n"
          ],
          "name": "stdout"
        }
      ]
    },
    {
      "cell_type": "markdown",
      "metadata": {
        "id": "pq-DCNe5MiCA"
      },
      "source": [
        "**Prueba de igualdad o casi igual:**"
      ]
    },
    {
      "cell_type": "code",
      "metadata": {
        "id": "NAXXrsrCMiCB",
        "colab": {
          "base_uri": "https://localhost:8080/"
        },
        "outputId": "d0a68444-1347-41a5-ec89-b3fff2599b25"
      },
      "source": [
        "print(\"El problema...\")\n",
        "d1 = 0.1 + 0.1 + 0.1\n",
        "d2 = 0.3\n",
        "print(d1 == d2)                # Falso (nunca usar == con números reales!)\n",
        "\n",
        "print()\n",
        "print(\"La solución...\")\n",
        "epsilon = 10**-10\n",
        "print(abs(d2 - d1) < epsilon)  # Verdadero!\n",
        "\n",
        "print()\n",
        "print(\"Otra vez, pero usando una muy útil funcion de ayuda (helper), casiIgual:\")\n",
        "\n",
        "def casiIgual(d1, d2):\n",
        "    epsilon = 10**-10\n",
        "    return (abs(d2 - d1) < epsilon)\n",
        "\n",
        "d1 = 0.1 + 0.1 + 0.1\n",
        "d2 = 0.3\n",
        "print(d1 == d2)            # sigue siendo Falso, por supuesto!\n",
        "print(casiIgual(d1, d2)) # Verdadero, y ahora en una función reutilizable!"
      ],
      "execution_count": null,
      "outputs": [
        {
          "output_type": "stream",
          "text": [
            "El problema...\n",
            "False\n",
            "\n",
            "La solución...\n",
            "True\n",
            "\n",
            "Otra vez, pero usando una muy útil funcion de ayuda (helper), casiIgual:\n",
            "False\n",
            "True\n"
          ],
          "name": "stdout"
        }
      ]
    }
  ]
}