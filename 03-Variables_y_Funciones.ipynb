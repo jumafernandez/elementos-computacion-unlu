{
  "nbformat": 4,
  "nbformat_minor": 0,
  "metadata": {
    "language_info": {
      "name": "python",
      "codemirror_mode": {
        "name": "ipython",
        "version": 3
      },
      "version": "3.7.5-final"
    },
    "orig_nbformat": 2,
    "file_extension": ".py",
    "mimetype": "text/x-python",
    "name": "python",
    "npconvert_exporter": "python",
    "pygments_lexer": "ipython3",
    "version": 3,
    "kernelspec": {
      "name": "python3",
      "display_name": "Python 3"
    },
    "colab": {
      "name": "03-Variables_y_Funciones.ipynb",
      "provenance": [],
      "include_colab_link": true
    }
  },
  "cells": [
    {
      "cell_type": "markdown",
      "metadata": {
        "id": "view-in-github",
        "colab_type": "text"
      },
      "source": [
        "<a href=\"https://colab.research.google.com/github/jumafernandez/nbs_laboratorio_ec/blob/main/03-Variables_y_Funciones.ipynb\" target=\"_parent\"><img src=\"https://colab.research.google.com/assets/colab-badge.svg\" alt=\"Open In Colab\"/></a>"
      ]
    },
    {
      "cell_type": "markdown",
      "metadata": {
        "id": "HBDZKVT6Dw7h"
      },
      "source": [
        "  # Variables y Funciones\n",
        "---\n",
        "\n"
      ]
    },
    {
      "cell_type": "markdown",
      "metadata": {
        "id": "maEQRA5RDw7o"
      },
      "source": [
        "## Variables\n",
        "\n",
        "**Una variable es un valor nombrado que referencia o guarda información.**"
      ]
    },
    {
      "cell_type": "code",
      "metadata": {
        "colab": {
          "base_uri": "https://localhost:8080/"
        },
        "id": "mVE2iO86Dw7p",
        "outputId": "c3ac2378-b2dc-4f95-c81d-c4dbb54b45c7"
      },
      "source": [
        "# Colocamos un valor en una variable usando el =\n",
        "x = 5\n",
        "\n",
        "print(x)        # imprime 5\n",
        "print(x*2)      # multiplica x por 2, imprime 10"
      ],
      "execution_count": null,
      "outputs": [
        {
          "output_type": "stream",
          "text": [
            "5\n",
            "10\n"
          ],
          "name": "stdout"
        }
      ]
    },
    {
      "cell_type": "markdown",
      "metadata": {
        "id": "NZMSsjkjDw7p"
      },
      "source": [
        "**A diferencia de lo visto en Matemática, las variables pueden tener valores de diferentes tipos.**"
      ]
    },
    {
      "cell_type": "code",
      "metadata": {
        "colab": {
          "base_uri": "https://localhost:8080/"
        },
        "id": "zW6F8nu4Dw7q",
        "outputId": "3b8b014d-9cd3-4e2c-f9fe-e0f897df5bc3"
      },
      "source": [
        "y = 10\n",
        "print(y - 2)\n",
        "\n",
        "y = True\n",
        "print(y)"
      ],
      "execution_count": null,
      "outputs": [
        {
          "output_type": "stream",
          "text": [
            "8\n",
            "True\n"
          ],
          "name": "stdout"
        }
      ]
    },
    {
      "cell_type": "markdown",
      "metadata": {
        "id": "Pp1wEENlDw7q"
      },
      "source": [
        "**Las variables pueden tener cualquier nombre pero deben comenzar con una letra y no contener caracteres especiales.**"
      ]
    },
    {
      "cell_type": "code",
      "metadata": {
        "colab": {
          "base_uri": "https://localhost:8080/",
          "height": 129
        },
        "id": "tvA-YdeADw7q",
        "outputId": "0a2e368e-9b7b-4731-d889-e82479d2f958"
      },
      "source": [
        "numeros_de_conejos = 40\n",
        "curso_habilitado = True\n",
        "99problemas = 0         # Explota porque comienza con un número"
      ],
      "execution_count": null,
      "outputs": [
        {
          "output_type": "error",
          "ename": "SyntaxError",
          "evalue": "ignored",
          "traceback": [
            "\u001b[0;36m  File \u001b[0;32m\"<ipython-input-3-8a43c46ec025>\"\u001b[0;36m, line \u001b[0;32m3\u001b[0m\n\u001b[0;31m    99problemas = 0         # Explota porque comienza con un número\u001b[0m\n\u001b[0m              ^\u001b[0m\n\u001b[0;31mSyntaxError\u001b[0m\u001b[0;31m:\u001b[0m invalid syntax\n"
          ]
        }
      ]
    },
    {
      "cell_type": "markdown",
      "metadata": {
        "id": "fiUaOJMJDw7r"
      },
      "source": [
        "**Las variables pueden ser actualizadas utilizando operaciones de asignación.**\n"
      ]
    },
    {
      "cell_type": "code",
      "metadata": {
        "colab": {
          "base_uri": "https://localhost:8080/"
        },
        "id": "PuB9AOzQDw7r",
        "outputId": "c8c6be29-ab80-4de5-bced-c84cdfdd68cd"
      },
      "source": [
        "x = 5\n",
        "x += 2      # Igual que x = x + 2\n",
        "print(x)    # Debería ser 7\n",
        "\n",
        "# Podemos utilizar cualquier operación aritmética.\n",
        "\n",
        "y = 350\n",
        "y //= 10\n",
        "print(y)        # Debería ser 35"
      ],
      "execution_count": null,
      "outputs": [
        {
          "output_type": "stream",
          "text": [
            "7\n",
            "35\n"
          ],
          "name": "stdout"
        }
      ]
    },
    {
      "cell_type": "markdown",
      "metadata": {
        "id": "w3aeMwN0Dw7r"
      },
      "source": [
        "## Declaraciones y Expresiones\n",
        "**Una expresión es un valor o una operación que retorna un valor.**"
      ]
    },
    {
      "cell_type": "code",
      "metadata": {
        "colab": {
          "base_uri": "https://localhost:8080/"
        },
        "id": "NS0iNPLvDw7s",
        "outputId": "a09f4acf-f547-4ad4-eb51-c4ee06b45a5c"
      },
      "source": [
        "# Ejemplos de expresiones.\n",
        "# Note que cuando es ejecutado ninguno de ellos es mostrado.\n",
        "\n",
        "4\n",
        "\"Hola Mundo\"\n",
        "7 + 2\n",
        "True or False\n",
        "(2 < 3) and (9 > 0)"
      ],
      "execution_count": null,
      "outputs": [
        {
          "output_type": "execute_result",
          "data": {
            "text/plain": [
              "True"
            ]
          },
          "metadata": {
            "tags": []
          },
          "execution_count": 5
        }
      ]
    },
    {
      "cell_type": "markdown",
      "metadata": {
        "id": "r0zZtmRdDw7s"
      },
      "source": [
        "**Una declaración es una línea de código que ejecuta una acción. Al contrario que las expresiones, las declaraciones no pueden ser usadas en operaciones.**"
      ]
    },
    {
      "cell_type": "code",
      "metadata": {
        "colab": {
          "base_uri": "https://localhost:8080/"
        },
        "id": "CgWlR_EuDw7s",
        "outputId": "7ad7217d-91af-40a0-e4ae-805e697f4a44"
      },
      "source": [
        "# Ejemplo de Declaraciones.\n",
        "\n",
        "print(4)\n",
        "x = True"
      ],
      "execution_count": null,
      "outputs": [
        {
          "output_type": "stream",
          "text": [
            "4\n"
          ],
          "name": "stdout"
        }
      ]
    },
    {
      "cell_type": "markdown",
      "metadata": {
        "id": "IxCxH0QiDw7s"
      },
      "source": [
        "## Funciones\n",
        "\n",
        "**Una función es un procedimiento (una secuencia de _declaraciones_) guardada bajo un nombre que puede ser usada una y otra vez llamandola por el mismo.**\n"
      ]
    },
    {
      "cell_type": "markdown",
      "metadata": {
        "id": "tdMnskb7Dw7u"
      },
      "source": [
        "## Funciones Incorporadas (builtins)\n"
      ]
    },
    {
      "cell_type": "code",
      "metadata": {
        "colab": {
          "base_uri": "https://localhost:8080/"
        },
        "id": "Gnnwjq6_Dw7u",
        "outputId": "02ab5320-35bb-471b-9b90-01ecef244465"
      },
      "source": [
        "# Algunas funciones ya son provistas por el interprete Python\n",
        "\n",
        "print(\"Funciones para conversión de Tipo:\")\n",
        "print(bool(0))   # convierte a boolean (True or False)\n",
        "print(float(42)) # convierte a real\n",
        "print(int(2.8))  # convierte a entero (int)\n",
        "\n",
        "print(\"Y algunas funciones matemáticas basicas:\")\n",
        "print(abs(-5))   # valor absoluto\n",
        "print(max(2,3))  # retorna el máximo valor\n",
        "print(min(2,3))  # retorna el mínimo valor\n",
        "print(pow(2,3))  # eleva a potencia dada (pow(x,y) == x**y)\n",
        "print(round(2.354, 1)) # redondea con el número de digitos"
      ],
      "execution_count": null,
      "outputs": [
        {
          "output_type": "stream",
          "text": [
            "Funciones para conversión de Tipo:\n",
            "False\n",
            "42.0\n",
            "2\n",
            "Y algunas funciones matemáticas basicas:\n",
            "5\n",
            "3\n",
            "2\n",
            "8\n",
            "2.4\n"
          ],
          "name": "stdout"
        }
      ]
    },
    {
      "cell_type": "markdown",
      "metadata": {
        "id": "ZOSEYo6TDw7v"
      },
      "source": [
        "## Funciones en otros módulos\n",
        "\n",
        "**Python tiene muchas funciones ya implementadas, pero no disponibles inmediatamente.**\n",
        "\n",
        "**Para usar estas funciones, debes importar un módulo.**\n",
        "\n",
        "**Podés encontrar estos módulos leyendo la [documentación online de Python](https://docs.python.org/3/).**\n",
        "\n"
      ]
    },
    {
      "cell_type": "markdown",
      "metadata": {
        "id": "ESQ-gik9Dw7v"
      },
      "source": [
        "**Llamando a una función sin importar el módulo**"
      ]
    },
    {
      "cell_type": "code",
      "metadata": {
        "colab": {
          "base_uri": "https://localhost:8080/",
          "height": 214
        },
        "id": "7AtglcjjDw7v",
        "outputId": "406f41d2-b04f-4bae-fcce-809bad04cb51"
      },
      "source": [
        "print(math.factorial(20))  # No importamos el módulo math previamente\n",
        "\n",
        "# Python output:\n",
        "#   NameError: name 'math' is not defined"
      ],
      "execution_count": null,
      "outputs": [
        {
          "output_type": "error",
          "ename": "NameError",
          "evalue": "ignored",
          "traceback": [
            "\u001b[0;31m---------------------------------------------------------------------------\u001b[0m",
            "\u001b[0;31mNameError\u001b[0m                                 Traceback (most recent call last)",
            "\u001b[0;32m<ipython-input-10-e50976dd48a6>\u001b[0m in \u001b[0;36m<module>\u001b[0;34m()\u001b[0m\n\u001b[0;32m----> 1\u001b[0;31m \u001b[0mprint\u001b[0m\u001b[0;34m(\u001b[0m\u001b[0mmath\u001b[0m\u001b[0;34m.\u001b[0m\u001b[0mfactorial\u001b[0m\u001b[0;34m(\u001b[0m\u001b[0;36m20\u001b[0m\u001b[0;34m)\u001b[0m\u001b[0;34m)\u001b[0m  \u001b[0;31m# No importamos el módulo math previamente\u001b[0m\u001b[0;34m\u001b[0m\u001b[0;34m\u001b[0m\u001b[0m\n\u001b[0m\u001b[1;32m      2\u001b[0m \u001b[0;34m\u001b[0m\u001b[0m\n\u001b[1;32m      3\u001b[0m \u001b[0;31m# Python output:\u001b[0m\u001b[0;34m\u001b[0m\u001b[0;34m\u001b[0m\u001b[0;34m\u001b[0m\u001b[0m\n\u001b[1;32m      4\u001b[0m \u001b[0;31m#   NameError: name 'math' is not defined\u001b[0m\u001b[0;34m\u001b[0m\u001b[0;34m\u001b[0m\u001b[0;34m\u001b[0m\u001b[0m\n",
            "\u001b[0;31mNameError\u001b[0m: name 'math' is not defined"
          ]
        }
      ]
    },
    {
      "cell_type": "markdown",
      "metadata": {
        "id": "v7cZ6s-mDw7v"
      },
      "source": [
        "**Llamando a la función importando el módulo**"
      ]
    },
    {
      "cell_type": "code",
      "metadata": {
        "colab": {
          "base_uri": "https://localhost:8080/"
        },
        "id": "DYUtTXshDw7w",
        "outputId": "869b1109-54e2-40d9-90fa-eddecc8c402c"
      },
      "source": [
        "import math\n",
        "print(math.factorial(20))  # mucho mejor...\n",
        "\n",
        "# Notar que el nombre del módulo es incluido antes que el nombre de la función separado por punto.\n"
      ],
      "execution_count": null,
      "outputs": [
        {
          "output_type": "stream",
          "text": [
            "2432902008176640000\n"
          ],
          "name": "stdout"
        }
      ]
    }
  ]
}