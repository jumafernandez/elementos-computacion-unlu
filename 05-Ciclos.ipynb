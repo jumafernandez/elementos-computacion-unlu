{
  "nbformat": 4,
  "nbformat_minor": 0,
  "metadata": {
    "language_info": {
      "name": "python",
      "codemirror_mode": {
        "name": "ipython",
        "version": 3
      },
      "version": "3.7.5-final"
    },
    "orig_nbformat": 2,
    "file_extension": ".py",
    "mimetype": "text/x-python",
    "name": "python",
    "npconvert_exporter": "python",
    "pygments_lexer": "ipython3",
    "version": 3,
    "kernelspec": {
      "name": "python3",
      "display_name": "Python 3"
    },
    "colab": {
      "name": "05-Ciclos.ipynb",
      "provenance": [],
      "include_colab_link": true
    }
  },
  "cells": [
    {
      "cell_type": "markdown",
      "metadata": {
        "id": "view-in-github",
        "colab_type": "text"
      },
      "source": [
        "<a href=\"https://colab.research.google.com/github/jumafernandez/nbs_laboratorio_ec/blob/main/05-Ciclos.ipynb\" target=\"_parent\"><img src=\"https://colab.research.google.com/assets/colab-badge.svg\" alt=\"Open In Colab\"/></a>"
      ]
    },
    {
      "cell_type": "markdown",
      "metadata": {
        "id": "RB3x9tKHzCO0"
      },
      "source": [
        "# Bucles, Ciclos, Iteraciones, Loops, etc... (Estructuras Iterativas)\n",
        "---\n",
        "\n",
        "**El bloque _for_ y _range_:**"
      ]
    },
    {
      "cell_type": "code",
      "metadata": {
        "id": "G8n8CB7izCO7",
        "outputId": "de7489ec-fbd7-4c9c-aade-56401c4e822f",
        "colab": {
          "base_uri": "https://localhost:8080/"
        }
      },
      "source": [
        "# Una estructura repetitiva *for* repite una acción una cantidad definida de veces.\n",
        "# Normalmente es utilizado para procesar elementos en una lista.\n",
        "# Por ahora aprenderemos su uso más básico con el expresión *range*\n",
        "m = 5\n",
        "n = 10\n",
        "\n",
        "\n",
        "total = 0\n",
        "# Notar que range(x, y) incluye x pero excluye y\n",
        "for x in range(m, n+1):\n",
        "  total += x\n",
        "\n",
        "print(f\"Las suma de los valores entre {m} y {n} es {total}.\")"
      ],
      "execution_count": 1,
      "outputs": [
        {
          "output_type": "stream",
          "name": "stdout",
          "text": [
            "Las sumas desde 5 hasta 10 es 45.\n"
          ]
        }
      ]
    },
    {
      "cell_type": "markdown",
      "metadata": {
        "id": "0BUkagOyzCO8"
      },
      "source": [
        "**De hecho, no necesitamos un bucle aquí...**"
      ]
    },
    {
      "cell_type": "code",
      "metadata": {
        "id": "z8HIsy3_zCO8",
        "outputId": "d1677487-8319-43ff-e7f0-2bd88025b381",
        "colab": {
          "base_uri": "https://localhost:8080/"
        }
      },
      "source": [
        "total = sum(range(m, n+1))\n",
        "\n",
        "print(f\"Las suma de los valores entre {m} y {n} es {total}.\")"
      ],
      "execution_count": 2,
      "outputs": [
        {
          "output_type": "stream",
          "name": "stdout",
          "text": [
            "Las suma de los valores entre 5 y 10 es 45.\n"
          ]
        }
      ]
    },
    {
      "cell_type": "markdown",
      "metadata": {
        "id": "mQsHPL5hzCO9"
      },
      "source": [
        "**Como sería si omitimos el primer parametro?**"
      ]
    },
    {
      "cell_type": "code",
      "metadata": {
        "id": "Vb5vElwCzCO9",
        "outputId": "f8cb47c5-a09b-414a-f48f-6b06d9caee02",
        "colab": {
          "base_uri": "https://localhost:8080/"
        }
      },
      "source": [
        "total = 0\n",
        "\n",
        "# por default range comienza en 0\n",
        "for x in range(n+1):\n",
        "  total += x\n",
        "\n",
        "print(f\"La suma de lo valores entre 0 y {n} es {total}\")"
      ],
      "execution_count": 3,
      "outputs": [
        {
          "output_type": "stream",
          "name": "stdout",
          "text": [
            "La suma de lo valores entre 0 y 10 es 55\n"
          ]
        }
      ]
    },
    {
      "cell_type": "markdown",
      "metadata": {
        "id": "bx7CC8pozCO9"
      },
      "source": [
        "**Y el tercer parámetro de range?**"
      ]
    },
    {
      "cell_type": "code",
      "metadata": {
        "id": "UfmxlEN2zCO-",
        "outputId": "4b5fb6ad-6ab8-422f-f7da-c6eaa39461e5",
        "colab": {
          "base_uri": "https://localhost:8080/"
        }
      },
      "source": [
        "m = 5\n",
        "n = 10\n",
        "k = 2\n",
        "\n",
        "total = 0\n",
        "# el tercer parámetro es el paso (step)\n",
        "for x in range(m, n+1, k):\n",
        "  total += x\n",
        "\n",
        "print(f\"Las suma de los valores entre {m} y {n} con un paso de {k} es {total}.\")"
      ],
      "execution_count": 1,
      "outputs": [
        {
          "output_type": "stream",
          "name": "stdout",
          "text": [
            "Las suma de los valores entre 5 y 10 con un paso de 2 es 21.\n"
          ]
        }
      ]
    },
    {
      "cell_type": "markdown",
      "metadata": {
        "id": "S9XXjTnpzCO-"
      },
      "source": [
        "**Sumar los números impares desde M hasta N**"
      ]
    },
    {
      "cell_type": "code",
      "metadata": {
        "id": "jy9AjBRozCO-",
        "outputId": "5321cc39-576c-436e-a6bd-eb4ebcd3976f",
        "colab": {
          "base_uri": "https://localhost:8080/"
        }
      },
      "source": [
        "m = 5\n",
        "n = 10\n",
        "\n",
        "# También podemos cambiar el paso procesando dentro del bucle\n",
        "total = 0\n",
        "\n",
        "for x in range(m, n+1):\n",
        "  if (x % 2 == 1):\n",
        "    total += x\n",
        "\n",
        "print(f\"Las suma de los valores impares entre entre {m} y {n} es {total}.\")"
      ],
      "execution_count": 2,
      "outputs": [
        {
          "output_type": "stream",
          "name": "stdout",
          "text": [
            "Las suma de los valores impares entre entre 5 y 10 es 21.\n"
          ]
        }
      ]
    },
    {
      "cell_type": "markdown",
      "metadata": {
        "id": "YWn4bh8pzCO-"
      },
      "source": [
        "**Ahora de atrás para adelante**"
      ]
    },
    {
      "cell_type": "code",
      "metadata": {
        "id": "mZKLzT8yzCO_",
        "outputId": "49aebdbc-3e8e-4f12-d5a4-bf6f394d5201",
        "colab": {
          "base_uri": "https://localhost:8080/"
        }
      },
      "source": [
        "# range también nos permite usarlo de manera descendente\n",
        "# (No es util ahora, pero sirve de ejemplo)\n",
        "\n",
        "m = 5\n",
        "n = 10\n",
        "\n",
        "total = 0\n",
        "for x in range(n, m-1, -1):\n",
        "  if (x % 2 == 1):\n",
        "    total += x\n",
        "\n",
        "print(f\"Las suma de los valores impares entre entre {m} y {n} es {total}.\")"
      ],
      "execution_count": 4,
      "outputs": [
        {
          "output_type": "stream",
          "name": "stdout",
          "text": [
            "Las suma de los valores impares entre entre 5 y 10 es 21.\n"
          ]
        }
      ]
    },
    {
      "cell_type": "markdown",
      "metadata": {
        "id": "R5hAGB4izCO_"
      },
      "source": [
        "**Bucles enlazados**"
      ]
    },
    {
      "cell_type": "code",
      "metadata": {
        "id": "oYOWITfjzCO_",
        "outputId": "a438090c-b038-4bb2-8ee9-fc480dee1604",
        "colab": {
          "base_uri": "https://localhost:8080/"
        }
      },
      "source": [
        "# Podemos agregar bucles un dentro de otro para repetir acciones\n",
        "# en múltiples niveles.\n",
        "# Esto imprime un sistema de coordenadas.\n",
        "\n",
        "xMax = 4\n",
        "yMax = 5\n",
        "\n",
        "for x in range(xMax+1):\n",
        "  for y in range(yMax+1):\n",
        "    print(f\"({x}, {y})  \", end=\"\")\n",
        "  print()"
      ],
      "execution_count": 7,
      "outputs": [
        {
          "output_type": "stream",
          "name": "stdout",
          "text": [
            "(0, 0)  (0, 1)  (0, 2)  (0, 3)  (0, 4)  (0, 5)  \n",
            "(1, 0)  (1, 1)  (1, 2)  (1, 3)  (1, 4)  (1, 5)  \n",
            "(2, 0)  (2, 1)  (2, 2)  (2, 3)  (2, 4)  (2, 5)  \n",
            "(3, 0)  (3, 1)  (3, 2)  (3, 3)  (3, 4)  (3, 5)  \n",
            "(4, 0)  (4, 1)  (4, 2)  (4, 3)  (4, 4)  (4, 5)  \n"
          ]
        }
      ]
    },
    {
      "cell_type": "markdown",
      "metadata": {
        "id": "Jo0_ZlBazCO_"
      },
      "source": [
        "**Otro ejemplo**"
      ]
    },
    {
      "cell_type": "code",
      "metadata": {
        "id": "WUlqY0tRzCPA",
        "outputId": "8b9fe27a-25af-44c4-bf80-2b4103815bb7",
        "colab": {
          "base_uri": "https://localhost:8080/"
        }
      },
      "source": [
        "# Imprime un rectángulo de nxn de asteriscos\n",
        "n = 5\n",
        "\n",
        "for row in range(n):\n",
        "  for col in range(n):\n",
        "    print(\"*\", end=\"\")\n",
        "  print()"
      ],
      "execution_count": 8,
      "outputs": [
        {
          "output_type": "stream",
          "name": "stdout",
          "text": [
            "*****\n",
            "*****\n",
            "*****\n",
            "*****\n",
            "*****\n"
          ]
        }
      ]
    },
    {
      "cell_type": "markdown",
      "metadata": {
        "id": "P9NfZIaZzCPA"
      },
      "source": [
        "**...y otro más**"
      ]
    },
    {
      "cell_type": "code",
      "metadata": {
        "id": "nuqBLdV0zCPA",
        "outputId": "707dba96-d5ca-42f3-c6b5-65d4d1074eaa",
        "colab": {
          "base_uri": "https://localhost:8080/"
        }
      },
      "source": [
        "# Qué hace esto? Con cuidado y siendo preciso!\n",
        "\n",
        "n = 5\n",
        "\n",
        "for fila in range(n):\n",
        "  print(fila, end=\" \")\n",
        "  for columna in range(fila):\n",
        "    print(\"*\", end=\" \")\n",
        "  print()"
      ],
      "execution_count": 10,
      "outputs": [
        {
          "output_type": "stream",
          "name": "stdout",
          "text": [
            "0 \n",
            "1 * \n",
            "2 * * \n",
            "3 * * * \n",
            "4 * * * * \n"
          ]
        }
      ]
    },
    {
      "cell_type": "markdown",
      "metadata": {
        "id": "whgwnW6lzCPA"
      },
      "source": [
        "**El bloque _while_**"
      ]
    },
    {
      "cell_type": "code",
      "metadata": {
        "id": "74adYaZDzCPB",
        "outputId": "3520429c-6c0c-4a54-f4d4-5f19384f5368",
        "colab": {
          "base_uri": "https://localhost:8080/"
        }
      },
      "source": [
        "# Usar bucles \"while\" cuando hay un indeterminado número de iteraciones.\n",
        "# Cuidado con esto! Por qué?\n",
        "\n",
        "n = 500000\n",
        "\n",
        "while (n >= 10):\n",
        "  n = n//10\n",
        "  print(n)"
      ],
      "execution_count": 13,
      "outputs": [
        {
          "output_type": "stream",
          "name": "stdout",
          "text": [
            "50000\n",
            "5000\n",
            "500\n",
            "50\n",
            "5\n"
          ]
        }
      ]
    },
    {
      "cell_type": "markdown",
      "metadata": {
        "id": "xQFYe2vBzCPC"
      },
      "source": [
        "**Otro mal uso: (aunque el lenguaje lo permita!) _break_, _continue_ y _pass_**"
      ]
    },
    {
      "cell_type": "code",
      "metadata": {
        "id": "OTU3e7rzzCPC",
        "outputId": "1dbfaeb7-d993-4224-aa27-50337c90164a",
        "colab": {
          "base_uri": "https://localhost:8080/"
        }
      },
      "source": [
        "# continue, break, y pass son tres keywords (palabras reservadas)\n",
        "# usadas en bucles para cambiar el flujo del programa.\n",
        "for n in range(200):\n",
        "    if (n % 3 == 0):\n",
        "        continue # saltea el resto de la ejecución de esta vuelta\n",
        "    elif (n == 8):\n",
        "        break # saltea el resto del bucle, ya no sigue iterando.\n",
        "    else:\n",
        "        pass # no hace nada, suelen llamarse \"placeholders\", no es necesario aquí\n",
        "    print(n, end=\" \")\n",
        "print()"
      ],
      "execution_count": 14,
      "outputs": [
        {
          "output_type": "stream",
          "name": "stdout",
          "text": [
            "1 2 4 5 7 \n"
          ]
        }
      ]
    },
    {
      "cell_type": "markdown",
      "metadata": {
        "id": "ofSgrvDizCPC"
      },
      "source": [
        "**Bucle Infinito con _break_**"
      ]
    },
    {
      "cell_type": "code",
      "metadata": {
        "id": "B81uqyCnzCPC",
        "outputId": "074622d5-ae13-4ba5-d310-74f0d245dd74",
        "colab": {
          "base_uri": "https://localhost:8080/"
        }
      },
      "source": [
        "# Nota- esto es un uso avanzado.\n",
        "# No hace falta entender todo el contenido\n",
        "\n",
        "lineas_ingresadas = 0\n",
        "while (True):\n",
        "    texto = input(\"Ingrese un texto (o 'listo' para salir): \")\n",
        "    if (texto == \"listo\"):\n",
        "        break\n",
        "    print(\"- Usted ingresó: \", texto)\n",
        "    lineas_ingresadas += 1\n",
        "print(\"Chau!\")\n",
        "\n",
        "print(f\"Usted ingreso {lineas_ingresadas} lineas (sin incluir 'listo').\")"
      ],
      "execution_count": 15,
      "outputs": [
        {
          "output_type": "stream",
          "name": "stdout",
          "text": [
            "Ingrese un texto (o 'listo' para salir): peepep\n",
            "- Usted ingresó:  peepep\n",
            "Ingrese un texto (o 'listo' para salir): rami\n",
            "- Usted ingresó:  rami\n",
            "Ingrese un texto (o 'listo' para salir): gael\n",
            "- Usted ingresó:  gael\n",
            "Ingrese un texto (o 'listo' para salir): listo\n",
            "Chau!\n",
            "Usted ingreso 3 lineas (sin incluir 'listo').\n"
          ]
        }
      ]
    }
  ]
}