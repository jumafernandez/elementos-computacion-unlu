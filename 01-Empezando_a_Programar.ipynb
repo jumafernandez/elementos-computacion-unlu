{
  "nbformat": 4,
  "nbformat_minor": 0,
  "metadata": {
    "colab": {
      "name": "01-Empezando_a_Programar.ipynb",
      "provenance": [],
      "include_colab_link": true
    },
    "kernelspec": {
      "display_name": "Python 3",
      "language": "python",
      "name": "python3"
    },
    "language_info": {
      "codemirror_mode": {
        "name": "ipython",
        "version": 3
      },
      "file_extension": ".py",
      "mimetype": "text/x-python",
      "name": "python",
      "nbconvert_exporter": "python",
      "pygments_lexer": "ipython3",
      "version": "3.7.5"
    },
    "toc": {
      "base_numbering": 1,
      "nav_menu": {},
      "number_sections": true,
      "sideBar": true,
      "skip_h1_title": false,
      "title_cell": "Table of Contents",
      "title_sidebar": "Contents",
      "toc_cell": false,
      "toc_position": {},
      "toc_section_display": true,
      "toc_window_display": true
    }
  },
  "cells": [
    {
      "cell_type": "markdown",
      "metadata": {
        "id": "view-in-github",
        "colab_type": "text"
      },
      "source": [
        "<a href=\"https://colab.research.google.com/github/jumafernandez/nbs_laboratorio_ec/blob/main/01-Empezando_a_Programar.ipynb\" target=\"_parent\"><img src=\"https://colab.research.google.com/assets/colab-badge.svg\" alt=\"Open In Colab\"/></a>"
      ]
    },
    {
      "cell_type": "markdown",
      "metadata": {
        "id": "DtqRz2JHB0XR"
      },
      "source": [
        "# Empezando a Programar\n",
        "---\n",
        "\n",
        "En este curso vamos a aprender los fundamentos básicos de la Programación, utilizando Python como lenguaje.\n",
        "\n",
        "**Python** es un lenguaje de programación interpretado cuya filosofía hace hincapié en la legibilidad de su código.\n",
        "\n",
        "Se trata de un lenguaje de programación multiparadigma, ya que soporta orientación a objetos, programación imperativa y, en menor medida, programación funcional.\n",
        "\n",
        "Es un lenguaje interpretado, dinámico y multiplataforma. (Fuente: [Wikipedia](https://es.wikipedia.org/wiki/Python))\n"
      ]
    },
    {
      "cell_type": "markdown",
      "metadata": {
        "id": "p7tYuHrPRlXs"
      },
      "source": [
        "### Ejecutando Python\n",
        "Para ejecutar Python, previamente debemos:\n",
        "* Instalar la versión 3.8 de Python, descargándola de [python.org](https://python.org),\n",
        "* Instalar [Syper](https://www.spyder-ide.org/) o el Editor de código que prefieras (PyCharm, Geany,Vi, etc)\n",
        "* Iniciar tu Editor de Código,\n",
        "* Editar tu archivo de texto y guardarlo con la extensión _.py_,\n",
        "* Ejecutar tu código.\n"
      ]
    },
    {
      "cell_type": "markdown",
      "metadata": {
        "id": "XWvfYVDGGBrd"
      },
      "source": [
        "<a id='hello-world'></a>\n",
        "### \"Hola Mundo\" en Python\n",
        "Ahora, escribiremos nuestro primer programa en Python, un script sencillo que muestra en pantalla el texto \"Hola Mundo\":"
      ]
    },
    {
      "cell_type": "code",
      "metadata": {
        "id": "rDBAbBnH_3Sg",
        "colab": {
          "base_uri": "https://localhost:8080/"
        },
        "outputId": "e0459e25-c0ea-47a6-c86a-9f3ed9d66de8"
      },
      "source": [
        "print(\"Hola Mundo!\")"
      ],
      "execution_count": null,
      "outputs": [
        {
          "output_type": "stream",
          "text": [
            "Hola Mundo!\n"
          ],
          "name": "stdout"
        }
      ]
    },
    {
      "cell_type": "markdown",
      "metadata": {
        "id": "zsMKjKiCG5n0"
      },
      "source": [
        "### Comentarios en el código\n",
        "Podemos hacer comentarios en nuestro código. Estos comentarios no son interpretados por el lenguaje pero nos permiten recordar que hacemos en cada porción de código. Utilizar comentarios es una buena práctica de programación."
      ]
    },
    {
      "cell_type": "code",
      "metadata": {
        "id": "Fp61JELMHmRa",
        "colab": {
          "base_uri": "https://localhost:8080/"
        },
        "outputId": "537a6ad6-9db7-4b9b-eabf-931c022a5ffb"
      },
      "source": [
        "print(\"Hola Mundo!\") # Esto es un comentario\n",
        "# print(\"Qué hace esta línea de código?\")"
      ],
      "execution_count": null,
      "outputs": [
        {
          "output_type": "stream",
          "text": [
            "Hola Mundo!\n"
          ],
          "name": "stdout"
        }
      ]
    },
    {
      "cell_type": "markdown",
      "metadata": {
        "id": "3mYfjlAFJQs0"
      },
      "source": [
        "### Salidas básicas en Pantalla\n",
        "Como vimos en el programita anterior, podemos mostrar textos, números y resultados de operaciones, entre otras cosas, por pantalla. La instrucción básica que permtie esto es _print_.\n",
        "\n",
        "__Uso básico de _print_:__"
      ]
    },
    {
      "cell_type": "code",
      "metadata": {
        "id": "F_6ezzzNJQD6",
        "colab": {
          "base_uri": "https://localhost:8080/"
        },
        "outputId": "65a15db8-6dfd-42fa-eb25-232ea77bb300"
      },
      "source": [
        "print(\"Carpe\")\n",
        "print(\"diem\")"
      ],
      "execution_count": null,
      "outputs": [
        {
          "output_type": "stream",
          "text": [
            "Carpe\n",
            "diem\n"
          ],
          "name": "stdout"
        }
      ]
    },
    {
      "cell_type": "markdown",
      "metadata": {
        "id": "0udC-1NMKCKK"
      },
      "source": [
        "__Mostrar en la misma línea:__"
      ]
    },
    {
      "cell_type": "code",
      "metadata": {
        "id": "nmpqZB31J6JG",
        "colab": {
          "base_uri": "https://localhost:8080/"
        },
        "outputId": "796a725c-75c2-453c-f0b0-a8573c97e071"
      },
      "source": [
        "# Podemos separar múltiples valores entre comas (\",\")\n",
        "print(\"Carpe\", \"diem\")\n",
        "\n",
        "# También podemos usar el parámetro end=\"\" si queremos que aparezca en la misma línea\n",
        "print(\"Carpe \", end=\"\")\n",
        "print(\"diem\")"
      ],
      "execution_count": null,
      "outputs": [
        {
          "output_type": "stream",
          "text": [
            "Carpe diem\n",
            "Carpe diem\n"
          ],
          "name": "stdout"
        }
      ]
    },
    {
      "cell_type": "markdown",
      "metadata": {
        "id": "wechVjeNKd89"
      },
      "source": [
        "__Imprimir usando cadenas _\"f\"_:__\n",
        "\n",
        "Las cadenas f proporcionan una forma sencilla de integrar variables y expresiones dentro de una cadena de texto de forma muy sencilla."
      ]
    },
    {
      "cell_type": "code",
      "metadata": {
        "id": "dN1iL1hCLjRg",
        "colab": {
          "base_uri": "https://localhost:8080/"
        },
        "outputId": "d1eb20fc-df6d-4f6c-9f8e-dc68fc83eb1d"
      },
      "source": [
        "x = 44463\n",
        "y = 42\n",
        "# Podemos poner los nombres de variables entre {llaves} para imprimir valores:\n",
        "print(f'Sabías que {x} + {y} es {x+y}?')"
      ],
      "execution_count": null,
      "outputs": [
        {
          "output_type": "stream",
          "text": [
            "Sabías que 44463 + 42 es 44505?\n"
          ],
          "name": "stdout"
        }
      ]
    },
    {
      "cell_type": "markdown",
      "metadata": {
        "id": "Wjta-tS_M9zp"
      },
      "source": [
        "### Importación de módulos\n",
        "Los lenguajes de programación cuentan con módulos que permiten reutilizar código de otros programadores así como invocar funciones complejas ya existentes en el lenguaje.\n",
        "\n",
        "Por ejemplo, existe un módulo _math_ que cuenta con operaciones matemáticas ya definidas para que podamos usarlas sin necesidad de programar como se hace la operación:"
      ]
    },
    {
      "cell_type": "code",
      "metadata": {
        "id": "PKjQIkB4OlqQ",
        "colab": {
          "base_uri": "https://localhost:8080/",
          "height": 180
        },
        "outputId": "6f50b888-c78f-4f8a-d0ce-c634c7590426"
      },
      "source": [
        "# Si queremos usar la función factorial podemos hacerlo de la siguiente manera:\n",
        "print(math.factorial(5))"
      ],
      "execution_count": null,
      "outputs": [
        {
          "output_type": "error",
          "ename": "NameError",
          "evalue": "ignored",
          "traceback": [
            "\u001b[0;31m---------------------------------------------------------------------------\u001b[0m",
            "\u001b[0;31mNameError\u001b[0m                                 Traceback (most recent call last)",
            "\u001b[0;32m<ipython-input-6-d6f34ef9bd48>\u001b[0m in \u001b[0;36m<module>\u001b[0;34m()\u001b[0m\n\u001b[1;32m      1\u001b[0m \u001b[0;31m# Si queremos usar la función factorial podemos hacerlo de la siguiente manera:\u001b[0m\u001b[0;34m\u001b[0m\u001b[0;34m\u001b[0m\u001b[0;34m\u001b[0m\u001b[0m\n\u001b[0;32m----> 2\u001b[0;31m \u001b[0mprint\u001b[0m\u001b[0;34m(\u001b[0m\u001b[0mmath\u001b[0m\u001b[0;34m.\u001b[0m\u001b[0mfactorial\u001b[0m\u001b[0;34m(\u001b[0m\u001b[0;36m5\u001b[0m\u001b[0;34m)\u001b[0m\u001b[0;34m)\u001b[0m\u001b[0;34m\u001b[0m\u001b[0;34m\u001b[0m\u001b[0m\n\u001b[0m",
            "\u001b[0;31mNameError\u001b[0m: name 'math' is not defined"
          ]
        }
      ]
    },
    {
      "cell_type": "markdown",
      "metadata": {
        "id": "kZ7WyPa9PLbp"
      },
      "source": [
        "__¿Qué sucedió?__ El error anterior se debe a que primero debemos importar el módulo _math_ de la siguiente manera:"
      ]
    },
    {
      "cell_type": "code",
      "metadata": {
        "id": "E0-qMBVVPTjP",
        "colab": {
          "base_uri": "https://localhost:8080/"
        },
        "outputId": "d18fa38e-3dc7-4df5-a1d8-9912a6a9690b"
      },
      "source": [
        "import math\n",
        "\n",
        "print(math.factorial(5))  # Ahora si! Mucho mejor..."
      ],
      "execution_count": null,
      "outputs": [
        {
          "output_type": "stream",
          "text": [
            "120\n"
          ],
          "name": "stdout"
        }
      ]
    },
    {
      "cell_type": "markdown",
      "metadata": {
        "id": "ZJPblvkGSN_d"
      },
      "source": [
        "## Errores de sintaxis, de tiempo de ejecución y lógicos\n",
        "\n",
        "Lamentablemente, cuando programamos tendremos errores. Podríamos categorizar a los errores en tres tipos: de sintaxis, de runtime y lógicos (o semánticos):\n",
        "\n",
        "* __Errores de sintaxis:__ (en inglés **_syntax errors_**) Estos errores se dan cuando el compilador/intérprete del lenguaje de programación no entiende lo que \"le queremos decir\".\n",
        "* __Errores en tiempo de ejecución:__ (en inglés **_runtime errors_**) Errores que ocurren cuando el programa está en ejecución.\n",
        "* __Errores lógicos:__ Son los errores de los programas cuando no resuelven el problema o arrojan resultados incorrectos."
      ]
    },
    {
      "cell_type": "code",
      "metadata": {
        "id": "UssYjP3DTh8Z",
        "colab": {
          "base_uri": "https://localhost:8080/",
          "height": 129
        },
        "outputId": "a22833b8-276f-4baf-da37-76ea90860808"
      },
      "source": [
        "# En la siguiente línea de código olvidaremos voluntariamente la comilla final\n",
        "# en el texto \"Uh oh!\"\n",
        "\n",
        "print(\"Uh oh!) # ERROR! missing close-quote\n",
        "\n",
        "# Python output:\n",
        "#   SyntaxError: EOL while scanning string literal"
      ],
      "execution_count": null,
      "outputs": [
        {
          "output_type": "error",
          "ename": "SyntaxError",
          "evalue": "ignored",
          "traceback": [
            "\u001b[0;36m  File \u001b[0;32m\"<ipython-input-9-48d5dbf4a346>\"\u001b[0;36m, line \u001b[0;32m4\u001b[0m\n\u001b[0;31m    print(\"Uh oh!) # ERROR! missing close-quote\u001b[0m\n\u001b[0m                                               ^\u001b[0m\n\u001b[0;31mSyntaxError\u001b[0m\u001b[0;31m:\u001b[0m EOL while scanning string literal\n"
          ]
        }
      ]
    },
    {
      "cell_type": "markdown",
      "metadata": {
        "id": "DgrumfGZUGnU"
      },
      "source": [
        "__Errores de runtime (tiempo de ejecución):__ estos errores se dan cuando las condiciones a las que llega el programa generan un error para un set de datos determinado."
      ]
    },
    {
      "cell_type": "code",
      "metadata": {
        "id": "oZqb1VyoUP15",
        "colab": {
          "base_uri": "https://localhost:8080/",
          "height": 214
        },
        "outputId": "cfd795b4-8a07-4e0f-9ed0-05b0ba5e88d4"
      },
      "source": [
        "print(1/0) # ERROR!  Division by zero!\n",
        "\n",
        "# Python output:\n",
        "#   ZeroDivisionError: integer division or modulo by zero"
      ],
      "execution_count": null,
      "outputs": [
        {
          "output_type": "error",
          "ename": "ZeroDivisionError",
          "evalue": "ignored",
          "traceback": [
            "\u001b[0;31m---------------------------------------------------------------------------\u001b[0m",
            "\u001b[0;31mZeroDivisionError\u001b[0m                         Traceback (most recent call last)",
            "\u001b[0;32m<ipython-input-10-2200416dc81a>\u001b[0m in \u001b[0;36m<module>\u001b[0;34m()\u001b[0m\n\u001b[0;32m----> 1\u001b[0;31m \u001b[0mprint\u001b[0m\u001b[0;34m(\u001b[0m\u001b[0;36m1\u001b[0m\u001b[0;34m/\u001b[0m\u001b[0;36m0\u001b[0m\u001b[0;34m)\u001b[0m \u001b[0;31m# ERROR!  Division by zero!\u001b[0m\u001b[0;34m\u001b[0m\u001b[0;34m\u001b[0m\u001b[0m\n\u001b[0m\u001b[1;32m      2\u001b[0m \u001b[0;34m\u001b[0m\u001b[0m\n\u001b[1;32m      3\u001b[0m \u001b[0;31m# Python output:\u001b[0m\u001b[0;34m\u001b[0m\u001b[0;34m\u001b[0m\u001b[0;34m\u001b[0m\u001b[0m\n\u001b[1;32m      4\u001b[0m \u001b[0;31m#   ZeroDivisionError: integer division or modulo by zero\u001b[0m\u001b[0;34m\u001b[0m\u001b[0;34m\u001b[0m\u001b[0;34m\u001b[0m\u001b[0m\n",
            "\u001b[0;31mZeroDivisionError\u001b[0m: division by zero"
          ]
        }
      ]
    },
    {
      "cell_type": "markdown",
      "metadata": {
        "id": "xtktqhggUWxR"
      },
      "source": [
        "__Errores de lógicos (o semánticos):__ estos errores se dan cuando el lenguaje entiende lo que tiene que hacer, lo hace pero no es lo que esperamos que haga."
      ]
    },
    {
      "cell_type": "code",
      "metadata": {
        "id": "SbQHmhXzWHB_",
        "colab": {
          "base_uri": "https://localhost:8080/"
        },
        "outputId": "c4b91592-5518-4b4f-884b-c8ec7a3298e7"
      },
      "source": [
        "print(\"2+2=5\") # ERROR!  Es incorrecto!!!\n",
        "\n",
        "# Salida de Python:\n",
        "#   2+2=5"
      ],
      "execution_count": null,
      "outputs": [
        {
          "output_type": "stream",
          "text": [
            "2+2=5\n"
          ],
          "name": "stdout"
        }
      ]
    },
    {
      "cell_type": "markdown",
      "metadata": {
        "id": "-4n2-Nw-XhzD"
      },
      "source": [
        "### Entrada de Datos Básica\n",
        "\n",
        "En los lenguajes de programación vamos a necesitar ingresar datos para resolver problemas. En Python, podemos solicitar la entrada de datos por teclado con la instrucción _input_.\n",
        "\n",
        "__Podemos ingresar textos (a partir de ahora _strings_):__"
      ]
    },
    {
      "cell_type": "code",
      "metadata": {
        "id": "6nzMO1ESYVCw",
        "colab": {
          "base_uri": "https://localhost:8080/"
        },
        "outputId": "4c296ed3-8a08-4f51-cae7-11aa60d87d07"
      },
      "source": [
        "# Ingresa un texto\n",
        "nombre = input(\"Ingresá tu nombre: \")\n",
        "\n",
        "# Lo muestra en pantalla\n",
        "print(\"Tu nombre es:\", nombre)"
      ],
      "execution_count": null,
      "outputs": [
        {
          "output_type": "stream",
          "text": [
            "Ingresá tu nombre: Juan Manuel\n",
            "Tu nombre es: Juan Manuel\n"
          ],
          "name": "stdout"
        }
      ]
    },
    {
      "cell_type": "code",
      "source": [],
      "metadata": {
        "id": "eStfqF4RDcL5"
      },
      "execution_count": null,
      "outputs": []
    },
    {
      "cell_type": "markdown",
      "metadata": {
        "id": "3it7YCQLY7qv"
      },
      "source": [
        "__Si ingresamos números debemos tener cuidado:__\n",
        "Python por defecto lo guardará como string (texto).\n"
      ]
    },
    {
      "cell_type": "code",
      "metadata": {
        "id": "XQ-DmG3nZHSw",
        "colab": {
          "base_uri": "https://localhost:8080/",
          "height": 197
        },
        "outputId": "4551c580-ad4d-4a97-d5aa-7ff9be5b9439"
      },
      "source": [
        "x = input(\"Ingrese un número: \")\n",
        "print(f\"La mitad de {x} es {x/2}\") # Error!"
      ],
      "execution_count": null,
      "outputs": [
        {
          "output_type": "stream",
          "text": [
            "Ingrese un número: 12\n"
          ],
          "name": "stdout"
        },
        {
          "output_type": "error",
          "ename": "TypeError",
          "evalue": "ignored",
          "traceback": [
            "\u001b[0;31m---------------------------------------------------------------------------\u001b[0m",
            "\u001b[0;31mTypeError\u001b[0m                                 Traceback (most recent call last)",
            "\u001b[0;32m<ipython-input-13-78410e10609e>\u001b[0m in \u001b[0;36m<module>\u001b[0;34m()\u001b[0m\n\u001b[1;32m      1\u001b[0m \u001b[0mx\u001b[0m \u001b[0;34m=\u001b[0m \u001b[0minput\u001b[0m\u001b[0;34m(\u001b[0m\u001b[0;34m\"Ingrese un número: \"\u001b[0m\u001b[0;34m)\u001b[0m\u001b[0;34m\u001b[0m\u001b[0;34m\u001b[0m\u001b[0m\n\u001b[0;32m----> 2\u001b[0;31m \u001b[0mprint\u001b[0m\u001b[0;34m(\u001b[0m\u001b[0;34mf\"La mitad de {x} es {x/2}\"\u001b[0m\u001b[0;34m)\u001b[0m \u001b[0;31m# Error!\u001b[0m\u001b[0;34m\u001b[0m\u001b[0;34m\u001b[0m\u001b[0m\n\u001b[0m",
            "\u001b[0;31mTypeError\u001b[0m: unsupported operand type(s) for /: 'str' and 'int'"
          ]
        }
      ]
    },
    {
      "cell_type": "markdown",
      "metadata": {
        "id": "oZxRpIypZeOL"
      },
      "source": [
        "Resolvemos esto con la función _int_, que convertirá el dato a numérico:"
      ]
    },
    {
      "cell_type": "code",
      "metadata": {
        "id": "GjDNjAneZmfd",
        "colab": {
          "base_uri": "https://localhost:8080/"
        },
        "outputId": "2a99953d-b1d4-4a75-87a2-e9c10cf1331f"
      },
      "source": [
        "# Agregamos la función int()\n",
        "x = int(input(\"Ingrese un número: \"))\n",
        "\n",
        "# Mostramos la mitad en pantalla\n",
        "print(f\"La mitad de {x} es {x/2}\") # Ahora funciona!\n"
      ],
      "execution_count": null,
      "outputs": [
        {
          "output_type": "stream",
          "text": [
            "Ingrese un número: 12\n",
            "La mitad de 12 es 6.0\n"
          ],
          "name": "stdout"
        }
      ]
    }
  ]
}